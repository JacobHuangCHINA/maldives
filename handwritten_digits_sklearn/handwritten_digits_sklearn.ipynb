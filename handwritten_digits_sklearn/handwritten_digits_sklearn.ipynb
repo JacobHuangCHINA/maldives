{
 "cells": [
  {
   "cell_type": "markdown",
   "metadata": {},
   "source": [
    "# Recognizing handwritten digits with scikit-learn\n",
    "\n",
    "## Introduction\n",
    "\n",
    "In this post, you will train a neural network to recognize handwritten digits. \n",
    "\n",
    "You will learn:  \n",
    "\n",
    "* the principles of supervised machine learning for classification\n",
    "* how to install easily the whole scientific python suite\n",
    "* how to access and validate the training data for your network\n",
    "* how to quantify the performance of your network\n",
    "* how to tune your network to improve performance\n",
    "\n",
    "This tutorial is meant for people with some basic knowledge of an object-oriented programming language. \n",
    "We will work in python, which is a wonderful choice for data science. If you're not a python developer but know a bit of C++ or java, for example, you'll be fine! And that will be an excellent occasion to get to know python and, who knows, fall in love with the snake?  \n",
    "\n",
    "As far as maths are concerned, fear not. You do not need to know statistics, linear algebra, or whatever. If you understand what is a probability, you're all set. \n",
    "\n",
    "\n",
    "## Machine learning for classification\n",
    "\n",
    "Given an image representing a digit, the network will try and classify the image in one of the following categories: 0, 1, 2, 3, 4, 5, 6, 7, 8, or 9. More precisely, the network will compute a probability for the image to belong to each of these categories, and we will select the category with the highest probability as the best estimate for this image. \n",
    "\n",
    "\n",
    "## Installing python and its scientific library\n",
    "\n",
    "**if you're already running this tutorial in your jupyter notebook, please skip this section.**\n",
    "\n",
    "We will use a variety of tools from scipy, the scientific python library: \n",
    "\n",
    "* scikit-learn: one of leading machine-learning toolkits for python. It will provide an easy access to the handwritten digits dataset, and allow us to define and train our neural network in a few lines of code\n",
    "* numpy: core package providing powerful tools to manipulate data arrays, such as our digit images\n",
    "* matplotlib: visualization tools, essential to check what we are doing\n",
    "* jupyter: the web server that will allow you to follow this tutorial and run the code in your web browser. \n",
    "\n",
    "Scipy is actually not a single library, but an \"ecosystem\" of interdependent python packages.\n",
    "\n",
    "This ecosystem is full of snakes and beasts fighting survival -- you do not want to hang in there alone.  \n",
    "\n",
    "And indeed, six years ago, when I first got started with scipy, I tried to install manually all the packages I needed on top of the version of python already installed in my system. \n",
    "\n",
    "I spent almost a day fighting against conflicting dependencies for these packages. For example, scikit-learn might need numpy version A, but pandas needs numpy version B. Or, one of these packages requires a version of python more recent than the one you have, meaning that you need to install an additional version of python and deal with your two versions later on.   \n",
    "\n",
    "And then, I discovered Anaconda. \n",
    "\n",
    "As stated on Anaconda's website: \n",
    "\n",
    "*With over 6 million users, the open source Anaconda Distribution is the fastest and easiest way to do Python and R data science and machine learning on Linux, Windows, and Mac OS X. It's the industry standard for developing, testing, and training on a single machine.*\n",
    "\n",
    "In a nutshell, the anaconda team maintains a repository of more than 1400 data science packages, all compatible, and provides tools to install a version of python and these packages at the push of a button, and under five minutes. \n",
    "\n",
    "Let's do it now. \n",
    "\n",
    "First, [download anaconda](https://www.anaconda.com/download/) for your system: \n",
    "\n",
    "* Choose the python 2.X version, not the 3.X version.\n",
    "* If you're using windows or linux, make sure to pick the 64bit installer if you have a 64bit system. \n",
    "\n",
    "Run the installer, and finally start the Anaconda Navigator. On windows, you can find it by clicking the windows start button, and typing anaconda. \n",
    "\n",
    "In the Anaconda Navigator window, click on the Home tab, and launch the jupyter notebook. \n",
    "\n",
    "Create a new notebook. In your notebook, you should see an empty cell, where you can write python code. Copy-paste the following lines, and execute the cell by pressing shift + enter.  \n",
    "\n",
    "```python\n",
    "print 'hello world!'\n",
    "for i in range(10):\n",
    "    print i\n",
    "```\n",
    "\n",
    "A new cell appears. Import numpy and matplotlib (remember that you need to execute the cell):\n",
    "\n",
    "```python\n",
    "import matplotlib.pyplot as plt \n",
    "import numpy as np \n",
    "```\n",
    "\n",
    "This is a standard way to import these modules: \n",
    "\n",
    "* the pyplot module of matplotlib is called plt in this context\n",
    "* the numpy module is called np \n",
    "\n",
    "You can very well choose other names, but these ones are used by almost everybody, so it's easier to use them as well. \n",
    "\n",
    "Now let's try and do our first plot, just to make sure that numpy and matplotlib are working:\n",
    "\n",
    "```python \n",
    "# create an array with evenly spaced values, from 0 to 10 \n",
    "x = np.linspace(0, 10, 11)\n",
    "print x \n",
    "# create a new array. x**2 means that each element of x is squared\n",
    "y = x**2\n",
    "print y\n",
    "# plot y versus x, you should get a parabola. check that for x = 1, y = 1, and that for x = 2, y = 4. \n",
    "plt.plot(x, y)\n",
    "```\n",
    "\n",
    "**A word of caution:**\n",
    "\n",
    "It is easy to get lost in the documentation of all these tools, and to waste a lot of time. \n",
    "\n",
    "For example, if you check the documentation of the plt.plot method (I won't give you the link ;-) but you could google it), you will see that there are lots of ways to call it, with many optional parameters. But after all, do we need to know more than this: `plt.plot(x,y)` plots y vs x ? \n",
    "\n",
    "If you want to have fun, I suggest to follow this tutorial until the end without digging deeper. \n",
    "\n",
    "You'll train your first neural net easily and in the process, you'll get an understanding of the most important scikit-learn, numpy, and matplotlib tools. That's more than enough for a variety of machine learning tasks, and you can always learn more about specific features of these tools when you need them later on (you'll know!) \n",
    "\n",
    "\n",
    "## How does a neural network learn? \n",
    "\n",
    "**Drawing: digit, neural net, result**\n",
    "\n",
    "Presented with an image of a digit, the network \n",
    "\n",
    "* Framing the problem: explain\n",
    "    * what is a neural network\n",
    "    * training\n",
    "    * classification accuracy \n"
   ]
  },
  {
   "cell_type": "markdown",
   "metadata": {},
   "source": [
    "## The MNIST digits dataset\n",
    "\n",
    "scikit-learn comes with several test datasets. Let's load the MNIST handwritten digits dataset, and let's print some information about this dataset:"
   ]
  },
  {
   "cell_type": "code",
   "execution_count": null,
   "metadata": {},
   "outputs": [],
   "source": [
    "from sklearn import datasets\n",
    "digits = datasets.load_digits()"
   ]
  },
  {
   "cell_type": "code",
   "execution_count": 6,
   "metadata": {
    "scrolled": true
   },
   "outputs": [
    {
     "name": "stdout",
     "output_type": "stream",
     "text": [
      ".. _digits_dataset:\n",
      "\n",
      "Optical recognition of handwritten digits dataset\n",
      "--------------------------------------------------\n",
      "\n",
      "**Data Set Characteristics:**\n",
      "\n",
      "    :Number of Instances: 5620\n",
      "    :Number of Attributes: 64\n",
      "    :Attribute Information: 8x8 image of integer pixels in the range 0..16.\n",
      "    :Missing Attribute Values: None\n",
      "    :Creator: E. Alpaydin (alpaydin '@' boun.edu.tr)\n",
      "    :Date: July; 1998\n",
      "\n",
      "This is a copy of the test set of the UCI ML hand-written digits datasets\n",
      "http://archive.ics.uci.edu/ml/datasets/Optical+Recognition+of+Handwritten+Digits\n",
      "\n",
      "The data set contains images of hand-written digits: 10 classes where\n",
      "each class refers to a digit.\n",
      "\n",
      "Preprocessing programs made available by NIST were used to extract\n",
      "normalized bitmaps of handwritten digits from a preprinted form. From a\n",
      "total of 43 people, 30 contributed to the training set and different 13\n",
      "to the test set. 32x32 bitmaps are divided into nonoverlapping blocks of\n",
      "4x4 and the number of on pixels are counted in each block. This generates\n",
      "an input matrix of 8x8 where each element is an integer in the range\n",
      "0..16. This reduces dimensionality and gives invariance to small\n",
      "distortions.\n",
      "\n",
      "For info on NIST preprocessing routines, see M. D. Garris, J. L. Blue, G.\n",
      "T. Candela, D. L. Dimmick, J. Geist, P. J. Grother, S. A. Janet, and C.\n",
      "L. Wilson, NIST Form-Based Handprint Recognition System, NISTIR 5469,\n",
      "1994.\n",
      "\n",
      ".. topic:: References\n",
      "\n",
      "  - C. Kaynak (1995) Methods of Combining Multiple Classifiers and Their\n",
      "    Applications to Handwritten Digit Recognition, MSc Thesis, Institute of\n",
      "    Graduate Studies in Science and Engineering, Bogazici University.\n",
      "  - E. Alpaydin, C. Kaynak (1998) Cascading Classifiers, Kybernetika.\n",
      "  - Ken Tang and Ponnuthurai N. Suganthan and Xi Yao and A. Kai Qin.\n",
      "    Linear dimensionalityreduction using relevance weighted LDA. School of\n",
      "    Electrical and Electronic Engineering Nanyang Technological University.\n",
      "    2005.\n",
      "  - Claudio Gentile. A New Approximate Maximal Margin Classification\n",
      "    Algorithm. NIPS. 2000.\n"
     ]
    }
   ],
   "source": [
    "print digits.DESCR"
   ]
  },
  {
   "cell_type": "markdown",
   "metadata": {},
   "source": [
    "In python, the `dir` function returns the names of the attributes of an object. Let's use this function to check what can be found in the digits object:"
   ]
  },
  {
   "cell_type": "code",
   "execution_count": 7,
   "metadata": {},
   "outputs": [
    {
     "data": {
      "text/plain": [
       "['DESCR', 'data', 'images', 'target', 'target_names']"
      ]
     },
     "execution_count": 7,
     "metadata": {},
     "output_type": "execute_result"
    }
   ],
   "source": [
    "dir(digits)"
   ]
  },
  {
   "cell_type": "markdown",
   "metadata": {},
   "source": [
    "We have already printed DESCR, which is the description of the dataset. Let's have a look in more details at the other attributes. We are going to start by checking the type of each attribute:"
   ]
  },
  {
   "cell_type": "code",
   "execution_count": 30,
   "metadata": {},
   "outputs": [
    {
     "name": "stdout",
     "output_type": "stream",
     "text": [
      "<type 'str'>\n",
      "<type 'numpy.ndarray'>\n",
      "<type 'numpy.ndarray'>\n",
      "<type 'numpy.ndarray'>\n",
      "<type 'numpy.ndarray'>\n"
     ]
    }
   ],
   "source": [
    "for attr in dir(digits):\n",
    "    print type(getattr(digits, attr))"
   ]
  },
  {
   "cell_type": "markdown",
   "metadata": {},
   "source": [
    "data, images, target, and target names are all ndarrays (N-dimensional arrays) from the numpy package. The shape attribute of an ndarray gives the number of dimensions and the size along each dimension of the array. For example:"
   ]
  },
  {
   "cell_type": "code",
   "execution_count": 8,
   "metadata": {},
   "outputs": [
    {
     "data": {
      "text/plain": [
       "(1797L, 8L, 8L)"
      ]
     },
     "execution_count": 8,
     "metadata": {},
     "output_type": "execute_result"
    }
   ],
   "source": [
    "digits.images.shape"
   ]
  },
  {
   "cell_type": "markdown",
   "metadata": {},
   "source": [
    "digits.image is an array with 3 dimensions. The first dimension indexes images, and we see that we have 1797 images in total. The next two dimensions correspond to the x and y coordinates of the pixels in each image. Each image has 8x8 = 64 pixels. In other words, this array could be represented in 3D as a pile of images with 8x8 pixels each. Let's plot the first image:"
   ]
  },
  {
   "cell_type": "code",
   "execution_count": 45,
   "metadata": {},
   "outputs": [
    {
     "data": {
      "text/plain": [
       "<matplotlib.image.AxesImage at 0xb8adb00>"
      ]
     },
     "execution_count": 45,
     "metadata": {},
     "output_type": "execute_result"
    },
    {
     "data": {
      "image/png": "[encoded data removed]",
      "text/plain": [
       "<Figure size 432x288 with 1 Axes>"
      ]
     },
     "metadata": {
      "needs_background": "light"
     },
     "output_type": "display_data"
    }
   ],
   "source": [
    "plt.imshow(digits.images[0])"
   ]
  },
  {
   "cell_type": "markdown",
   "metadata": {},
   "source": [
    "In the same way, we can investigate the target attribute. It is a 1-dimensional array with 1797 slots. Looking into the array, we see that it contains the true numbers corresponding to each image. For example, the first target is 0, and corresponds to the image drawn just above.  "
   ]
  },
  {
   "cell_type": "code",
   "execution_count": 40,
   "metadata": {
    "scrolled": true
   },
   "outputs": [
    {
     "name": "stdout",
     "output_type": "stream",
     "text": [
      "(1797L,)\n",
      "[0 1 2 ... 8 9 8]\n"
     ]
    }
   ],
   "source": [
    "print digits.target.shape\n",
    "print digits.target"
   ]
  },
  {
   "cell_type": "markdown",
   "metadata": {},
   "source": [
    "Our brain is already trained to recognize a zero when looking at the image above because it was presented with many images of zeros in the past. In the same way, we will train an artificial neural network to recognize digits. At first, the neural network will not be able to recognize anything. To train it, we will present the network with an image from digits.image, together with the actual number this image is supposed to represent, from digits.target. But before doing that, let's have a look at some more images using this function: "
   ]
  },
  {
   "cell_type": "code",
   "execution_count": 34,
   "metadata": {},
   "outputs": [],
   "source": [
    "def plot_multi(i):\n",
    "    '''Plots 16 digits, starting with digit i'''\n",
    "    nplots = 16\n",
    "    fig = plt.figure(figsize=(15,15))\n",
    "    for j in range(nplots):\n",
    "        plt.subplot(4,4,j+1)\n",
    "        plt.imshow(digits.images[i+j])\n",
    "        plt.title(digits.target[i+j])\n",
    "        plt.axis('off')\n",
    "    plt.show()"
   ]
  },
  {
   "cell_type": "code",
   "execution_count": 48,
   "metadata": {
    "scrolled": true
   },
   "outputs": [
    {
     "data": {
      "image/png": "[encoded data removed]",
      "text/plain": [
       "<Figure size 1080x1080 with 16 Axes>"
      ]
     },
     "metadata": {
      "needs_background": "light"
     },
     "output_type": "display_data"
    }
   ],
   "source": [
    "plot_multi(0)"
   ]
  },
  {
   "cell_type": "markdown",
   "metadata": {},
   "source": [
    "you can have a look at the next digits by calling `plot_multi(16)`, `plot_multi(32)`, etc. You will probably see that with such a low resolution, it's quite difficult to recognize some of the digits, even for a human. In these conditions, our neural network will also be limited by the low quality of the input images. But can the neural network perform at least as well as a human? "
   ]
  },
  {
   "cell_type": "code",
   "execution_count": null,
   "metadata": {},
   "outputs": [],
   "source": []
  }
 ],
 "metadata": {
  "kernelspec": {
   "display_name": "Python 2",
   "language": "python",
   "name": "python2"
  },
  "language_info": {
   "codemirror_mode": {
    "name": "ipython",
    "version": 2
   },
   "file_extension": ".py",
   "mimetype": "text/x-python",
   "name": "python",
   "nbconvert_exporter": "python",
   "pygments_lexer": "ipython2",
   "version": "2.7.15"
  }
 },
 "nbformat": 4,
 "nbformat_minor": 2
}
