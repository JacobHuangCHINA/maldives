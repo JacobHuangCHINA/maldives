{
 "cells": [
  {
   "cell_type": "markdown",
   "metadata": {},
   "source": [
    "## Why machine learning? \n",
    "\n",
    "* give a few applications \n",
    "* explain why machine learning is superior to procedural programming\n",
    "* convince programmers they must learn it, and companies they must board the train now"
   ]
  },
  {
   "cell_type": "markdown",
   "metadata": {},
   "source": [
    "## Machine learning for classification\n",
    "\n",
    "Let's get a basic feel for how a neural network can be trained for classification. \n",
    "\n",
    "In this post, our goal is to get started hands on with machine learning fast and easy, so this explanation of machine learning is over simplified. But there will definitely be a more detailed post about the training principles later on, so stay tuned if you're interested. \n",
    "\n",
    "![Supervised learning](https://github.com/cbernet/maldives/raw/master/handwritten_digits_sklearn/supervised_learning.png)\n",
    "\n",
    "The network is presented with a succession of training examples. Each training example consists of: \n",
    "\n",
    "* the image of a digit\n",
    "* a label, which tells us which digit the image truly represents. For a given image, the label could be told to us by the person who wrote the digit in the first place. \n",
    "\n",
    "In the drawing above, the first image is processed by the neural network, which produces an answer: this is a 9.  \n",
    "At first, the connections between the neurons in the network are random, and the network is not able to do anything useful. It just provides a random answer. \n",
    "\n",
    "The answer is compared to the label. In this case, the answer (9) is different from the label (the digit is actually a 3), and some feedback is given to the neural network so that it can improve. The connections between the neurons are modified, favouring the ones that tend to give a correct answer. \n",
    "\n",
    "After the modification, the next examples are considered, and the neural network learns in an iterative process. \n",
    "\n",
    "The number of training examples needed to train the network properly could be of the order of a few hundred for networks with a simple architecture, and millions for complex networks.  \n",
    "\n",
    "## Installing python and its scientific library\n",
    "\n",
    "**if you're already running this tutorial in your jupyter notebook, please skip this section.**\n",
    "\n",
    "We will use a variety of tools from scipy, the scientific python library: \n",
    "\n",
    "* **scikit-learn**: one of leading machine-learning toolkits for python. It will provide an easy access to the handwritten digits dataset, and allow us to define and train our neural network in a few lines of code\n",
    "* **numpy**: core package providing powerful tools to manipulate data arrays, such as our digit images\n",
    "* **matplotlib**: visualization tools, essential to check what we are doing\n",
    "* **jupyter**: the web server that will allow you to follow this tutorial and run the code in your web browser. \n",
    "\n",
    "Scipy is actually not a single library, but an \"ecosystem\" of interdependent python packages.\n",
    "\n",
    "This ecosystem is full of snakes and beasts fighting survival -- you do not want to hang in there alone.  \n",
    "\n",
    "And indeed, six years ago, when I first got started with scipy, I tried to install manually all the packages I needed on top of the version of python already installed in my system. \n",
    "\n",
    "I spent almost a day fighting against conflicting dependencies for these packages. For example, scikit-learn might need numpy version A, but pandas needs numpy version B. Or, one of these packages requires a version of python more recent than the one you have, meaning that you need to install an additional version of python and deal with your two versions later on.   \n",
    "\n",
    "And then, I discovered Anaconda. \n",
    "\n",
    "As stated on Anaconda's website: \n",
    "\n",
    "*With over 6 million users, the open source Anaconda Distribution is the fastest and easiest way to do Python and R data science and machine learning on Linux, Windows, and Mac OS X. It's the industry standard for developing, testing, and training on a single machine.*\n",
    "\n",
    "In a nutshell, the anaconda team maintains a repository of more than 1400 data science packages, all compatible, and provides tools to install a version of python and these packages at the push of a button, and under five minutes. \n",
    "\n",
    "Let's do it now!\n",
    "\n",
    "First, [download anaconda](https://www.anaconda.com/download/) for your system: \n",
    "\n",
    "* Choose the python 2.X version, not the 3.X version.\n",
    "* If you're using windows or linux, make sure to pick the 64bit installer if you have a 64bit system. \n",
    "\n",
    "Run the installer, and finally start the Anaconda Navigator. On windows, you can find it by clicking the windows start button, and typing anaconda. \n",
    "\n",
    "In the Anaconda Navigator window, click on the Home tab, and launch the jupyter notebook. \n",
    "\n",
    "Create a new notebook. In your notebook, you should see an empty cell, where you can write python code. Copy-paste the following lines, and execute the cell by pressing shift + enter.  \n",
    "\n",
    "```python\n",
    "print 'hello world!'\n",
    "for i in range(10):\n",
    "    print i\n",
    "```\n",
    "\n",
    "A new cell appears. Import numpy and matplotlib (remember that you need to execute the cell):\n",
    "\n",
    "```python\n",
    "import matplotlib.pyplot as plt \n",
    "import numpy as np \n",
    "```\n",
    "\n",
    "This is a standard way to import these modules: \n",
    "\n",
    "* the pyplot module of matplotlib is called plt in this context\n",
    "* the numpy module is called np \n",
    "\n",
    "You can very well choose other names, but these ones are used by almost everybody, so it's easier to use them as well. \n",
    "\n",
    "Now let's try and do our first plot, just to make sure that numpy and matplotlib are working:\n",
    "\n",
    "```python \n",
    "# create a numpy 1-D array with evenly spaced values, from 0 to 10 \n",
    "x = np.linspace(0, 10, 11)\n",
    "print x \n",
    "# create a new numpy array. x**2 means that each element of x is squared\n",
    "y = x**2\n",
    "print y\n",
    "# plot y versus x, you should get a parabola. check that for x = 1 we have y = 1, and that for x = 2, y = 4. \n",
    "plt.plot(x, y)\n",
    "```\n",
    "\n",
    "--- \n",
    "\n",
    "**A word of caution:**\n",
    "\n",
    "It is easy to get lost in the documentation of all these tools, and to waste a lot of time. \n",
    "\n",
    "For example, if you check the documentation of the plt.plot method (I won't give you the link ;-) but you could google it), you will see that there are lots of ways to call it, with many optional parameters. But after all, do we need to know more than this: `plt.plot(x,y)` plots y vs x ? \n",
    "\n",
    "If you want to have fun, I suggest to follow this tutorial until the end without digging deeper. \n",
    "\n",
    "You'll train your first neural net easily and in the process, you'll get an understanding of the most important scikit-learn, numpy, and matplotlib tools. That's more than enough for a variety of machine learning tasks, and you can always learn more about specific features of these tools when you need them later on (you'll know!) \n",
    "\n",
    "---"
   ]
  },
  {
   "cell_type": "markdown",
   "metadata": {},
   "source": [
    "Now that you have access to the jupyter notebook, I have good news. You won't need to keep copy-pasting code from this page to your notebook. Instead, just download [this notebook](https://github.com/cbernet/maldives/blob/master/handwritten_digits_sklearn/handwritten_digits_sklearn.ipynb) and open it with the jupyter notebook. \n",
    "\n",
    "**FIND A WAY TO PROVIDE DIRECT DOWNLOAD ACCESS TO THE NOTEBOOK. THINK ABOUT ADDITIONAL FILES LIKE IMAGES**"
   ]
  },
  {
   "cell_type": "markdown",
   "metadata": {},
   "source": [
    "## The MNIST digits dataset\n",
    "\n",
    "scikit-learn comes with several test datasets. Let's load the MNIST handwritten digits dataset, and let's print some information about this dataset:"
   ]
  },
  {
   "cell_type": "code",
   "execution_count": 132,
   "metadata": {},
   "outputs": [],
   "source": [
    "from sklearn import datasets\n",
    "digits = datasets.load_digits()"
   ]
  },
  {
   "cell_type": "markdown",
   "metadata": {},
   "source": [
    "In python, the `dir` function returns the names of the attributes of an object. Let's use this function to check what can be found in the digits object:"
   ]
  },
  {
   "cell_type": "code",
   "execution_count": 133,
   "metadata": {},
   "outputs": [
    {
     "data": {
      "text/plain": [
       "['DESCR', 'data', 'images', 'target', 'target_names']"
      ]
     },
     "execution_count": 133,
     "metadata": {},
     "output_type": "execute_result"
    }
   ],
   "source": [
    "dir(digits)"
   ]
  },
  {
   "cell_type": "markdown",
   "metadata": {},
   "source": [
    "Let's have a look in more details at the other attributes. We are going to start by checking the type of each attribute:"
   ]
  },
  {
   "cell_type": "code",
   "execution_count": 134,
   "metadata": {},
   "outputs": [
    {
     "name": "stdout",
     "output_type": "stream",
     "text": [
      "<type 'str'>\n",
      "<type 'numpy.ndarray'>\n",
      "<type 'numpy.ndarray'>\n",
      "<type 'numpy.ndarray'>\n",
      "<type 'numpy.ndarray'>\n"
     ]
    }
   ],
   "source": [
    "for attr in dir(digits):\n",
    "    print type(getattr(digits, attr))"
   ]
  },
  {
   "cell_type": "markdown",
   "metadata": {},
   "source": [
    "data, images, target, and target names are all ndarrays (N-dimensional arrays) from the numpy package. The shape attribute of an ndarray gives the number of dimensions and the size along each dimension of the array. For example:"
   ]
  },
  {
   "cell_type": "code",
   "execution_count": 135,
   "metadata": {},
   "outputs": [
    {
     "data": {
      "text/plain": [
       "(1797, 8, 8)"
      ]
     },
     "execution_count": 135,
     "metadata": {},
     "output_type": "execute_result"
    }
   ],
   "source": [
    "digits.images.shape"
   ]
  },
  {
   "cell_type": "markdown",
   "metadata": {},
   "source": [
    "digits.image is an array with 3 dimensions. The first dimension indexes images, and we see that we have 1797 images in total. The next two dimensions correspond to the x and y coordinates of the pixels in each image. Each image has 8x8 = 64 pixels. In other words, this array could be represented in 3D as a pile of images with 8x8 pixels each. Let's plot the first image:"
   ]
  },
  {
   "cell_type": "markdown",
   "metadata": {},
   "source": [
    "let's look at the data of the first 8x8 image. Each slot in the array corresponds to a pixel, and the value in the slot is the amount of black in the pixel"
   ]
  },
  {
   "cell_type": "code",
   "execution_count": 136,
   "metadata": {},
   "outputs": [
    {
     "name": "stdout",
     "output_type": "stream",
     "text": [
      "[[ 0.  0.  5. 13.  9.  1.  0.  0.]\n",
      " [ 0.  0. 13. 15. 10. 15.  5.  0.]\n",
      " [ 0.  3. 15.  2.  0. 11.  8.  0.]\n",
      " [ 0.  4. 12.  0.  0.  8.  8.  0.]\n",
      " [ 0.  5.  8.  0.  0.  9.  8.  0.]\n",
      " [ 0.  4. 11.  0.  1. 12.  7.  0.]\n",
      " [ 0.  2. 14.  5. 10. 12.  0.  0.]\n",
      " [ 0.  0.  6. 13. 10.  0.  0.  0.]]\n"
     ]
    }
   ],
   "source": [
    "print digits.images[0]"
   ]
  },
  {
   "cell_type": "markdown",
   "metadata": {},
   "source": [
    "Now let's display this image:"
   ]
  },
  {
   "cell_type": "code",
   "execution_count": 137,
   "metadata": {},
   "outputs": [
    {
     "data": {
      "text/plain": [
       "<matplotlib.image.AxesImage at 0x1a20560ad0>"
      ]
     },
     "execution_count": 137,
     "metadata": {},
     "output_type": "execute_result"
    },
    {
     "data": {
      "image/png": "[encoded data removed]",
      "text/plain": [
       "<Figure size 432x288 with 1 Axes>"
      ]
     },
     "metadata": {
      "needs_background": "light"
     },
     "output_type": "display_data"
    }
   ],
   "source": [
    "import matplotlib.pyplot as plt\n",
    "plt.imshow(digits.images[0],cmap='binary')"
   ]
  },
  {
   "cell_type": "markdown",
   "metadata": {},
   "source": [
    "The image is low resolution. The original digits were of much higher resolution, and the resolution has been decreased when creating the dataset to make it easier to train a machine learning algorithm to recognize these digits. \n",
    "\n",
    "Now let's investigate the target attribute. It is a 1-dimensional array with 1797 slots. Looking into the array, we see that it contains the true numbers corresponding to each image. For example, the first target is 0, and corresponds to the image drawn just above.  "
   ]
  },
  {
   "cell_type": "code",
   "execution_count": 138,
   "metadata": {
    "scrolled": true
   },
   "outputs": [
    {
     "name": "stdout",
     "output_type": "stream",
     "text": [
      "(1797,)\n",
      "[0 1 2 ... 8 9 8]\n"
     ]
    }
   ],
   "source": [
    "print digits.target.shape\n",
    "print digits.target"
   ]
  },
  {
   "cell_type": "markdown",
   "metadata": {},
   "source": [
    "Let's have a look at some more images using this function: "
   ]
  },
  {
   "cell_type": "code",
   "execution_count": 139,
   "metadata": {},
   "outputs": [],
   "source": [
    "def plot_multi(i):\n",
    "    '''Plots 16 digits, starting with digit i'''\n",
    "    nplots = 16\n",
    "    fig = plt.figure(figsize=(15,15))\n",
    "    for j in range(nplots):\n",
    "        plt.subplot(4,4,j+1)\n",
    "        plt.imshow(digits.images[i+j], cmap='binary')\n",
    "        plt.title(digits.target[i+j])\n",
    "        plt.axis('off')\n",
    "    plt.show()"
   ]
  },
  {
   "cell_type": "code",
   "execution_count": 140,
   "metadata": {
    "scrolled": true
   },
   "outputs": [
    {
     "data": {
      "image/png": "[encoded data removed]",
      "text/plain": [
       "<Figure size 1080x1080 with 16 Axes>"
      ]
     },
     "metadata": {
      "needs_background": "light"
     },
     "output_type": "display_data"
    }
   ],
   "source": [
    "plot_multi(0)"
   ]
  },
  {
   "cell_type": "markdown",
   "metadata": {},
   "source": [
    "you can have a look at the next digits by calling `plot_multi(16)`, `plot_multi(32)`, etc. You will probably see that with such a low resolution, it's quite difficult to recognize some of the digits, even for a human. In these conditions, our neural network will also be limited by the low quality of the input images. Can the neural network perform at least as well as a human? It would already be a good achievement! "
   ]
  },
  {
   "cell_type": "code",
   "execution_count": null,
   "metadata": {},
   "outputs": [],
   "source": []
  },
  {
   "cell_type": "markdown",
   "metadata": {},
   "source": [
    "## Building the network and preparing the input data"
   ]
  },
  {
   "cell_type": "markdown",
   "metadata": {},
   "source": [
    "With [scikit-learn](https://scikit-learn.org), creating, training, and evaluating a neural network can be done with only a few lines of code. \n",
    "\n",
    "We will make a very simple neural network, with three layers: \n",
    "\n",
    "* an input layer, which will map to the pixels in the input image\n",
    "* a hidden layer\n",
    "* an output layer with 10 neurons corresponding to our 10 classes of digits, from 0 to 9. \n"
   ]
  },
  {
   "cell_type": "markdown",
   "metadata": {},
   "source": [
    "A multilayer perceptron requires a 1-dimensional array in input, but our images are 2-d. So we need to flatten all images:"
   ]
  },
  {
   "cell_type": "code",
   "execution_count": 141,
   "metadata": {},
   "outputs": [
    {
     "data": {
      "text/plain": [
       "(1797, 64)"
      ]
     },
     "execution_count": 141,
     "metadata": {},
     "output_type": "execute_result"
    }
   ],
   "source": [
    "x, y = digits.images, digits.target\n",
    "x = digits.images.reshape((len(digits.images), -1))\n",
    "x.shape"
   ]
  },
  {
   "cell_type": "markdown",
   "metadata": {},
   "source": [
    "We now have 1797 flattened images. The two dimensions of our 8x8 images have been collapsed into a single dimension by  writing the rows of 8 pixels as they come, one after the other. The first image that we looked at earlier is now represented by a 1-D array with 8x8 = 64 slots. Please check that the values are the same as in the original 2-D image. "
   ]
  },
  {
   "cell_type": "code",
   "execution_count": 142,
   "metadata": {
    "scrolled": true
   },
   "outputs": [
    {
     "data": {
      "text/plain": [
       "array([ 0.,  0.,  5., 13.,  9.,  1.,  0.,  0.,  0.,  0., 13., 15., 10.,\n",
       "       15.,  5.,  0.,  0.,  3., 15.,  2.,  0., 11.,  8.,  0.,  0.,  4.,\n",
       "       12.,  0.,  0.,  8.,  8.,  0.,  0.,  5.,  8.,  0.,  0.,  9.,  8.,\n",
       "        0.,  0.,  4., 11.,  0.,  1., 12.,  7.,  0.,  0.,  2., 14.,  5.,\n",
       "       10., 12.,  0.,  0.,  0.,  0.,  6., 13., 10.,  0.,  0.,  0.])"
      ]
     },
     "execution_count": 142,
     "metadata": {},
     "output_type": "execute_result"
    }
   ],
   "source": [
    "x[0]"
   ]
  },
  {
   "cell_type": "markdown",
   "metadata": {},
   "source": [
    "let's now split our data into a training sample and a testing sample:"
   ]
  },
  {
   "cell_type": "code",
   "execution_count": 143,
   "metadata": {},
   "outputs": [],
   "source": [
    "x_train = x[:1000]\n",
    "y_train = y[:1000]\n",
    "x_test = x[1000:]\n",
    "y_test = y[1000:]"
   ]
  },
  {
   "cell_type": "markdown",
   "metadata": {},
   "source": [
    "We can now create our multilayer perceptron. As a first try, we use one hidden layers with 50 neurons. The output layer must have exactly 10 neurons because we want to classify our digits in 10 categories. Don't pay attention to the other parameters, we'll cover that in future posts."
   ]
  },
  {
   "cell_type": "code",
   "execution_count": 144,
   "metadata": {},
   "outputs": [],
   "source": [
    "from sklearn.neural_network import MLPClassifier\n",
    "\n",
    "mlp = MLPClassifier(hidden_layer_sizes=(50,), activation='logistic', alpha=1e-4,\n",
    "                    solver='sgd', tol=1e-4, random_state=1,\n",
    "                    learning_rate_init=.1, verbose=True)\n",
    "mlp.classes_ = range(10)\n"
   ]
  },
  {
   "cell_type": "markdown",
   "metadata": {},
   "source": [
    "Finally, we can train the MLP: "
   ]
  },
  {
   "cell_type": "code",
   "execution_count": 145,
   "metadata": {},
   "outputs": [
    {
     "name": "stdout",
     "output_type": "stream",
     "text": [
      "Iteration 1, loss = 2.15019610\n",
      "Iteration 2, loss = 1.49780507\n",
      "Iteration 3, loss = 0.91623697\n",
      "Iteration 4, loss = 0.54269819\n",
      "Iteration 5, loss = 0.33536513\n",
      "Iteration 6, loss = 0.22530172\n",
      "Iteration 7, loss = 0.16567440\n",
      "Iteration 8, loss = 0.12843622\n",
      "Iteration 9, loss = 0.10363953\n",
      "Iteration 10, loss = 0.08751211\n",
      "Iteration 11, loss = 0.07594162\n",
      "Iteration 12, loss = 0.06681904\n",
      "Iteration 13, loss = 0.06052683\n",
      "Iteration 14, loss = 0.05464128\n",
      "Iteration 15, loss = 0.04954497\n",
      "Iteration 16, loss = 0.04541317\n",
      "Iteration 17, loss = 0.04266085\n",
      "Iteration 18, loss = 0.03966078\n",
      "Iteration 19, loss = 0.03651245\n",
      "Iteration 20, loss = 0.03428558\n",
      "Iteration 21, loss = 0.03250458\n",
      "Iteration 22, loss = 0.03085384\n",
      "Iteration 23, loss = 0.02933832\n",
      "Iteration 24, loss = 0.02790287\n",
      "Iteration 25, loss = 0.02672239\n",
      "Iteration 26, loss = 0.02536589\n",
      "Iteration 27, loss = 0.02435473\n",
      "Iteration 28, loss = 0.02329219\n",
      "Iteration 29, loss = 0.02250241\n",
      "Iteration 30, loss = 0.02158760\n",
      "Iteration 31, loss = 0.02088018\n",
      "Iteration 32, loss = 0.02028292\n",
      "Iteration 33, loss = 0.01950331\n",
      "Iteration 34, loss = 0.01897503\n",
      "Iteration 35, loss = 0.01829080\n",
      "Iteration 36, loss = 0.01774998\n",
      "Iteration 37, loss = 0.01722708\n",
      "Iteration 38, loss = 0.01676523\n",
      "Iteration 39, loss = 0.01634158\n",
      "Iteration 40, loss = 0.01593722\n",
      "Iteration 41, loss = 0.01545375\n",
      "Iteration 42, loss = 0.01508451\n",
      "Iteration 43, loss = 0.01477830\n",
      "Iteration 44, loss = 0.01434790\n",
      "Iteration 45, loss = 0.01400548\n",
      "Iteration 46, loss = 0.01366573\n",
      "Iteration 47, loss = 0.01336029\n",
      "Iteration 48, loss = 0.01308567\n",
      "Iteration 49, loss = 0.01281038\n",
      "Iteration 50, loss = 0.01251213\n",
      "Iteration 51, loss = 0.01225689\n",
      "Iteration 52, loss = 0.01202458\n",
      "Iteration 53, loss = 0.01175606\n",
      "Iteration 54, loss = 0.01157799\n",
      "Iteration 55, loss = 0.01131586\n",
      "Iteration 56, loss = 0.01108260\n",
      "Iteration 57, loss = 0.01089283\n",
      "Iteration 58, loss = 0.01065500\n",
      "Iteration 59, loss = 0.01047670\n",
      "Iteration 60, loss = 0.01029393\n",
      "Iteration 61, loss = 0.01011194\n",
      "Iteration 62, loss = 0.00990699\n",
      "Iteration 63, loss = 0.00973053\n",
      "Iteration 64, loss = 0.00957435\n",
      "Iteration 65, loss = 0.00941280\n",
      "Iteration 66, loss = 0.00926523\n",
      "Iteration 67, loss = 0.00909537\n",
      "Iteration 68, loss = 0.00897125\n",
      "Iteration 69, loss = 0.00881597\n",
      "Iteration 70, loss = 0.00866834\n",
      "Iteration 71, loss = 0.00856316\n",
      "Iteration 72, loss = 0.00843640\n",
      "Iteration 73, loss = 0.00827574\n",
      "Iteration 74, loss = 0.00818978\n",
      "Iteration 75, loss = 0.00803294\n",
      "Iteration 76, loss = 0.00793408\n",
      "Iteration 77, loss = 0.00781494\n",
      "Iteration 78, loss = 0.00770416\n",
      "Iteration 79, loss = 0.00760672\n",
      "Iteration 80, loss = 0.00750419\n",
      "Iteration 81, loss = 0.00739368\n",
      "Iteration 82, loss = 0.00729570\n",
      "Iteration 83, loss = 0.00720421\n",
      "Iteration 84, loss = 0.00711990\n",
      "Training loss did not improve more than tol=0.000100 for two consecutive epochs. Stopping.\n"
     ]
    },
    {
     "data": {
      "text/plain": [
       "MLPClassifier(activation='logistic', alpha=0.0001, batch_size='auto',\n",
       "       beta_1=0.9, beta_2=0.999, early_stopping=False, epsilon=1e-08,\n",
       "       hidden_layer_sizes=(50,), learning_rate='constant',\n",
       "       learning_rate_init=0.1, max_iter=200, momentum=0.9,\n",
       "       nesterovs_momentum=True, power_t=0.5, random_state=1, shuffle=True,\n",
       "       solver='sgd', tol=0.0001, validation_fraction=0.1, verbose=True,\n",
       "       warm_start=False)"
      ]
     },
     "execution_count": 145,
     "metadata": {},
     "output_type": "execute_result"
    }
   ],
   "source": [
    "mlp.fit(x_train,y_train)"
   ]
  },
  {
   "cell_type": "markdown",
   "metadata": {},
   "source": [
    "Now that the MLP has been trained, let's see what it can say about our test images:"
   ]
  },
  {
   "cell_type": "code",
   "execution_count": 146,
   "metadata": {},
   "outputs": [
    {
     "data": {
      "text/plain": [
       "array([1, 4, 0, 5, 3, 6, 9, 6, 1, 7, 5, 4, 4, 7, 2, 8, 2, 2, 9, 7, 9, 5,\n",
       "       4, 4, 9, 0, 8, 9, 8, 0, 1, 2, 3, 4, 5, 6, 7, 8, 9, 0, 1, 2, 3, 4,\n",
       "       5, 6, 7, 8, 9, 0])"
      ]
     },
     "execution_count": 146,
     "metadata": {},
     "output_type": "execute_result"
    }
   ],
   "source": [
    "predictions = mlp.predict(x_test)\n",
    "predictions[:50] # we just look at the 1st 50 examples in the training sample"
   ]
  },
  {
   "cell_type": "markdown",
   "metadata": {},
   "source": [
    "These predictions should be fairly close to the targets of our training sample. Let's check by eye (please compare the values of these arrays)"
   ]
  },
  {
   "cell_type": "code",
   "execution_count": 147,
   "metadata": {},
   "outputs": [
    {
     "data": {
      "text/plain": [
       "array([1, 4, 0, 5, 3, 6, 9, 6, 1, 7, 5, 4, 4, 7, 2, 8, 2, 2, 5, 7, 9, 5,\n",
       "       4, 4, 9, 0, 8, 9, 8, 0, 1, 2, 3, 4, 5, 6, 7, 8, 9, 0, 1, 2, 3, 4,\n",
       "       5, 6, 7, 8, 9, 0])"
      ]
     },
     "execution_count": 147,
     "metadata": {},
     "output_type": "execute_result"
    }
   ],
   "source": [
    "y_test[:50] # true labels for the 1st 50 examples in the training sample"
   ]
  },
  {
   "cell_type": "markdown",
   "metadata": {},
   "source": [
    "Not bad! we see that most (if not all) predictions match the true labels."
   ]
  },
  {
   "cell_type": "markdown",
   "metadata": {},
   "source": [
    "But can we be a bit more quantitative? We can compute the accuracy of the classifier, which the probability for a digit to be classified in the right category. Again, scikit-learn comes with a handy tool to do that: \n",
    "    "
   ]
  },
  {
   "cell_type": "code",
   "execution_count": 148,
   "metadata": {
    "scrolled": true
   },
   "outputs": [
    {
     "data": {
      "text/plain": [
       "0.9410288582183187"
      ]
     },
     "execution_count": 148,
     "metadata": {},
     "output_type": "execute_result"
    }
   ],
   "source": [
    "from sklearn.metrics import accuracy_score\n",
    "accuracy_score(y_test, predictions)"
   ]
  },
  {
   "cell_type": "markdown",
   "metadata": {},
   "source": [
    "**We managed to get a 94% accuracy with this very simple neural network!** "
   ]
  },
  {
   "cell_type": "markdown",
   "metadata": {},
   "source": [
    "## Conclusion and outlook"
   ]
  },
  {
   "cell_type": "markdown",
   "metadata": {},
   "source": [
    "In future posts, we will:\n",
    "\n",
    "* optimize our network to further increase the accuracy,\n",
    "* use deep learning to reach extreme accuracies,\n",
    "* dive a bit more into the mechanism of the training to understand why we have created the MLP with these parameters."
   ]
  },
  {
   "cell_type": "code",
   "execution_count": null,
   "metadata": {},
   "outputs": [],
   "source": []
  }
 ],
 "metadata": {
  "kernelspec": {
   "display_name": "Python 2",
   "language": "python",
   "name": "python2"
  },
  "language_info": {
   "codemirror_mode": {
    "name": "ipython",
    "version": 2
   },
   "file_extension": ".py",
   "mimetype": "text/x-python",
   "name": "python",
   "nbconvert_exporter": "python",
   "pygments_lexer": "ipython2",
   "version": "2.7.15"
  }
 },
 "nbformat": 4,
 "nbformat_minor": 2
}
