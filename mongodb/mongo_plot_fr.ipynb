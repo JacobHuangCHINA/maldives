{
 "cells": [
  {
   "cell_type": "markdown",
   "metadata": {},
   "source": [
    "Connectez-vous au serveur mongodb sur la machine locale, et récupérez la collection *sinfun* de la base de données *test*. "
   ]
  },
  {
   "cell_type": "code",
   "execution_count": 1,
   "metadata": {},
   "outputs": [
    {
     "data": {
      "text/plain": [
       "{'_id': ObjectId('5ce5512f4b8cf21178dd3ecc'), 'x': 0.0, 'y': 0.0}"
      ]
     },
     "execution_count": 1,
     "metadata": {},
     "output_type": "execute_result"
    }
   ],
   "source": [
    "import pymongo\n",
    "client = pymongo.MongoClient('localhost')\n",
    "sinfun = client.test.sin\n",
    "sinfun.find_one()"
   ]
  },
  {
   "cell_type": "markdown",
   "metadata": {},
   "source": [
    "Demandez tous les documents à la base de données. l'objet cursor est un itérateur, et nous créons une liste à partir de cet itérateur. Veuillez noter qu'après la création de la liste, l'itérateur est épuisé. Si vous souhaitez le réutiliser, il vous faudra exécuter un nouveau *find*."
   ]
  },
  {
   "cell_type": "code",
   "execution_count": 2,
   "metadata": {},
   "outputs": [
    {
     "data": {
      "text/plain": [
       "[{'_id': ObjectId('5ce5512f4b8cf21178dd3ecc'), 'x': 0.0, 'y': 0.0},\n",
       " {'_id': ObjectId('5ce5512f4b8cf21178dd3ecd'),\n",
       "  'x': 0.1,\n",
       "  'y': 0.09983341664682815},\n",
       " {'_id': ObjectId('5ce5512f4b8cf21178dd3ece'),\n",
       "  'x': 0.2,\n",
       "  'y': 0.19866933079506122},\n",
       " {'_id': ObjectId('5ce5512f4b8cf21178dd3ecf'),\n",
       "  'x': 0.3,\n",
       "  'y': 0.29552020666133955},\n",
       " {'_id': ObjectId('5ce5512f4b8cf21178dd3ed0'),\n",
       "  'x': 0.4,\n",
       "  'y': 0.3894183423086505}]"
      ]
     },
     "execution_count": 2,
     "metadata": {},
     "output_type": "execute_result"
    }
   ],
   "source": [
    "import pandas as pd\n",
    "cursor = sinfun.find()\n",
    "entries = list(cursor)\n",
    "entries[:5]"
   ]
  },
  {
   "cell_type": "markdown",
   "metadata": {},
   "source": [
    "Enfin, créons une dataframe pandas à partir de la liste d'entrées pour pouvoir tracer les données facilement. "
   ]
  },
  {
   "cell_type": "code",
   "execution_count": 3,
   "metadata": {},
   "outputs": [
    {
     "data": {
      "text/html": [
       "<div>\n",
       "<style scoped>\n",
       "    .dataframe tbody tr th:only-of-type {\n",
       "        vertical-align: middle;\n",
       "    }\n",
       "\n",
       "    .dataframe tbody tr th {\n",
       "        vertical-align: top;\n",
       "    }\n",
       "\n",
       "    .dataframe thead th {\n",
       "        text-align: right;\n",
       "    }\n",
       "</style>\n",
       "<table border=\"1\" class=\"dataframe\">\n",
       "  <thead>\n",
       "    <tr style=\"text-align: right;\">\n",
       "      <th></th>\n",
       "      <th>_id</th>\n",
       "      <th>x</th>\n",
       "      <th>y</th>\n",
       "    </tr>\n",
       "  </thead>\n",
       "  <tbody>\n",
       "    <tr>\n",
       "      <th>0</th>\n",
       "      <td>5ce5512f4b8cf21178dd3ecc</td>\n",
       "      <td>0.0</td>\n",
       "      <td>0.000000</td>\n",
       "    </tr>\n",
       "    <tr>\n",
       "      <th>1</th>\n",
       "      <td>5ce5512f4b8cf21178dd3ecd</td>\n",
       "      <td>0.1</td>\n",
       "      <td>0.099833</td>\n",
       "    </tr>\n",
       "    <tr>\n",
       "      <th>2</th>\n",
       "      <td>5ce5512f4b8cf21178dd3ece</td>\n",
       "      <td>0.2</td>\n",
       "      <td>0.198669</td>\n",
       "    </tr>\n",
       "    <tr>\n",
       "      <th>3</th>\n",
       "      <td>5ce5512f4b8cf21178dd3ecf</td>\n",
       "      <td>0.3</td>\n",
       "      <td>0.295520</td>\n",
       "    </tr>\n",
       "    <tr>\n",
       "      <th>4</th>\n",
       "      <td>5ce5512f4b8cf21178dd3ed0</td>\n",
       "      <td>0.4</td>\n",
       "      <td>0.389418</td>\n",
       "    </tr>\n",
       "  </tbody>\n",
       "</table>\n",
       "</div>"
      ],
      "text/plain": [
       "                        _id    x         y\n",
       "0  5ce5512f4b8cf21178dd3ecc  0.0  0.000000\n",
       "1  5ce5512f4b8cf21178dd3ecd  0.1  0.099833\n",
       "2  5ce5512f4b8cf21178dd3ece  0.2  0.198669\n",
       "3  5ce5512f4b8cf21178dd3ecf  0.3  0.295520\n",
       "4  5ce5512f4b8cf21178dd3ed0  0.4  0.389418"
      ]
     },
     "execution_count": 3,
     "metadata": {},
     "output_type": "execute_result"
    }
   ],
   "source": [
    "df = pd.DataFrame(entries)\n",
    "df.head()"
   ]
  },
  {
   "cell_type": "code",
   "execution_count": 5,
   "metadata": {},
   "outputs": [
    {
     "data": {
      "text/plain": [
       "<matplotlib.axes._subplots.AxesSubplot at 0x121449470>"
      ]
     },
     "execution_count": 5,
     "metadata": {},
     "output_type": "execute_result"
    },
    {
     "data": {
      "image/png": "[encoded data removed]",
      "text/plain": [
       "<Figure size 432x288 with 1 Axes>"
      ]
     },
     "metadata": {
      "needs_background": "light"
     },
     "output_type": "display_data"
    }
   ],
   "source": [
    "df.plot('x')"
   ]
  }
 ],
 "metadata": {
  "kernelspec": {
   "display_name": "Python 3",
   "language": "python",
   "name": "python3"
  },
  "language_info": {
   "codemirror_mode": {
    "name": "ipython",
    "version": 3
   },
   "file_extension": ".py",
   "mimetype": "text/x-python",
   "name": "python",
   "nbconvert_exporter": "python",
   "pygments_lexer": "ipython3",
   "version": "3.6.8"
  }
 },
 "nbformat": 4,
 "nbformat_minor": 2
}
