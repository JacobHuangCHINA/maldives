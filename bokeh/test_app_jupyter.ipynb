{
 "cells": [
  {
   "cell_type": "code",
   "execution_count": 1,
   "metadata": {},
   "outputs": [
    {
     "data": {
      "text/html": [
       "\n",
       "    <div class=\"bk-root\">\n",
       "        <a href=\"https://bokeh.pydata.org\" target=\"_blank\" class=\"bk-logo bk-logo-small bk-logo-notebook\"></a>\n",
       "        <span id=\"1001\">Loading BokehJS ...</span>\n",
       "    </div>"
      ]
     },
     "metadata": {},
     "output_type": "display_data"
    },
    {
     "data": {
      "application/javascript": [
       "\n",
       "(function(root) {\n",
       "  function now() {\n",
       "    return new Date();\n",
       "  }\n",
       "\n",
       "  var force = true;\n",
       "\n",
       "  if (typeof root._bokeh_onload_callbacks === \"undefined\" || force === true) {\n",
       "    root._bokeh_onload_callbacks = [];\n",
       "    root._bokeh_is_loading = undefined;\n",
       "  }\n",
       "\n",
       "  var JS_MIME_TYPE = 'application/javascript';\n",
       "  var HTML_MIME_TYPE = 'text/html';\n",
       "  var EXEC_MIME_TYPE = 'application/vnd.bokehjs_exec.v0+json';\n",
       "  var CLASS_NAME = 'output_bokeh rendered_html';\n",
       "\n",
       "  /**\n",
       "   * Render data to the DOM node\n",
       "   */\n",
       "  function render(props, node) {\n",
       "    var script = document.createElement(\"script\");\n",
       "    node.appendChild(script);\n",
       "  }\n",
       "\n",
       "  /**\n",
       "   * Handle when an output is cleared or removed\n",
       "   */\n",
       "  function handleClearOutput(event, handle) {\n",
       "    var cell = handle.cell;\n",
       "\n",
       "    var id = cell.output_area._bokeh_element_id;\n",
       "    var server_id = cell.output_area._bokeh_server_id;\n",
       "    // Clean up Bokeh references\n",
       "    if (id != null && id in Bokeh.index) {\n",
       "      Bokeh.index[id].model.document.clear();\n",
       "      delete Bokeh.index[id];\n",
       "    }\n",
       "\n",
       "    if (server_id !== undefined) {\n",
       "      // Clean up Bokeh references\n",
       "      var cmd = \"from bokeh.io.state import curstate; print(curstate().uuid_to_server['\" + server_id + \"'].get_sessions()[0].document.roots[0]._id)\";\n",
       "      cell.notebook.kernel.execute(cmd, {\n",
       "        iopub: {\n",
       "          output: function(msg) {\n",
       "            var id = msg.content.text.trim();\n",
       "            if (id in Bokeh.index) {\n",
       "              Bokeh.index[id].model.document.clear();\n",
       "              delete Bokeh.index[id];\n",
       "            }\n",
       "          }\n",
       "        }\n",
       "      });\n",
       "      // Destroy server and session\n",
       "      var cmd = \"import bokeh.io.notebook as ion; ion.destroy_server('\" + server_id + \"')\";\n",
       "      cell.notebook.kernel.execute(cmd);\n",
       "    }\n",
       "  }\n",
       "\n",
       "  /**\n",
       "   * Handle when a new output is added\n",
       "   */\n",
       "  function handleAddOutput(event, handle) {\n",
       "    var output_area = handle.output_area;\n",
       "    var output = handle.output;\n",
       "\n",
       "    // limit handleAddOutput to display_data with EXEC_MIME_TYPE content only\n",
       "    if ((output.output_type != \"display_data\") || (!output.data.hasOwnProperty(EXEC_MIME_TYPE))) {\n",
       "      return\n",
       "    }\n",
       "\n",
       "    var toinsert = output_area.element.find(\".\" + CLASS_NAME.split(' ')[0]);\n",
       "\n",
       "    if (output.metadata[EXEC_MIME_TYPE][\"id\"] !== undefined) {\n",
       "      toinsert[toinsert.length - 1].firstChild.textContent = output.data[JS_MIME_TYPE];\n",
       "      // store reference to embed id on output_area\n",
       "      output_area._bokeh_element_id = output.metadata[EXEC_MIME_TYPE][\"id\"];\n",
       "    }\n",
       "    if (output.metadata[EXEC_MIME_TYPE][\"server_id\"] !== undefined) {\n",
       "      var bk_div = document.createElement(\"div\");\n",
       "      bk_div.innerHTML = output.data[HTML_MIME_TYPE];\n",
       "      var script_attrs = bk_div.children[0].attributes;\n",
       "      for (var i = 0; i < script_attrs.length; i++) {\n",
       "        toinsert[toinsert.length - 1].firstChild.setAttribute(script_attrs[i].name, script_attrs[i].value);\n",
       "      }\n",
       "      // store reference to server id on output_area\n",
       "      output_area._bokeh_server_id = output.metadata[EXEC_MIME_TYPE][\"server_id\"];\n",
       "    }\n",
       "  }\n",
       "\n",
       "  function register_renderer(events, OutputArea) {\n",
       "\n",
       "    function append_mime(data, metadata, element) {\n",
       "      // create a DOM node to render to\n",
       "      var toinsert = this.create_output_subarea(\n",
       "        metadata,\n",
       "        CLASS_NAME,\n",
       "        EXEC_MIME_TYPE\n",
       "      );\n",
       "      this.keyboard_manager.register_events(toinsert);\n",
       "      // Render to node\n",
       "      var props = {data: data, metadata: metadata[EXEC_MIME_TYPE]};\n",
       "      render(props, toinsert[toinsert.length - 1]);\n",
       "      element.append(toinsert);\n",
       "      return toinsert\n",
       "    }\n",
       "\n",
       "    /* Handle when an output is cleared or removed */\n",
       "    events.on('clear_output.CodeCell', handleClearOutput);\n",
       "    events.on('delete.Cell', handleClearOutput);\n",
       "\n",
       "    /* Handle when a new output is added */\n",
       "    events.on('output_added.OutputArea', handleAddOutput);\n",
       "\n",
       "    /**\n",
       "     * Register the mime type and append_mime function with output_area\n",
       "     */\n",
       "    OutputArea.prototype.register_mime_type(EXEC_MIME_TYPE, append_mime, {\n",
       "      /* Is output safe? */\n",
       "      safe: true,\n",
       "      /* Index of renderer in `output_area.display_order` */\n",
       "      index: 0\n",
       "    });\n",
       "  }\n",
       "\n",
       "  // register the mime type if in Jupyter Notebook environment and previously unregistered\n",
       "  if (root.Jupyter !== undefined) {\n",
       "    var events = require('base/js/events');\n",
       "    var OutputArea = require('notebook/js/outputarea').OutputArea;\n",
       "\n",
       "    if (OutputArea.prototype.mime_types().indexOf(EXEC_MIME_TYPE) == -1) {\n",
       "      register_renderer(events, OutputArea);\n",
       "    }\n",
       "  }\n",
       "\n",
       "  \n",
       "  if (typeof (root._bokeh_timeout) === \"undefined\" || force === true) {\n",
       "    root._bokeh_timeout = Date.now() + 5000;\n",
       "    root._bokeh_failed_load = false;\n",
       "  }\n",
       "\n",
       "  var NB_LOAD_WARNING = {'data': {'text/html':\n",
       "     \"<div style='background-color: #fdd'>\\n\"+\n",
       "     \"<p>\\n\"+\n",
       "     \"BokehJS does not appear to have successfully loaded. If loading BokehJS from CDN, this \\n\"+\n",
       "     \"may be due to a slow or bad network connection. Possible fixes:\\n\"+\n",
       "     \"</p>\\n\"+\n",
       "     \"<ul>\\n\"+\n",
       "     \"<li>re-rerun `output_notebook()` to attempt to load from CDN again, or</li>\\n\"+\n",
       "     \"<li>use INLINE resources instead, as so:</li>\\n\"+\n",
       "     \"</ul>\\n\"+\n",
       "     \"<code>\\n\"+\n",
       "     \"from bokeh.resources import INLINE\\n\"+\n",
       "     \"output_notebook(resources=INLINE)\\n\"+\n",
       "     \"</code>\\n\"+\n",
       "     \"</div>\"}};\n",
       "\n",
       "  function display_loaded() {\n",
       "    var el = document.getElementById(\"1001\");\n",
       "    if (el != null) {\n",
       "      el.textContent = \"BokehJS is loading...\";\n",
       "    }\n",
       "    if (root.Bokeh !== undefined) {\n",
       "      if (el != null) {\n",
       "        el.textContent = \"BokehJS \" + root.Bokeh.version + \" successfully loaded.\";\n",
       "      }\n",
       "    } else if (Date.now() < root._bokeh_timeout) {\n",
       "      setTimeout(display_loaded, 100)\n",
       "    }\n",
       "  }\n",
       "\n",
       "\n",
       "  function run_callbacks() {\n",
       "    try {\n",
       "      root._bokeh_onload_callbacks.forEach(function(callback) {\n",
       "        if (callback != null)\n",
       "          callback();\n",
       "      });\n",
       "    } finally {\n",
       "      delete root._bokeh_onload_callbacks\n",
       "    }\n",
       "    console.debug(\"Bokeh: all callbacks have finished\");\n",
       "  }\n",
       "\n",
       "  function load_libs(css_urls, js_urls, callback) {\n",
       "    if (css_urls == null) css_urls = [];\n",
       "    if (js_urls == null) js_urls = [];\n",
       "\n",
       "    root._bokeh_onload_callbacks.push(callback);\n",
       "    if (root._bokeh_is_loading > 0) {\n",
       "      console.debug(\"Bokeh: BokehJS is being loaded, scheduling callback at\", now());\n",
       "      return null;\n",
       "    }\n",
       "    if (js_urls == null || js_urls.length === 0) {\n",
       "      run_callbacks();\n",
       "      return null;\n",
       "    }\n",
       "    console.debug(\"Bokeh: BokehJS not loaded, scheduling load and callback at\", now());\n",
       "    root._bokeh_is_loading = css_urls.length + js_urls.length;\n",
       "\n",
       "    function on_load() {\n",
       "      root._bokeh_is_loading--;\n",
       "      if (root._bokeh_is_loading === 0) {\n",
       "        console.debug(\"Bokeh: all BokehJS libraries/stylesheets loaded\");\n",
       "        run_callbacks()\n",
       "      }\n",
       "    }\n",
       "\n",
       "    function on_error() {\n",
       "      console.error(\"failed to load \" + url);\n",
       "    }\n",
       "\n",
       "    for (var i = 0; i < css_urls.length; i++) {\n",
       "      var url = css_urls[i];\n",
       "      const element = document.createElement(\"link\");\n",
       "      element.onload = on_load;\n",
       "      element.onerror = on_error;\n",
       "      element.rel = \"stylesheet\";\n",
       "      element.type = \"text/css\";\n",
       "      element.href = url;\n",
       "      console.debug(\"Bokeh: injecting link tag for BokehJS stylesheet: \", url);\n",
       "      document.body.appendChild(element);\n",
       "    }\n",
       "\n",
       "    for (var i = 0; i < js_urls.length; i++) {\n",
       "      var url = js_urls[i];\n",
       "      var element = document.createElement('script');\n",
       "      element.onload = on_load;\n",
       "      element.onerror = on_error;\n",
       "      element.async = false;\n",
       "      element.src = url;\n",
       "      console.debug(\"Bokeh: injecting script tag for BokehJS library: \", url);\n",
       "      document.head.appendChild(element);\n",
       "    }\n",
       "  };var element = document.getElementById(\"1001\");\n",
       "  if (element == null) {\n",
       "    console.error(\"Bokeh: ERROR: autoload.js configured with elementid '1001' but no matching script tag was found. \")\n",
       "    return false;\n",
       "  }\n",
       "\n",
       "  function inject_raw_css(css) {\n",
       "    const element = document.createElement(\"style\");\n",
       "    element.appendChild(document.createTextNode(css));\n",
       "    document.body.appendChild(element);\n",
       "  }\n",
       "\n",
       "  var js_urls = [\"https://cdn.pydata.org/bokeh/release/bokeh-1.1.0.min.js\", \"https://cdn.pydata.org/bokeh/release/bokeh-widgets-1.1.0.min.js\", \"https://cdn.pydata.org/bokeh/release/bokeh-tables-1.1.0.min.js\", \"https://cdn.pydata.org/bokeh/release/bokeh-gl-1.1.0.min.js\"];\n",
       "  var css_urls = [\"https://cdn.pydata.org/bokeh/release/bokeh-1.1.0.min.css\", \"https://cdn.pydata.org/bokeh/release/bokeh-widgets-1.1.0.min.css\", \"https://cdn.pydata.org/bokeh/release/bokeh-tables-1.1.0.min.css\"];\n",
       "\n",
       "  var inline_js = [\n",
       "    function(Bokeh) {\n",
       "      Bokeh.set_log_level(\"info\");\n",
       "    },\n",
       "    \n",
       "    function(Bokeh) {\n",
       "      \n",
       "    },\n",
       "    function(Bokeh) {} // ensure no trailing comma for IE\n",
       "  ];\n",
       "\n",
       "  function run_inline_js() {\n",
       "    \n",
       "    if ((root.Bokeh !== undefined) || (force === true)) {\n",
       "      for (var i = 0; i < inline_js.length; i++) {\n",
       "        inline_js[i].call(root, root.Bokeh);\n",
       "      }if (force === true) {\n",
       "        display_loaded();\n",
       "      }} else if (Date.now() < root._bokeh_timeout) {\n",
       "      setTimeout(run_inline_js, 100);\n",
       "    } else if (!root._bokeh_failed_load) {\n",
       "      console.log(\"Bokeh: BokehJS failed to load within specified timeout.\");\n",
       "      root._bokeh_failed_load = true;\n",
       "    } else if (force !== true) {\n",
       "      var cell = $(document.getElementById(\"1001\")).parents('.cell').data().cell;\n",
       "      cell.output_area.append_execute_result(NB_LOAD_WARNING)\n",
       "    }\n",
       "\n",
       "  }\n",
       "\n",
       "  if (root._bokeh_is_loading === 0) {\n",
       "    console.debug(\"Bokeh: BokehJS loaded, going straight to plotting\");\n",
       "    run_inline_js();\n",
       "  } else {\n",
       "    load_libs(css_urls, js_urls, function() {\n",
       "      console.debug(\"Bokeh: BokehJS plotting callback run at\", now());\n",
       "      run_inline_js();\n",
       "    });\n",
       "  }\n",
       "}(window));"
      ],
      "application/vnd.bokehjs_load.v0+json": "\n(function(root) {\n  function now() {\n    return new Date();\n  }\n\n  var force = true;\n\n  if (typeof root._bokeh_onload_callbacks === \"undefined\" || force === true) {\n    root._bokeh_onload_callbacks = [];\n    root._bokeh_is_loading = undefined;\n  }\n\n  \n\n  \n  if (typeof (root._bokeh_timeout) === \"undefined\" || force === true) {\n    root._bokeh_timeout = Date.now() + 5000;\n    root._bokeh_failed_load = false;\n  }\n\n  var NB_LOAD_WARNING = {'data': {'text/html':\n     \"<div style='background-color: #fdd'>\\n\"+\n     \"<p>\\n\"+\n     \"BokehJS does not appear to have successfully loaded. If loading BokehJS from CDN, this \\n\"+\n     \"may be due to a slow or bad network connection. Possible fixes:\\n\"+\n     \"</p>\\n\"+\n     \"<ul>\\n\"+\n     \"<li>re-rerun `output_notebook()` to attempt to load from CDN again, or</li>\\n\"+\n     \"<li>use INLINE resources instead, as so:</li>\\n\"+\n     \"</ul>\\n\"+\n     \"<code>\\n\"+\n     \"from bokeh.resources import INLINE\\n\"+\n     \"output_notebook(resources=INLINE)\\n\"+\n     \"</code>\\n\"+\n     \"</div>\"}};\n\n  function display_loaded() {\n    var el = document.getElementById(\"1001\");\n    if (el != null) {\n      el.textContent = \"BokehJS is loading...\";\n    }\n    if (root.Bokeh !== undefined) {\n      if (el != null) {\n        el.textContent = \"BokehJS \" + root.Bokeh.version + \" successfully loaded.\";\n      }\n    } else if (Date.now() < root._bokeh_timeout) {\n      setTimeout(display_loaded, 100)\n    }\n  }\n\n\n  function run_callbacks() {\n    try {\n      root._bokeh_onload_callbacks.forEach(function(callback) {\n        if (callback != null)\n          callback();\n      });\n    } finally {\n      delete root._bokeh_onload_callbacks\n    }\n    console.debug(\"Bokeh: all callbacks have finished\");\n  }\n\n  function load_libs(css_urls, js_urls, callback) {\n    if (css_urls == null) css_urls = [];\n    if (js_urls == null) js_urls = [];\n\n    root._bokeh_onload_callbacks.push(callback);\n    if (root._bokeh_is_loading > 0) {\n      console.debug(\"Bokeh: BokehJS is being loaded, scheduling callback at\", now());\n      return null;\n    }\n    if (js_urls == null || js_urls.length === 0) {\n      run_callbacks();\n      return null;\n    }\n    console.debug(\"Bokeh: BokehJS not loaded, scheduling load and callback at\", now());\n    root._bokeh_is_loading = css_urls.length + js_urls.length;\n\n    function on_load() {\n      root._bokeh_is_loading--;\n      if (root._bokeh_is_loading === 0) {\n        console.debug(\"Bokeh: all BokehJS libraries/stylesheets loaded\");\n        run_callbacks()\n      }\n    }\n\n    function on_error() {\n      console.error(\"failed to load \" + url);\n    }\n\n    for (var i = 0; i < css_urls.length; i++) {\n      var url = css_urls[i];\n      const element = document.createElement(\"link\");\n      element.onload = on_load;\n      element.onerror = on_error;\n      element.rel = \"stylesheet\";\n      element.type = \"text/css\";\n      element.href = url;\n      console.debug(\"Bokeh: injecting link tag for BokehJS stylesheet: \", url);\n      document.body.appendChild(element);\n    }\n\n    for (var i = 0; i < js_urls.length; i++) {\n      var url = js_urls[i];\n      var element = document.createElement('script');\n      element.onload = on_load;\n      element.onerror = on_error;\n      element.async = false;\n      element.src = url;\n      console.debug(\"Bokeh: injecting script tag for BokehJS library: \", url);\n      document.head.appendChild(element);\n    }\n  };var element = document.getElementById(\"1001\");\n  if (element == null) {\n    console.error(\"Bokeh: ERROR: autoload.js configured with elementid '1001' but no matching script tag was found. \")\n    return false;\n  }\n\n  function inject_raw_css(css) {\n    const element = document.createElement(\"style\");\n    element.appendChild(document.createTextNode(css));\n    document.body.appendChild(element);\n  }\n\n  var js_urls = [\"https://cdn.pydata.org/bokeh/release/bokeh-1.1.0.min.js\", \"https://cdn.pydata.org/bokeh/release/bokeh-widgets-1.1.0.min.js\", \"https://cdn.pydata.org/bokeh/release/bokeh-tables-1.1.0.min.js\", \"https://cdn.pydata.org/bokeh/release/bokeh-gl-1.1.0.min.js\"];\n  var css_urls = [\"https://cdn.pydata.org/bokeh/release/bokeh-1.1.0.min.css\", \"https://cdn.pydata.org/bokeh/release/bokeh-widgets-1.1.0.min.css\", \"https://cdn.pydata.org/bokeh/release/bokeh-tables-1.1.0.min.css\"];\n\n  var inline_js = [\n    function(Bokeh) {\n      Bokeh.set_log_level(\"info\");\n    },\n    \n    function(Bokeh) {\n      \n    },\n    function(Bokeh) {} // ensure no trailing comma for IE\n  ];\n\n  function run_inline_js() {\n    \n    if ((root.Bokeh !== undefined) || (force === true)) {\n      for (var i = 0; i < inline_js.length; i++) {\n        inline_js[i].call(root, root.Bokeh);\n      }if (force === true) {\n        display_loaded();\n      }} else if (Date.now() < root._bokeh_timeout) {\n      setTimeout(run_inline_js, 100);\n    } else if (!root._bokeh_failed_load) {\n      console.log(\"Bokeh: BokehJS failed to load within specified timeout.\");\n      root._bokeh_failed_load = true;\n    } else if (force !== true) {\n      var cell = $(document.getElementById(\"1001\")).parents('.cell').data().cell;\n      cell.output_area.append_execute_result(NB_LOAD_WARNING)\n    }\n\n  }\n\n  if (root._bokeh_is_loading === 0) {\n    console.debug(\"Bokeh: BokehJS loaded, going straight to plotting\");\n    run_inline_js();\n  } else {\n    load_libs(css_urls, js_urls, function() {\n      console.debug(\"Bokeh: BokehJS plotting callback run at\", now());\n      run_inline_js();\n    });\n  }\n}(window));"
     },
     "metadata": {},
     "output_type": "display_data"
    }
   ],
   "source": [
    "from bokeh.io import output_notebook, show\n",
    "output_notebook()"
   ]
  },
  {
   "cell_type": "code",
   "execution_count": 2,
   "metadata": {},
   "outputs": [
    {
     "data": {
      "application/vnd.bokehjs_exec.v0+json": "",
      "text/html": [
       "\n",
       "<script src=\"http://localhost:58980/autoload.js?bokeh-autoload-element=1002&bokeh-absolute-url=http://localhost:58980&resources=none\" id=\"1002\"></script>"
      ]
     },
     "metadata": {
      "application/vnd.bokehjs_exec.v0+json": {
       "server_id": "1b55090c49b44cf8bb21b2b438120c9c"
      }
     },
     "output_type": "display_data"
    }
   ],
   "source": [
    "from bokeh.layouts import column\n",
    "from bokeh.models import TextInput, Button, Paragraph\n",
    "\n",
    "def modify_doc(doc):\n",
    "    \n",
    "    # create some widgets\n",
    "    button = Button(label=\"Say HI\")\n",
    "    input = TextInput(value=\"Bokeh\")\n",
    "    output = Paragraph()\n",
    "\n",
    "    # add a callback to a widget\n",
    "    def update():\n",
    "        output.text = \"Hello, \" + input.value\n",
    "    button.on_click(update)\n",
    "\n",
    "    # create a layout for everything\n",
    "    layout = column(button, input, output)\n",
    "\n",
    "    # add the layout to curdoc\n",
    "    doc.add_root(layout)\n",
    "    \n",
    "# In the notebook, just pass the function that defines the app to show\n",
    "# You may need to supply notebook_url, e.g notebook_url=\"http://localhost:8889\" \n",
    "show(modify_doc) "
   ]
  },
  {
   "cell_type": "code",
   "execution_count": 10,
   "metadata": {},
   "outputs": [
    {
     "data": {
      "application/vnd.bokehjs_exec.v0+json": "",
      "text/html": [
       "\n",
       "<script src=\"http://localhost:58408/autoload.js?bokeh-autoload-element=57611&bokeh-absolute-url=http://localhost:58408&resources=none\" id=\"57611\"></script>"
      ]
     },
     "metadata": {
      "application/vnd.bokehjs_exec.v0+json": {
       "server_id": "48d8c43124d5487c827a815e5e741744"
      }
     },
     "output_type": "display_data"
    }
   ],
   "source": [
    "from numpy.random import random\n",
    "\n",
    "from bokeh.layouts import column, row\n",
    "from bokeh.plotting import figure\n",
    "from bokeh.models import ColumnDataSource, Select, TextInput\n",
    "\n",
    "def get_data(N):\n",
    "    return dict(x=random(size=N), y=random(size=N), r=random(size=N) * 0.03)\n",
    "\n",
    "COLORS = [\"black\", \"firebrick\", \"navy\", \"olive\", \"goldenrod\"]\n",
    "\n",
    "def modify_doc(doc):\n",
    "    source = ColumnDataSource(data=get_data(200))\n",
    "\n",
    "    p = figure(tools=\"\", toolbar_location=None)\n",
    "    r = p.circle(x='x', y='y', radius='r', source=source,\n",
    "                 color=\"navy\", alpha=0.6, line_color=\"white\")\n",
    "\n",
    "    \n",
    "    select = Select(title=\"Color\", value=\"navy\", options=COLORS)\n",
    "    input = TextInput(title=\"Number of points\", value=\"200\")\n",
    "\n",
    "    def update_color(attrname, old, new):\n",
    "        r.glyph.fill_color = select.value\n",
    "    select.on_change('value', update_color)\n",
    "\n",
    "    def update_points(attrname, old, new):\n",
    "        N = int(input.value)\n",
    "        source.data = get_data(N)\n",
    "    input.on_change('value', update_points)\n",
    "\n",
    "    layout = column(row(select, input, width=400), row(p))\n",
    "\n",
    "    doc.add_root(layout)\n",
    "\n",
    "show(modify_doc)"
   ]
  },
  {
   "cell_type": "code",
   "execution_count": 4,
   "metadata": {},
   "outputs": [
    {
     "data": {
      "application/vnd.bokehjs_exec.v0+json": "",
      "text/html": [
       "\n",
       "<script src=\"http://localhost:57759/autoload.js?bokeh-autoload-element=1086&bokeh-absolute-url=http://localhost:57759&resources=none\" id=\"1086\"></script>"
      ]
     },
     "metadata": {
      "application/vnd.bokehjs_exec.v0+json": {
       "server_id": "941e08ac1e854320a132c43bbace1874"
      }
     },
     "output_type": "display_data"
    }
   ],
   "source": [
    "from math import cos, sin\n",
    "\n",
    "from bokeh.models import ColumnDataSource\n",
    "\n",
    "def modify_doc(doc):\n",
    "    p = figure(match_aspect=True)\n",
    "    p.circle(x=0, y=0, radius=1, fill_color=None, line_width=2)\n",
    "    \n",
    "    # this is just to help the auto-datarange\n",
    "    p.rect(0, 0, 2, 2, alpha=0)\n",
    "\n",
    "    # this is the data source we will stream to\n",
    "    source = ColumnDataSource(data=dict(x=[1], y=[0]))\n",
    "    p.circle(x='x', y='y', size=12, fill_color='white', source=source)\n",
    "\n",
    "    def update():\n",
    "        x, y = source.data['x'][-1], source.data['y'][-1]\n",
    "\n",
    "        # construct the new values for all columns, and pass to stream\n",
    "        new_data = dict(x=[x*cos(0.1) - y*sin(0.1)], y=[x*sin(0.1) + y*cos(0.1)])\n",
    "        source.stream(new_data, rollover=2)\n",
    "\n",
    "    doc.add_periodic_callback(update, 50)\n",
    "    doc.add_root(p)\n",
    "    \n",
    "show(modify_doc)"
   ]
  },
  {
   "cell_type": "code",
   "execution_count": 5,
   "metadata": {},
   "outputs": [
    {
     "data": {
      "text/html": [
       "\n",
       "\n",
       "\n",
       "\n",
       "\n",
       "\n",
       "  <div class=\"bk-root\" id=\"3dedb3b8-b842-48c2-ac45-a5075bb22284\" data-root-id=\"1285\"></div>\n"
      ]
     },
     "metadata": {},
     "output_type": "display_data"
    },
    {
     "data": {
      "application/javascript": [
       "(function(root) {\n",
       "  function embed_document(root) {\n",
       "    \n",
       "  var docs_json = {\"31d9a825-713a-4c16-bf83-dd369f597ec3\":{\"roots\":{\"references\":[{\"attributes\":{\"below\":[{\"id\":\"1296\",\"type\":\"CategoricalAxis\"}],\"center\":[{\"id\":\"1299\",\"type\":\"Grid\"},{\"id\":\"1304\",\"type\":\"Grid\"}],\"left\":[{\"id\":\"1300\",\"type\":\"LinearAxis\"}],\"plot_height\":250,\"renderers\":[{\"id\":\"1321\",\"type\":\"GlyphRenderer\"}],\"title\":{\"id\":\"1286\",\"type\":\"Title\"},\"toolbar\":{\"id\":\"1311\",\"type\":\"Toolbar\"},\"x_range\":{\"id\":\"1288\",\"type\":\"FactorRange\"},\"x_scale\":{\"id\":\"1292\",\"type\":\"CategoricalScale\"},\"y_range\":{\"id\":\"1290\",\"type\":\"DataRange1d\"},\"y_scale\":{\"id\":\"1294\",\"type\":\"LinearScale\"}},\"id\":\"1285\",\"subtype\":\"Figure\",\"type\":\"Plot\"},{\"attributes\":{\"source\":{\"id\":\"1318\",\"type\":\"ColumnDataSource\"}},\"id\":\"1322\",\"type\":\"CDSView\"},{\"attributes\":{},\"id\":\"1305\",\"type\":\"PanTool\"},{\"attributes\":{},\"id\":\"1324\",\"type\":\"CategoricalTickFormatter\"},{\"attributes\":{},\"id\":\"1309\",\"type\":\"ResetTool\"},{\"attributes\":{},\"id\":\"1326\",\"type\":\"BasicTickFormatter\"},{\"attributes\":{},\"id\":\"1308\",\"type\":\"SaveTool\"},{\"attributes\":{\"text\":\"Current power\"},\"id\":\"1286\",\"type\":\"Title\"},{\"attributes\":{\"fill_alpha\":{\"value\":0.1},\"fill_color\":{\"value\":\"#1f77b4\"},\"line_alpha\":{\"value\":0.1},\"line_color\":{\"value\":\"#1f77b4\"},\"top\":{\"field\":\"top\"},\"width\":{\"value\":0.9},\"x\":{\"field\":\"x\"}},\"id\":\"1320\",\"type\":\"VBar\"},{\"attributes\":{},\"id\":\"1329\",\"type\":\"Selection\"},{\"attributes\":{\"callback\":null,\"data\":{\"top\":[1,3.0,2.0],\"x\":[\"Main\",\"Pool\",\"Heater\"]},\"selected\":{\"id\":\"1329\",\"type\":\"Selection\"},\"selection_policy\":{\"id\":\"1328\",\"type\":\"UnionRenderers\"}},\"id\":\"1318\",\"type\":\"ColumnDataSource\"},{\"attributes\":{},\"id\":\"1294\",\"type\":\"LinearScale\"},{\"attributes\":{\"bottom_units\":\"screen\",\"fill_alpha\":{\"value\":0.5},\"fill_color\":{\"value\":\"lightgrey\"},\"left_units\":\"screen\",\"level\":\"overlay\",\"line_alpha\":{\"value\":1.0},\"line_color\":{\"value\":\"black\"},\"line_dash\":[4,4],\"line_width\":{\"value\":2},\"render_mode\":\"css\",\"right_units\":\"screen\",\"top_units\":\"screen\"},\"id\":\"1330\",\"type\":\"BoxAnnotation\"},{\"attributes\":{\"axis_label\":\"Power (kW)\",\"formatter\":{\"id\":\"1326\",\"type\":\"BasicTickFormatter\"},\"ticker\":{\"id\":\"1301\",\"type\":\"BasicTicker\"}},\"id\":\"1300\",\"type\":\"LinearAxis\"},{\"attributes\":{},\"id\":\"1292\",\"type\":\"CategoricalScale\"},{\"attributes\":{\"callback\":null},\"id\":\"1290\",\"type\":\"DataRange1d\"},{\"attributes\":{\"callback\":null,\"factors\":[\"Main\",\"Pool\",\"Heater\"]},\"id\":\"1288\",\"type\":\"FactorRange\"},{\"attributes\":{},\"id\":\"1328\",\"type\":\"UnionRenderers\"},{\"attributes\":{\"formatter\":{\"id\":\"1324\",\"type\":\"CategoricalTickFormatter\"},\"ticker\":{\"id\":\"1297\",\"type\":\"CategoricalTicker\"}},\"id\":\"1296\",\"type\":\"CategoricalAxis\"},{\"attributes\":{\"data_source\":{\"id\":\"1318\",\"type\":\"ColumnDataSource\"},\"glyph\":{\"id\":\"1319\",\"type\":\"VBar\"},\"hover_glyph\":null,\"muted_glyph\":null,\"nonselection_glyph\":{\"id\":\"1320\",\"type\":\"VBar\"},\"selection_glyph\":null,\"view\":{\"id\":\"1322\",\"type\":\"CDSView\"}},\"id\":\"1321\",\"type\":\"GlyphRenderer\"},{\"attributes\":{\"ticker\":{\"id\":\"1297\",\"type\":\"CategoricalTicker\"}},\"id\":\"1299\",\"type\":\"Grid\"},{\"attributes\":{},\"id\":\"1297\",\"type\":\"CategoricalTicker\"},{\"attributes\":{\"active_drag\":\"auto\",\"active_inspect\":\"auto\",\"active_multi\":null,\"active_scroll\":\"auto\",\"active_tap\":\"auto\",\"tools\":[{\"id\":\"1305\",\"type\":\"PanTool\"},{\"id\":\"1306\",\"type\":\"WheelZoomTool\"},{\"id\":\"1307\",\"type\":\"BoxZoomTool\"},{\"id\":\"1308\",\"type\":\"SaveTool\"},{\"id\":\"1309\",\"type\":\"ResetTool\"},{\"id\":\"1310\",\"type\":\"HelpTool\"}]},\"id\":\"1311\",\"type\":\"Toolbar\"},{\"attributes\":{\"dimension\":1,\"ticker\":{\"id\":\"1301\",\"type\":\"BasicTicker\"}},\"id\":\"1304\",\"type\":\"Grid\"},{\"attributes\":{},\"id\":\"1310\",\"type\":\"HelpTool\"},{\"attributes\":{\"overlay\":{\"id\":\"1330\",\"type\":\"BoxAnnotation\"}},\"id\":\"1307\",\"type\":\"BoxZoomTool\"},{\"attributes\":{},\"id\":\"1306\",\"type\":\"WheelZoomTool\"},{\"attributes\":{},\"id\":\"1301\",\"type\":\"BasicTicker\"},{\"attributes\":{\"fill_color\":{\"value\":\"#1f77b4\"},\"line_color\":{\"value\":\"#1f77b4\"},\"top\":{\"field\":\"top\"},\"width\":{\"value\":0.9},\"x\":{\"field\":\"x\"}},\"id\":\"1319\",\"type\":\"VBar\"}],\"root_ids\":[\"1285\"]},\"title\":\"Bokeh Application\",\"version\":\"1.1.0\"}};\n",
       "  var render_items = [{\"docid\":\"31d9a825-713a-4c16-bf83-dd369f597ec3\",\"roots\":{\"1285\":\"3dedb3b8-b842-48c2-ac45-a5075bb22284\"}}];\n",
       "  root.Bokeh.embed.embed_items_notebook(docs_json, render_items);\n",
       "\n",
       "  }\n",
       "  if (root.Bokeh !== undefined) {\n",
       "    embed_document(root);\n",
       "  } else {\n",
       "    var attempts = 0;\n",
       "    var timer = setInterval(function(root) {\n",
       "      if (root.Bokeh !== undefined) {\n",
       "        embed_document(root);\n",
       "        clearInterval(timer);\n",
       "      }\n",
       "      attempts++;\n",
       "      if (attempts > 100) {\n",
       "        console.log(\"Bokeh: ERROR: Unable to run BokehJS code because BokehJS library is missing\");\n",
       "        clearInterval(timer);\n",
       "      }\n",
       "    }, 10, root)\n",
       "  }\n",
       "})(window);"
      ],
      "application/vnd.bokehjs_exec.v0+json": ""
     },
     "metadata": {
      "application/vnd.bokehjs_exec.v0+json": {
       "id": "1285"
      }
     },
     "output_type": "display_data"
    }
   ],
   "source": [
    "\n",
    "channels = ['Main', 'Pool', 'Heater']\n",
    "gauge_source = [1, 3., 2.]\n",
    "p2 = figure(x_range=channels, plot_height=250, title='Current power')\n",
    "p2.vbar(top=gauge_source,\n",
    "        x=channels,\n",
    "        width=0.9)\n",
    "p2.yaxis.axis_label='Power (kW)'\n",
    "show(p2)"
   ]
  },
  {
   "cell_type": "code",
   "execution_count": 11,
   "metadata": {},
   "outputs": [
    {
     "data": {
      "text/html": [
       "\n",
       "\n",
       "\n",
       "\n",
       "\n",
       "\n",
       "  <div class=\"bk-root\" id=\"938d7ac2-33ca-4e15-a624-49058f7ab414\" data-root-id=\"57787\"></div>\n"
      ]
     },
     "metadata": {},
     "output_type": "display_data"
    },
    {
     "data": {
      "application/javascript": [
       "(function(root) {\n",
       "  function embed_document(root) {\n",
       "    \n",
       "  var docs_json = {\"1b260d9d-77c3-4f20-88fc-743b119b03c1\":{\"roots\":{\"references\":[{\"attributes\":{\"below\":[{\"id\":\"57796\",\"type\":\"LinearAxis\"}],\"center\":[{\"id\":\"57800\",\"type\":\"Grid\"},{\"id\":\"57805\",\"type\":\"Grid\"},{\"id\":\"57814\",\"type\":\"Label\"},{\"id\":\"57815\",\"type\":\"Label\"}],\"left\":[{\"id\":\"57801\",\"type\":\"LinearAxis\"}],\"plot_height\":200,\"plot_width\":400,\"renderers\":[{\"id\":\"57811\",\"type\":\"GlyphRenderer\"}],\"title\":{\"id\":\"57841\",\"type\":\"Title\"},\"toolbar\":{\"id\":\"57806\",\"type\":\"Toolbar\"},\"toolbar_location\":null,\"x_range\":{\"id\":\"57788\",\"type\":\"DataRange1d\"},\"x_scale\":{\"id\":\"57792\",\"type\":\"LinearScale\"},\"y_range\":{\"id\":\"57813\",\"type\":\"Range1d\"},\"y_scale\":{\"id\":\"57794\",\"type\":\"LinearScale\"}},\"id\":\"57787\",\"subtype\":\"Figure\",\"type\":\"Plot\"},{\"attributes\":{},\"id\":\"57848\",\"type\":\"Selection\"},{\"attributes\":{},\"id\":\"57797\",\"type\":\"BasicTicker\"},{\"attributes\":{\"ticker\":{\"id\":\"57797\",\"type\":\"BasicTicker\"},\"visible\":false},\"id\":\"57800\",\"type\":\"Grid\"},{\"attributes\":{\"formatter\":{\"id\":\"57845\",\"type\":\"BasicTickFormatter\"},\"ticker\":{\"id\":\"57802\",\"type\":\"BasicTicker\"},\"visible\":false},\"id\":\"57801\",\"type\":\"LinearAxis\"},{\"attributes\":{},\"id\":\"57802\",\"type\":\"BasicTicker\"},{\"attributes\":{\"dimension\":1,\"ticker\":{\"id\":\"57802\",\"type\":\"BasicTicker\"},\"visible\":false},\"id\":\"57805\",\"type\":\"Grid\"},{\"attributes\":{\"active_drag\":\"auto\",\"active_inspect\":\"auto\",\"active_multi\":null,\"active_scroll\":\"auto\",\"active_tap\":\"auto\"},\"id\":\"57806\",\"type\":\"Toolbar\"},{\"attributes\":{\"callback\":null,\"start\":-0.1},\"id\":\"57813\",\"type\":\"Range1d\"},{\"attributes\":{\"end_angle\":{\"units\":\"rad\",\"value\":3.141592653589793},\"fill_alpha\":{\"value\":0.6},\"fill_color\":{\"value\":\"red\"},\"inner_radius\":{\"units\":\"data\",\"value\":0.55},\"line_alpha\":{\"value\":0.6},\"line_color\":{\"value\":\"red\"},\"outer_radius\":{\"units\":\"data\",\"value\":0.8},\"start_angle\":{\"field\":\"sa\",\"units\":\"rad\"},\"x\":{\"value\":0},\"y\":{\"value\":0}},\"id\":\"57809\",\"type\":\"AnnularWedge\"},{\"attributes\":{\"end_angle\":{\"units\":\"rad\",\"value\":3.141592653589793},\"fill_alpha\":{\"value\":0.1},\"fill_color\":{\"value\":\"#1f77b4\"},\"inner_radius\":{\"units\":\"data\",\"value\":0.55},\"line_alpha\":{\"value\":0.1},\"line_color\":{\"value\":\"#1f77b4\"},\"outer_radius\":{\"units\":\"data\",\"value\":0.8},\"start_angle\":{\"field\":\"sa\",\"units\":\"rad\"},\"x\":{\"value\":0},\"y\":{\"value\":0}},\"id\":\"57810\",\"type\":\"AnnularWedge\"},{\"attributes\":{\"data_source\":{\"id\":\"57807\",\"type\":\"ColumnDataSource\"},\"glyph\":{\"id\":\"57809\",\"type\":\"AnnularWedge\"},\"hover_glyph\":null,\"muted_glyph\":null,\"nonselection_glyph\":{\"id\":\"57810\",\"type\":\"AnnularWedge\"},\"selection_glyph\":null,\"view\":{\"id\":\"57812\",\"type\":\"CDSView\"}},\"id\":\"57811\",\"type\":\"GlyphRenderer\"},{\"attributes\":{\"source\":{\"id\":\"57807\",\"type\":\"ColumnDataSource\"}},\"id\":\"57812\",\"type\":\"CDSView\"},{\"attributes\":{\"callback\":null,\"data\":{\"sa\":[1.5707963267948966]},\"selected\":{\"id\":\"57848\",\"type\":\"Selection\"},\"selection_policy\":{\"id\":\"57847\",\"type\":\"UnionRenderers\"}},\"id\":\"57807\",\"type\":\"ColumnDataSource\"},{\"attributes\":{\"callback\":null},\"id\":\"57788\",\"type\":\"DataRange1d\"},{\"attributes\":{\"text\":\"8.10\",\"text_align\":\"center\",\"text_font_size\":{\"value\":\"50pt\"},\"x\":0,\"y\":0},\"id\":\"57814\",\"type\":\"Label\"},{\"attributes\":{\"text\":\"Main\",\"text_align\":\"center\",\"text_font_size\":{\"value\":\"16pt\"},\"x\":0,\"y\":-0.07},\"id\":\"57815\",\"type\":\"Label\"},{\"attributes\":{},\"id\":\"57792\",\"type\":\"LinearScale\"},{\"attributes\":{\"text\":\"\"},\"id\":\"57841\",\"type\":\"Title\"},{\"attributes\":{},\"id\":\"57843\",\"type\":\"BasicTickFormatter\"},{\"attributes\":{},\"id\":\"57845\",\"type\":\"BasicTickFormatter\"},{\"attributes\":{},\"id\":\"57794\",\"type\":\"LinearScale\"},{\"attributes\":{},\"id\":\"57847\",\"type\":\"UnionRenderers\"},{\"attributes\":{\"formatter\":{\"id\":\"57843\",\"type\":\"BasicTickFormatter\"},\"ticker\":{\"id\":\"57797\",\"type\":\"BasicTicker\"},\"visible\":false},\"id\":\"57796\",\"type\":\"LinearAxis\"}],\"root_ids\":[\"57787\"]},\"title\":\"Bokeh Application\",\"version\":\"1.1.0\"}};\n",
       "  var render_items = [{\"docid\":\"1b260d9d-77c3-4f20-88fc-743b119b03c1\",\"roots\":{\"57787\":\"938d7ac2-33ca-4e15-a624-49058f7ab414\"}}];\n",
       "  root.Bokeh.embed.embed_items_notebook(docs_json, render_items);\n",
       "\n",
       "  }\n",
       "  if (root.Bokeh !== undefined) {\n",
       "    embed_document(root);\n",
       "  } else {\n",
       "    var attempts = 0;\n",
       "    var timer = setInterval(function(root) {\n",
       "      if (root.Bokeh !== undefined) {\n",
       "        embed_document(root);\n",
       "        clearInterval(timer);\n",
       "      }\n",
       "      attempts++;\n",
       "      if (attempts > 100) {\n",
       "        console.log(\"Bokeh: ERROR: Unable to run BokehJS code because BokehJS library is missing\");\n",
       "        clearInterval(timer);\n",
       "      }\n",
       "    }, 10, root)\n",
       "  }\n",
       "})(window);"
      ],
      "application/vnd.bokehjs_exec.v0+json": ""
     },
     "metadata": {
      "application/vnd.bokehjs_exec.v0+json": {
       "id": "57787"
      }
     },
     "output_type": "display_data"
    }
   ],
   "source": [
    "import math\n",
    "from bokeh.models import Range1d,Label\n",
    "from bokeh.models import ColumnDataSource\n",
    "\n",
    "p = figure(width=400, height=200, tools=[])\n",
    "\n",
    "maxv = 10\n",
    "def angle(x):\n",
    "    x = min(x,maxv)\n",
    "    return (1-x/maxv)*math.pi\n",
    "value = 8.1\n",
    "sa = angle(value)\n",
    "\n",
    "ds = ColumnDataSource(dict(sa=[sa]))\n",
    "p.annular_wedge(x=0, y=0, inner_radius=0.55, outer_radius=0.8,\n",
    "                start_angle='sa', end_angle=math.pi, color=\"red\", alpha=0.6, source = ds)\n",
    "\n",
    "# cosmetics\n",
    "p.y_range=Range1d(-0.1,1)\n",
    "p.toolbar_location=None\n",
    "p.axis.visible = False\n",
    "p.grid.visible = False\n",
    "mytext = Label(x=0, y=0, \n",
    "               text='{:3.2f}'.format(value), \n",
    "               text_font_size='50pt', text_align='center')\n",
    "mytext2 = Label(x=0, y=-0.07, text='Main', text_font_size='16pt', text_align='center')\n",
    "\n",
    "p.add_layout(mytext)\n",
    "p.add_layout(mytext2)\n",
    "    \n",
    "ds.patch({'sa':[(0,angle(5))]})\n",
    "show(p)\n"
   ]
  },
  {
   "cell_type": "code",
   "execution_count": 7,
   "metadata": {},
   "outputs": [
    {
     "data": {
      "text/html": [
       "<div>\n",
       "<style scoped>\n",
       "    .dataframe tbody tr th:only-of-type {\n",
       "        vertical-align: middle;\n",
       "    }\n",
       "\n",
       "    .dataframe tbody tr th {\n",
       "        vertical-align: top;\n",
       "    }\n",
       "\n",
       "    .dataframe thead th {\n",
       "        text-align: right;\n",
       "    }\n",
       "</style>\n",
       "<table border=\"1\" class=\"dataframe\">\n",
       "  <thead>\n",
       "    <tr style=\"text-align: right;\">\n",
       "      <th></th>\n",
       "      <th>x</th>\n",
       "      <th>y</th>\n",
       "    </tr>\n",
       "  </thead>\n",
       "  <tbody>\n",
       "    <tr>\n",
       "      <th>0</th>\n",
       "      <td>0</td>\n",
       "      <td>2.0</td>\n",
       "    </tr>\n",
       "    <tr>\n",
       "      <th>1</th>\n",
       "      <td>1</td>\n",
       "      <td>3.0</td>\n",
       "    </tr>\n",
       "  </tbody>\n",
       "</table>\n",
       "</div>"
      ],
      "text/plain": [
       "   x    y\n",
       "0  0  2.0\n",
       "1  1  3.0"
      ]
     },
     "execution_count": 7,
     "metadata": {},
     "output_type": "execute_result"
    }
   ],
   "source": [
    "import pandas as pd\n",
    "df = pd.DataFrame({'x':[0, 1], 'y':[2.,3]})\n",
    "df"
   ]
  },
  {
   "cell_type": "code",
   "execution_count": 8,
   "metadata": {},
   "outputs": [
    {
     "data": {
      "text/plain": [
       "array([2., 3.])"
      ]
     },
     "execution_count": 8,
     "metadata": {},
     "output_type": "execute_result"
    }
   ],
   "source": [
    "df['y'].values"
   ]
  },
  {
   "cell_type": "code",
   "execution_count": 9,
   "metadata": {},
   "outputs": [
    {
     "data": {
      "text/html": [
       "\n",
       "\n",
       "\n",
       "\n",
       "\n",
       "\n",
       "  <div class=\"bk-root\" id=\"627c2d4f-ff27-4e9b-8235-5e605bde6877\" data-root-id=\"1631\"></div>\n"
      ]
     },
     "metadata": {},
     "output_type": "display_data"
    },
    {
     "data": {
      "application/javascript": [
       "(function(root) {\n",
       "  function embed_document(root) {\n",
       "    \n",
       "  var docs_json = {\"222e792d-41bf-48e5-b3e3-2e0f7347d3b7\":{\"roots\":{\"references\":[{\"attributes\":{\"children\":[[{\"id\":\"1581\",\"subtype\":\"Figure\",\"type\":\"Plot\"},0,0],[{\"id\":\"1620\",\"type\":\"Button\"},0,1]]},\"id\":\"1631\",\"type\":\"GridBox\"},{\"attributes\":{},\"id\":\"1588\",\"type\":\"LinearScale\"},{\"attributes\":{\"callback\":null,\"data\":{\"x\":[1,2],\"y\":[1,2]},\"selected\":{\"id\":\"1628\",\"type\":\"Selection\"},\"selection_policy\":{\"id\":\"1627\",\"type\":\"UnionRenderers\"}},\"id\":\"1613\",\"type\":\"ColumnDataSource\"},{\"attributes\":{\"callback\":null},\"id\":\"1584\",\"type\":\"DataRange1d\"},{\"attributes\":{},\"id\":\"1586\",\"type\":\"LinearScale\"},{\"attributes\":{\"active_drag\":\"auto\",\"active_inspect\":\"auto\",\"active_multi\":null,\"active_scroll\":\"auto\",\"active_tap\":\"auto\",\"tools\":[{\"id\":\"1600\",\"type\":\"PanTool\"},{\"id\":\"1601\",\"type\":\"WheelZoomTool\"},{\"id\":\"1602\",\"type\":\"BoxZoomTool\"},{\"id\":\"1603\",\"type\":\"SaveTool\"},{\"id\":\"1604\",\"type\":\"ResetTool\"},{\"id\":\"1605\",\"type\":\"HelpTool\"}]},\"id\":\"1606\",\"type\":\"Toolbar\"},{\"attributes\":{\"data_source\":{\"id\":\"1613\",\"type\":\"ColumnDataSource\"},\"glyph\":{\"id\":\"1614\",\"type\":\"Scatter\"},\"hover_glyph\":null,\"muted_glyph\":null,\"nonselection_glyph\":{\"id\":\"1615\",\"type\":\"Scatter\"},\"selection_glyph\":null,\"view\":{\"id\":\"1617\",\"type\":\"CDSView\"}},\"id\":\"1616\",\"type\":\"GlyphRenderer\"},{\"attributes\":{\"fill_alpha\":{\"value\":0.1},\"fill_color\":{\"value\":\"#1f77b4\"},\"line_alpha\":{\"value\":0.1},\"line_color\":{\"value\":\"#1f77b4\"},\"x\":{\"field\":\"x\"},\"y\":{\"field\":\"y\"}},\"id\":\"1615\",\"type\":\"Scatter\"},{\"attributes\":{\"source\":{\"id\":\"1613\",\"type\":\"ColumnDataSource\"}},\"id\":\"1617\",\"type\":\"CDSView\"},{\"attributes\":{},\"id\":\"1604\",\"type\":\"ResetTool\"},{\"attributes\":{},\"id\":\"1600\",\"type\":\"PanTool\"},{\"attributes\":{\"args\":{\"label\":{\"id\":\"1618\",\"type\":\"Label\"}},\"code\":\"\\nvar now = new Date();\\nlabel.text = now.toString();\\n\"},\"id\":\"1619\",\"type\":\"CustomJS\"},{\"attributes\":{},\"id\":\"1605\",\"type\":\"HelpTool\"},{\"attributes\":{\"callback\":{\"id\":\"1619\",\"type\":\"CustomJS\"},\"icon\":null,\"label\":\"Change label\",\"width\":200},\"id\":\"1620\",\"type\":\"Button\"},{\"attributes\":{\"formatter\":{\"id\":\"1623\",\"type\":\"BasicTickFormatter\"},\"ticker\":{\"id\":\"1591\",\"type\":\"BasicTicker\"}},\"id\":\"1590\",\"type\":\"LinearAxis\"},{\"attributes\":{\"callback\":null},\"id\":\"1582\",\"type\":\"DataRange1d\"},{\"attributes\":{\"text\":\"\"},\"id\":\"1621\",\"type\":\"Title\"},{\"attributes\":{},\"id\":\"1623\",\"type\":\"BasicTickFormatter\"},{\"attributes\":{\"ticker\":{\"id\":\"1591\",\"type\":\"BasicTicker\"}},\"id\":\"1594\",\"type\":\"Grid\"},{\"attributes\":{},\"id\":\"1625\",\"type\":\"BasicTickFormatter\"},{\"attributes\":{\"formatter\":{\"id\":\"1625\",\"type\":\"BasicTickFormatter\"},\"ticker\":{\"id\":\"1596\",\"type\":\"BasicTicker\"}},\"id\":\"1595\",\"type\":\"LinearAxis\"},{\"attributes\":{},\"id\":\"1627\",\"type\":\"UnionRenderers\"},{\"attributes\":{\"dimension\":1,\"ticker\":{\"id\":\"1596\",\"type\":\"BasicTicker\"}},\"id\":\"1599\",\"type\":\"Grid\"},{\"attributes\":{},\"id\":\"1596\",\"type\":\"BasicTicker\"},{\"attributes\":{},\"id\":\"1628\",\"type\":\"Selection\"},{\"attributes\":{},\"id\":\"1591\",\"type\":\"BasicTicker\"},{\"attributes\":{\"below\":[{\"id\":\"1590\",\"type\":\"LinearAxis\"}],\"center\":[{\"id\":\"1594\",\"type\":\"Grid\"},{\"id\":\"1599\",\"type\":\"Grid\"},{\"id\":\"1618\",\"type\":\"Label\"}],\"left\":[{\"id\":\"1595\",\"type\":\"LinearAxis\"}],\"renderers\":[{\"id\":\"1616\",\"type\":\"GlyphRenderer\"}],\"title\":{\"id\":\"1621\",\"type\":\"Title\"},\"toolbar\":{\"id\":\"1606\",\"type\":\"Toolbar\"},\"toolbar_location\":null,\"x_range\":{\"id\":\"1582\",\"type\":\"DataRange1d\"},\"x_scale\":{\"id\":\"1586\",\"type\":\"LinearScale\"},\"y_range\":{\"id\":\"1584\",\"type\":\"DataRange1d\"},\"y_scale\":{\"id\":\"1588\",\"type\":\"LinearScale\"}},\"id\":\"1581\",\"subtype\":\"Figure\",\"type\":\"Plot\"},{\"attributes\":{\"bottom_units\":\"screen\",\"fill_alpha\":{\"value\":0.5},\"fill_color\":{\"value\":\"lightgrey\"},\"left_units\":\"screen\",\"level\":\"overlay\",\"line_alpha\":{\"value\":1.0},\"line_color\":{\"value\":\"black\"},\"line_dash\":[4,4],\"line_width\":{\"value\":2},\"render_mode\":\"css\",\"right_units\":\"screen\",\"top_units\":\"screen\"},\"id\":\"1629\",\"type\":\"BoxAnnotation\"},{\"attributes\":{\"text\":\"Test\",\"x\":1,\"y\":1},\"id\":\"1618\",\"type\":\"Label\"},{\"attributes\":{\"overlay\":{\"id\":\"1629\",\"type\":\"BoxAnnotation\"}},\"id\":\"1602\",\"type\":\"BoxZoomTool\"},{\"attributes\":{\"fill_color\":{\"value\":\"#1f77b4\"},\"line_color\":{\"value\":\"#1f77b4\"},\"x\":{\"field\":\"x\"},\"y\":{\"field\":\"y\"}},\"id\":\"1614\",\"type\":\"Scatter\"},{\"attributes\":{},\"id\":\"1601\",\"type\":\"WheelZoomTool\"},{\"attributes\":{},\"id\":\"1603\",\"type\":\"SaveTool\"}],\"root_ids\":[\"1631\"]},\"title\":\"Bokeh Application\",\"version\":\"1.1.0\"}};\n",
       "  var render_items = [{\"docid\":\"222e792d-41bf-48e5-b3e3-2e0f7347d3b7\",\"roots\":{\"1631\":\"627c2d4f-ff27-4e9b-8235-5e605bde6877\"}}];\n",
       "  root.Bokeh.embed.embed_items_notebook(docs_json, render_items);\n",
       "\n",
       "  }\n",
       "  if (root.Bokeh !== undefined) {\n",
       "    embed_document(root);\n",
       "  } else {\n",
       "    var attempts = 0;\n",
       "    var timer = setInterval(function(root) {\n",
       "      if (root.Bokeh !== undefined) {\n",
       "        embed_document(root);\n",
       "        clearInterval(timer);\n",
       "      }\n",
       "      attempts++;\n",
       "      if (attempts > 100) {\n",
       "        console.log(\"Bokeh: ERROR: Unable to run BokehJS code because BokehJS library is missing\");\n",
       "        clearInterval(timer);\n",
       "      }\n",
       "    }, 10, root)\n",
       "  }\n",
       "})(window);"
      ],
      "application/vnd.bokehjs_exec.v0+json": ""
     },
     "metadata": {
      "application/vnd.bokehjs_exec.v0+json": {
       "id": "1631"
      }
     },
     "output_type": "display_data"
    }
   ],
   "source": [
    "from bokeh.io import show\n",
    "from bokeh.plotting import figure\n",
    "from bokeh.models import Label, Button, CustomJS\n",
    "from bokeh.layouts import gridplot\n",
    "\n",
    "fig = figure()\n",
    "\n",
    "fig.scatter([1,2],[1,2])\n",
    "\n",
    "label = Label(x=1,y=1,text='Test')\n",
    "\n",
    "fig.add_layout(label)\n",
    "\n",
    "update_label = \"\"\"\n",
    "var now = new Date();\n",
    "label.text = now.toString();\n",
    "\"\"\"\n",
    "\n",
    "button = Button(label='Change label',width=200,callback=CustomJS(args={'label':label},code=update_label))\n",
    "\n",
    "show(gridplot([[fig,button]],toolbar_location=None))"
   ]
  },
  {
   "cell_type": "code",
   "execution_count": null,
   "metadata": {},
   "outputs": [],
   "source": []
  }
 ],
 "metadata": {
  "kernelspec": {
   "display_name": "Python 3",
   "language": "python",
   "name": "python3"
  },
  "language_info": {
   "codemirror_mode": {
    "name": "ipython",
    "version": 3
   },
   "file_extension": ".py",
   "mimetype": "text/x-python",
   "name": "python",
   "nbconvert_exporter": "python",
   "pygments_lexer": "ipython3",
   "version": "3.6.8"
  }
 },
 "nbformat": 4,
 "nbformat_minor": 2
}
