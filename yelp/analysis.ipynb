{
 "cells": [
  {
   "cell_type": "code",
   "execution_count": 1,
   "metadata": {},
   "outputs": [],
   "source": [
    "import numpy as np\n",
    "import h5py\n",
    "import matplotlib.pyplot as plt"
   ]
  },
  {
   "cell_type": "markdown",
   "metadata": {},
   "source": [
    "Let's start by opening the h5 file that contains our data"
   ]
  },
  {
   "cell_type": "code",
   "execution_count": 3,
   "metadata": {},
   "outputs": [
    {
     "data": {
      "text/plain": [
       "(6685900, 254)"
      ]
     },
     "execution_count": 3,
     "metadata": {},
     "output_type": "execute_result"
    }
   ],
   "source": [
    "datadir = '/data2/cbernet/maldives/yelp_dataset'\n",
    "h5 = h5py.File(datadir+'/data.h5')\n",
    "d = h5['reviews']\n",
    "d.shape"
   ]
  },
  {
   "cell_type": "markdown",
   "metadata": {},
   "source": [
    "The data is as expected: 6685900 reviews, and for each of them, 254 values: \n",
    "\n",
    "* rating\n",
    "* useful\n",
    "* funny\n",
    "* cool \n",
    "* 250 encoded words. \n",
    "\n",
    "We can have a look at the first entry. It is a positive one (5 stars in the first column) and one person found it useful. The review text is relatively short, and followed by the padding zero values. "
   ]
  },
  {
   "cell_type": "code",
   "execution_count": 5,
   "metadata": {},
   "outputs": [
    {
     "name": "stdout",
     "output_type": "stream",
     "text": [
      "[    5     1     0     0   696    26    39  3348    26  1523    44   336\n",
      "    64    14   153  5179  2731    24    72   172  4377   125   257  3044\n",
      "  6568 10127  8410     3    33   277   219   501  8900     0     0     0\n",
      "     0     0     0     0     0     0     0     0     0     0     0     0\n",
      "     0     0     0     0     0     0     0     0     0     0     0     0\n",
      "     0     0     0     0     0     0     0     0     0     0     0     0\n",
      "     0     0     0     0     0     0     0     0     0     0     0     0\n",
      "     0     0     0     0     0     0     0     0     0     0     0     0\n",
      "     0     0     0     0     0     0     0     0     0     0     0     0\n",
      "     0     0     0     0     0     0     0     0     0     0     0     0\n",
      "     0     0     0     0     0     0     0     0     0     0     0     0\n",
      "     0     0     0     0     0     0     0     0     0     0     0     0\n",
      "     0     0     0     0     0     0     0     0     0     0     0     0\n",
      "     0     0     0     0     0     0     0     0     0     0     0     0\n",
      "     0     0     0     0     0     0     0     0     0     0     0     0\n",
      "     0     0     0     0     0     0     0     0     0     0     0     0\n",
      "     0     0     0     0     0     0     0     0     0     0     0     0\n",
      "     0     0     0     0     0     0     0     0     0     0     0     0\n",
      "     0     0     0     0     0     0     0     0     0     0     0     0\n",
      "     0     0     0     0     0     0     0     0     0     0     0     0\n",
      "     0     0     0     0     0     0     0     0     0     0     0     0\n",
      "     0     0]\n"
     ]
    }
   ],
   "source": [
    "print(d[0])"
   ]
  },
  {
   "cell_type": "markdown",
   "metadata": {},
   "source": [
    "To decode this review, we are going to use our Vocabulary class. "
   ]
  },
  {
   "cell_type": "code",
   "execution_count": 6,
   "metadata": {},
   "outputs": [
    {
     "data": {
      "text/plain": [
       "'<UNK> helped out when locked out apartment he quick got at price lowest comparison all other area definately recommend top master situations requiring locksmith they get job done quickly effectively'"
      ]
     },
     "execution_count": 6,
     "metadata": {},
     "output_type": "execute_result"
    }
   ],
   "source": [
    "from vocabulary import Vocabulary\n",
    "vocab = Vocabulary.load(datadir+'/index')\n",
    "rev1 = d[0,1:]\n",
    "rev1 = rev1[rev1!=0]\n",
    "' '.join(vocab.decode(rev1))"
   ]
  },
  {
   "cell_type": "markdown",
   "metadata": {},
   "source": [
    "For what we want to do next, we load the whole dataset in memory, it's going to be faster:"
   ]
  },
  {
   "cell_type": "code",
   "execution_count": 7,
   "metadata": {},
   "outputs": [],
   "source": [
    "d = d[:]"
   ]
  },
  {
   "cell_type": "markdown",
   "metadata": {},
   "source": [
    "Let's plot the distribution of words in the reviews:"
   ]
  },
  {
   "cell_type": "code",
   "execution_count": 10,
   "metadata": {},
   "outputs": [
    {
     "data": {
      "text/plain": [
       "(array([  1038.,    415.,    456.,    625.,   1137.,   2068.,   3768.,\n",
       "          5886.,   8594.,  12730.,  19735.,  30048.,  42499.,  54013.,\n",
       "         63519.,  70318.,  74705.,  77849.,  79844.,  81107.,  81612.,\n",
       "         82581.,  82443.,  82885.,  82453.,  82032.,  82324.,  81949.,\n",
       "         81981.,  81408.,  80603.,  79998.,  79513.,  78804.,  77777.,\n",
       "         76974.,  75738.,  74805.,  73592.,  72527.,  71994.,  70476.,\n",
       "         69457.,  68392.,  66827.,  66237.,  65352.,  64467.,  62895.,\n",
       "         61749.,  60725.,  59826.,  58271.,  57917.,  56793.,  55611.,\n",
       "         54894.,  53596.,  52253.,  51849.,  51048.,  50133.,  48632.,\n",
       "         48151.,  47504.,  46591.,  46093.,  44636.,  43862.,  42710.,\n",
       "         42689.,  41939.,  40610.,  40458.,  39455.,  39004.,  38255.,\n",
       "         37477.,  36934.,  36216.,  35728.,  35163.,  34285.,  33633.,\n",
       "         33390.,  32716.,  32117.,  31657.,  31086.,  30433.,  30156.,\n",
       "         29392.,  29081.,  28753.,  27958.,  28091.,  27242.,  26758.,\n",
       "         26235.,  25919.,  25424.,  25022.,  24860.,  24298.,  23991.,\n",
       "         23709.,  23004.,  22983.,  22977.,  22420.,  21858.,  21293.,\n",
       "         21230.,  20704.,  20610.,  20146.,  19816.,  19497.,  19024.,\n",
       "         18852.,  19077.,  18414.,  17900.,  17666.,  17508.,  33623.,\n",
       "         16468.,  16256.,  16134.,  15779.,  15819.,  15401.,  15070.,\n",
       "         14489.,  14670.,  14521.,  14141.,  14175.,  13812.,  13410.,\n",
       "         13341.,  13093.,  12871.,  12832.,  12476.,  12382.,  12015.,\n",
       "         11947.,  11795.,  11658.,  11512.,  11233.,  11096.,  10932.,\n",
       "         10821.,  10604.,  10348.,  10439.,   9987.,   9919.,   9740.,\n",
       "          9822.,   9317.,   9480.,   9293.,   9077.,   8909.,   8764.,\n",
       "          8827.,   8624.,   8680.,   8281.,   8125.,   8002.,   7985.,\n",
       "          7987.,   7741.,   7525.,   7516.,   7500.,   7227.,   7170.,\n",
       "          7047.,   6968.,   6811.,   6792.,   6619.,   6622.,   6641.,\n",
       "          6598.,   6452.,   6249.,   6168.,   6005.,   6020.,   5821.,\n",
       "          5811.,   5534.,   5775.,   5738.,   5496.,   5441.,   5410.,\n",
       "          5460.,   5277.,   5050.,   4993.,   4986.,   4980.,   4818.,\n",
       "          4704.,   4630.,   4694.,   4561.,   4629.,   4498.,   4391.,\n",
       "          4422.,   4344.,   4161.,   4103.,   3983.,   4123.,   4043.,\n",
       "          4043.,   3954.,   3951.,   3892.,   3786.,   3718.,   3663.,\n",
       "          3632.,   3499.,   3553.,   3478.,   3425.,   3354.,   3260.,\n",
       "          3283.,   3187.,   3287.,   3240.,   3030.,   2984.,   3136.,\n",
       "          2981.,   2893.,   2990.,   2875., 256870.]),\n",
       " array([ -0.5  ,   0.504,   1.508,   2.512,   3.516,   4.52 ,   5.524,\n",
       "          6.528,   7.532,   8.536,   9.54 ,  10.544,  11.548,  12.552,\n",
       "         13.556,  14.56 ,  15.564,  16.568,  17.572,  18.576,  19.58 ,\n",
       "         20.584,  21.588,  22.592,  23.596,  24.6  ,  25.604,  26.608,\n",
       "         27.612,  28.616,  29.62 ,  30.624,  31.628,  32.632,  33.636,\n",
       "         34.64 ,  35.644,  36.648,  37.652,  38.656,  39.66 ,  40.664,\n",
       "         41.668,  42.672,  43.676,  44.68 ,  45.684,  46.688,  47.692,\n",
       "         48.696,  49.7  ,  50.704,  51.708,  52.712,  53.716,  54.72 ,\n",
       "         55.724,  56.728,  57.732,  58.736,  59.74 ,  60.744,  61.748,\n",
       "         62.752,  63.756,  64.76 ,  65.764,  66.768,  67.772,  68.776,\n",
       "         69.78 ,  70.784,  71.788,  72.792,  73.796,  74.8  ,  75.804,\n",
       "         76.808,  77.812,  78.816,  79.82 ,  80.824,  81.828,  82.832,\n",
       "         83.836,  84.84 ,  85.844,  86.848,  87.852,  88.856,  89.86 ,\n",
       "         90.864,  91.868,  92.872,  93.876,  94.88 ,  95.884,  96.888,\n",
       "         97.892,  98.896,  99.9  , 100.904, 101.908, 102.912, 103.916,\n",
       "        104.92 , 105.924, 106.928, 107.932, 108.936, 109.94 , 110.944,\n",
       "        111.948, 112.952, 113.956, 114.96 , 115.964, 116.968, 117.972,\n",
       "        118.976, 119.98 , 120.984, 121.988, 122.992, 123.996, 125.   ,\n",
       "        126.004, 127.008, 128.012, 129.016, 130.02 , 131.024, 132.028,\n",
       "        133.032, 134.036, 135.04 , 136.044, 137.048, 138.052, 139.056,\n",
       "        140.06 , 141.064, 142.068, 143.072, 144.076, 145.08 , 146.084,\n",
       "        147.088, 148.092, 149.096, 150.1  , 151.104, 152.108, 153.112,\n",
       "        154.116, 155.12 , 156.124, 157.128, 158.132, 159.136, 160.14 ,\n",
       "        161.144, 162.148, 163.152, 164.156, 165.16 , 166.164, 167.168,\n",
       "        168.172, 169.176, 170.18 , 171.184, 172.188, 173.192, 174.196,\n",
       "        175.2  , 176.204, 177.208, 178.212, 179.216, 180.22 , 181.224,\n",
       "        182.228, 183.232, 184.236, 185.24 , 186.244, 187.248, 188.252,\n",
       "        189.256, 190.26 , 191.264, 192.268, 193.272, 194.276, 195.28 ,\n",
       "        196.284, 197.288, 198.292, 199.296, 200.3  , 201.304, 202.308,\n",
       "        203.312, 204.316, 205.32 , 206.324, 207.328, 208.332, 209.336,\n",
       "        210.34 , 211.344, 212.348, 213.352, 214.356, 215.36 , 216.364,\n",
       "        217.368, 218.372, 219.376, 220.38 , 221.384, 222.388, 223.392,\n",
       "        224.396, 225.4  , 226.404, 227.408, 228.412, 229.416, 230.42 ,\n",
       "        231.424, 232.428, 233.432, 234.436, 235.44 , 236.444, 237.448,\n",
       "        238.452, 239.456, 240.46 , 241.464, 242.468, 243.472, 244.476,\n",
       "        245.48 , 246.484, 247.488, 248.492, 249.496, 250.5  ]),\n",
       " <a list of 250 Patch objects>)"
      ]
     },
     "execution_count": 10,
     "metadata": {},
     "output_type": "execute_result"
    },
    {
     "data": {
      "image/png": "[encoded data removed]",
      "text/plain": [
       "<Figure size 432x288 with 1 Axes>"
      ]
     },
     "metadata": {
      "needs_background": "light"
     },
     "output_type": "display_data"
    }
   ],
   "source": [
    "plt.hist(np.count_nonzero(d[:,4:], axis=1), range=(-0.5, 250.5), bins=250)"
   ]
  },
  {
   "cell_type": "markdown",
   "metadata": {},
   "source": [
    "Since we have truncated our reviews at a maximum length of 250, all reviews which had more words end up in the last bin. "
   ]
  },
  {
   "cell_type": "markdown",
   "metadata": {},
   "source": [
    "Now let's plot the rating distribution:"
   ]
  },
  {
   "cell_type": "code",
   "execution_count": 11,
   "metadata": {},
   "outputs": [
    {
     "data": {
      "text/plain": [
       "(array([1002159.,  542394.,  739280., 1468985., 2933082.]),\n",
       " array([0.5, 1.5, 2.5, 3.5, 4.5, 5.5]),\n",
       " <a list of 5 Patch objects>)"
      ]
     },
     "execution_count": 11,
     "metadata": {},
     "output_type": "execute_result"
    },
    {
     "data": {
      "image/png": "[encoded data removed]",
      "text/plain": [
       "<Figure size 432x288 with 1 Axes>"
      ]
     },
     "metadata": {
      "needs_background": "light"
     },
     "output_type": "display_data"
    }
   ],
   "source": [
    "plt.hist(d[:,0], range=(0.5,5.5), bins=5)"
   ]
  }
 ],
 "metadata": {
  "kernelspec": {
   "display_name": "Python 3",
   "language": "python",
   "name": "python3"
  },
  "language_info": {
   "codemirror_mode": {
    "name": "ipython",
    "version": 3
   },
   "file_extension": ".py",
   "mimetype": "text/x-python",
   "name": "python",
   "nbconvert_exporter": "python",
   "pygments_lexer": "ipython3",
   "version": "3.6.8"
  }
 },
 "nbformat": 4,
 "nbformat_minor": 2
}
