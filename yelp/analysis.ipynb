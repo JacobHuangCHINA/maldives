{
 "cells": [
  {
   "cell_type": "code",
   "execution_count": 1,
   "metadata": {},
   "outputs": [],
   "source": [
    "import numpy as np\n",
    "import h5py\n",
    "import matplotlib.pyplot as plt"
   ]
  },
  {
   "cell_type": "markdown",
   "metadata": {},
   "source": [
    "Let's start by opening the h5 file that contains our data"
   ]
  },
  {
   "cell_type": "code",
   "execution_count": 2,
   "metadata": {},
   "outputs": [
    {
     "data": {
      "text/plain": [
       "(6685900, 251)"
      ]
     },
     "execution_count": 2,
     "metadata": {},
     "output_type": "execute_result"
    }
   ],
   "source": [
    "datadir = '/Users/cbernet/Datasets/MachineLearning/yelp_dataset'\n",
    "h5 = h5py.File(datadir+'/data.h5')\n",
    "d = h5['reviews']\n",
    "d.shape"
   ]
  },
  {
   "cell_type": "markdown",
   "metadata": {},
   "source": [
    "The data is as expected: 6685900 reviews, and for each of them, 251 values: 1 rating, and 250 encoded words. \n",
    "\n",
    "We can have a look at the first entry. It is a positive one (5 stars in the first column), and it is relatively short. We see the padding. "
   ]
  },
  {
   "cell_type": "code",
   "execution_count": 3,
   "metadata": {},
   "outputs": [
    {
     "name": "stdout",
     "output_type": "stream",
     "text": [
      "[   5  701    4 4099    7 1419 2684  131  200    4  865 2999  153   77\n",
      "  530    2  176   99  440  157 1391 2999   36  119    0    0    0    0\n",
      "    0    0    0    0    0    0    0    0    0    0    0    0    0    0\n",
      "    0    0    0    0    0    0    0    0    0    0    0    0    0    0\n",
      "    0    0    0    0    0    0    0    0    0    0    0    0    0    0\n",
      "    0    0    0    0    0    0    0    0    0    0    0    0    0    0\n",
      "    0    0    0    0    0    0    0    0    0    0    0    0    0    0\n",
      "    0    0    0    0    0    0    0    0    0    0    0    0    0    0\n",
      "    0    0    0    0    0    0    0    0    0    0    0    0    0    0\n",
      "    0    0    0    0    0    0    0    0    0    0    0    0    0    0\n",
      "    0    0    0    0    0    0    0    0    0    0    0    0    0    0\n",
      "    0    0    0    0    0    0    0    0    0    0    0    0    0    0\n",
      "    0    0    0    0    0    0    0    0    0    0    0    0    0    0\n",
      "    0    0    0    0    0    0    0    0    0    0    0    0    0    0\n",
      "    0    0    0    0    0    0    0    0    0    0    0    0    0    0\n",
      "    0    0    0    0    0    0    0    0    0    0    0    0    0    0\n",
      "    0    0    0    0    0    0    0    0    0    0    0    0    0    0\n",
      "    0    0    0    0    0    0    0    0    0    0    0    0    0]\n"
     ]
    }
   ],
   "source": [
    "print(d[0])"
   ]
  },
  {
   "cell_type": "markdown",
   "metadata": {},
   "source": [
    "To decode this review, we are going to use our Vocabulary class. "
   ]
  },
  {
   "cell_type": "code",
   "execution_count": 4,
   "metadata": {},
   "outputs": [
    {
     "data": {
      "text/plain": [
       "\"worked with robert on cover couch am happy with finished project price best received ! 'll definitely bring next furniture project their way\""
      ]
     },
     "execution_count": 4,
     "metadata": {},
     "output_type": "execute_result"
    }
   ],
   "source": [
    "from vocabulary import Vocabulary\n",
    "vocab = Vocabulary(dbfname=datadir+'/index')\n",
    "rev1 = d[0,1:]\n",
    "rev1 = rev1[rev1!=0]\n",
    "' '.join(vocab.decode(rev1))"
   ]
  },
  {
   "cell_type": "markdown",
   "metadata": {},
   "source": [
    "For what we want to do next, we load the whole dataset in memory, it's going to be faster:"
   ]
  },
  {
   "cell_type": "code",
   "execution_count": 5,
   "metadata": {},
   "outputs": [],
   "source": [
    "d = d[:]"
   ]
  },
  {
   "cell_type": "markdown",
   "metadata": {},
   "source": [
    "Let's plot the distribution of words in the reviews:"
   ]
  },
  {
   "cell_type": "code",
   "execution_count": 6,
   "metadata": {},
   "outputs": [
    {
     "data": {
      "text/plain": [
       "(array([  1038.,    415.,    456.,    625.,   1137.,   2067.,   3770.,\n",
       "          5885.,   8595.,  12730.,  19733.,  30051.,  42498.,  54014.,\n",
       "         63518.,  70318.,  74703.,  77849.,  79852.,  81102.,  81616.,\n",
       "         82577.,  82447.,  82879.,  82454.,  82029.,  82325.,  81952.,\n",
       "         81991.,  81400.,  80606.,  79993.,  79520.,  78797.,  77786.,\n",
       "         76975.,  75728.,  74808.,  73589.,  72532.,  71987.,  70475.,\n",
       "         69459.,  68398.,  66819.,  66239.,  65352.,  64472.,  62884.,\n",
       "         61763.,  60718.,  59832.,  58268.,  57917.,  56786.,  55615.,\n",
       "         54894.,  53606.,  52241.,  51857.,  51042.,  50133.,  48626.,\n",
       "         48158.,  47508.,  46591.,  46082.,  44637.,  43863.,  42726.,\n",
       "         42674.,  41945.,  40607.,  40464.,  39439.,  39017.,  38253.,\n",
       "         37479.,  36930.,  36218.,  35726.,  35168.,  34270.,  33643.,\n",
       "         33390.,  32718.,  32118.,  31660.,  31081.,  30434.,  30157.,\n",
       "         29397.,  29066.,  28760.,  27960.,  28090.,  27248.,  26754.,\n",
       "         26239.,  25910.,  25422.,  25026.,  24865.,  24281.,  24004.,\n",
       "         23710.,  22997.,  22986.,  22977.,  22415.,  21865.,  21295.,\n",
       "         21223.,  20714.,  20609.,  20144.,  19812.,  19497.,  19030.,\n",
       "         18849.,  19076.,  18415.,  17900.,  17660.,  17511.,  16796.,\n",
       "         16828.,  16467.,  16258.,  16138.,  15778.,  15814.,  15406.,\n",
       "         15067.,  14485.,  14673.,  14525.,  14130.,  14179.,  13817.,\n",
       "         13408.,  13343.,  13083.,  12881.,  12830.,  12472.,  12386.,\n",
       "         12017.,  11942.,  11797.,  11653.,  11517.,  11229.,  11112.,\n",
       "         10917.,  10822.,  10607.,  10348.,  10437.,   9985.,   9919.,\n",
       "          9747.,   9821.,   9315.,   9474.,   9299.,   9078.,   8907.,\n",
       "          8764.,   8828.,   8610.,   8690.,   8280.,   8127.,   8003.,\n",
       "          7988.,   7979.,   7748.,   7523.,   7524.,   7489.,   7225.,\n",
       "          7179.,   7042.,   6966.,   6811.,   6798.,   6618.,   6618.,\n",
       "          6644.,   6599.,   6455.,   6249.,   6167.,   6002.,   6017.,\n",
       "          5816.,   5821.,   5536.,   5769.,   5741.,   5495.,   5437.,\n",
       "          5406.,   5470.,   5276.,   5045.,   4999.,   4985.,   4977.,\n",
       "          4823.,   4704.,   4628.,   4694.,   4558.,   4627.,   4500.,\n",
       "          4391.,   4427.,   4343.,   4164.,   4094.,   3989.,   4120.,\n",
       "          4042.,   4043.,   3960.,   3946.,   3891.,   3791.,   3713.,\n",
       "          3664.,   3632.,   3499.,   3550.,   3485.,   3420.,   3359.,\n",
       "          3256.,   3279.,   3186.,   3297.,   3235.,   3028.,   2988.,\n",
       "          3136.,   2982.,   2894.,   2986., 259747.]),\n",
       " array([  0.,   1.,   2.,   3.,   4.,   5.,   6.,   7.,   8.,   9.,  10.,\n",
       "         11.,  12.,  13.,  14.,  15.,  16.,  17.,  18.,  19.,  20.,  21.,\n",
       "         22.,  23.,  24.,  25.,  26.,  27.,  28.,  29.,  30.,  31.,  32.,\n",
       "         33.,  34.,  35.,  36.,  37.,  38.,  39.,  40.,  41.,  42.,  43.,\n",
       "         44.,  45.,  46.,  47.,  48.,  49.,  50.,  51.,  52.,  53.,  54.,\n",
       "         55.,  56.,  57.,  58.,  59.,  60.,  61.,  62.,  63.,  64.,  65.,\n",
       "         66.,  67.,  68.,  69.,  70.,  71.,  72.,  73.,  74.,  75.,  76.,\n",
       "         77.,  78.,  79.,  80.,  81.,  82.,  83.,  84.,  85.,  86.,  87.,\n",
       "         88.,  89.,  90.,  91.,  92.,  93.,  94.,  95.,  96.,  97.,  98.,\n",
       "         99., 100., 101., 102., 103., 104., 105., 106., 107., 108., 109.,\n",
       "        110., 111., 112., 113., 114., 115., 116., 117., 118., 119., 120.,\n",
       "        121., 122., 123., 124., 125., 126., 127., 128., 129., 130., 131.,\n",
       "        132., 133., 134., 135., 136., 137., 138., 139., 140., 141., 142.,\n",
       "        143., 144., 145., 146., 147., 148., 149., 150., 151., 152., 153.,\n",
       "        154., 155., 156., 157., 158., 159., 160., 161., 162., 163., 164.,\n",
       "        165., 166., 167., 168., 169., 170., 171., 172., 173., 174., 175.,\n",
       "        176., 177., 178., 179., 180., 181., 182., 183., 184., 185., 186.,\n",
       "        187., 188., 189., 190., 191., 192., 193., 194., 195., 196., 197.,\n",
       "        198., 199., 200., 201., 202., 203., 204., 205., 206., 207., 208.,\n",
       "        209., 210., 211., 212., 213., 214., 215., 216., 217., 218., 219.,\n",
       "        220., 221., 222., 223., 224., 225., 226., 227., 228., 229., 230.,\n",
       "        231., 232., 233., 234., 235., 236., 237., 238., 239., 240., 241.,\n",
       "        242., 243., 244., 245., 246., 247., 248., 249., 250.]),\n",
       " <a list of 250 Patch objects>)"
      ]
     },
     "execution_count": 6,
     "metadata": {},
     "output_type": "execute_result"
    },
    {
     "data": {
      "image/png": "[encoded data removed]",
      "text/plain": [
       "<Figure size 432x288 with 1 Axes>"
      ]
     },
     "metadata": {
      "needs_background": "light"
     },
     "output_type": "display_data"
    }
   ],
   "source": [
    "plt.hist(np.count_nonzero(d[:,1:], axis=1), bins=250)"
   ]
  },
  {
   "cell_type": "markdown",
   "metadata": {},
   "source": [
    "Since we have truncated our reviews at a maximum length of 250, all reviews which had more words end up in the last bin. "
   ]
  },
  {
   "cell_type": "markdown",
   "metadata": {},
   "source": [
    "Now let's plot the rating distribution:"
   ]
  },
  {
   "cell_type": "code",
   "execution_count": 7,
   "metadata": {},
   "outputs": [
    {
     "data": {
      "text/plain": [
       "(array([1002159.,  542394.,  739280., 1468985., 2933082.]),\n",
       " array([0.5, 1.5, 2.5, 3.5, 4.5, 5.5]),\n",
       " <a list of 5 Patch objects>)"
      ]
     },
     "execution_count": 7,
     "metadata": {},
     "output_type": "execute_result"
    },
    {
     "data": {
      "image/png": "[encoded data removed]",
      "text/plain": [
       "<Figure size 432x288 with 1 Axes>"
      ]
     },
     "metadata": {
      "needs_background": "light"
     },
     "output_type": "display_data"
    }
   ],
   "source": [
    "plt.hist(d[:,0], range=(0.5,5.5), bins=5)"
   ]
  },
  {
   "cell_type": "code",
   "execution_count": null,
   "metadata": {},
   "outputs": [],
   "source": []
  }
 ],
 "metadata": {
  "kernelspec": {
   "display_name": "Python 3",
   "language": "python",
   "name": "python3"
  },
  "language_info": {
   "codemirror_mode": {
    "name": "ipython",
    "version": 3
   },
   "file_extension": ".py",
   "mimetype": "text/x-python",
   "name": "python",
   "nbconvert_exporter": "python",
   "pygments_lexer": "ipython3",
   "version": "3.6.8"
  }
 },
 "nbformat": 4,
 "nbformat_minor": 2
}
