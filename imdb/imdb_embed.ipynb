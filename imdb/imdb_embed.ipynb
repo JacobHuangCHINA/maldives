{
 "cells": [
  {
   "cell_type": "markdown",
   "metadata": {},
   "source": [
    "## About this post \n",
    "\n",
    "This tutorial is the third part of a series about natural language processing (NLP). Our goal is to train a neural network to do sentiment analysis, or in other words to understand whether some text is globally positive or negative. The first layer of our neural network will perform an operation called word embedding, which is essential in NLP with deep learning. \n",
    "\n",
    "In this post, you will learn: \n",
    "\n",
    "* what is word embedding \n",
    "* how to do word embedding with keras\n",
    "* how to do a simple sentiment analysis\n",
    "* how to visualize the results of word embedding \n",
    "\n",
    "**Prerequisites:**\n",
    "\n",
    "* You should be familiar with keras. If that's not the case, you can follow my tutorial on [deep learning for image recognition with keras](https://thedatafrog.com/deep-learning-keras/)\n",
    "\n",
    "You can run the code of this tutorial on the google colab platform. \n",
    "\n",
    "## The IMDB dataset\n",
    "\n",
    "We will work with the IMDB dataset, which contains 25,000 movie reviews from [IMDB](https://www.imdb.com/). Using the rating provided by the user with the text of the review, each review was labelled as positive or negative.\n",
    "\n",
    "The dataset is distributed with keras. Let's load it in memory:"
   ]
  },
  {
   "cell_type": "code",
   "execution_count": 1,
   "metadata": {},
   "outputs": [
    {
     "name": "stderr",
     "output_type": "stream",
     "text": [
      "Using TensorFlow backend.\n"
     ]
    }
   ],
   "source": [
    "import keras\n",
    "imdb = keras.datasets.imdb\n",
    "num_words = 20000\n",
    "(train_data, train_labels), (test_data, test_labels) = imdb.load_data(seed=1, num_words=num_words)"
   ]
  },
  {
   "cell_type": "markdown",
   "metadata": {},
   "source": [
    "The first review looks like this:"
   ]
  },
  {
   "cell_type": "code",
   "execution_count": 2,
   "metadata": {},
   "outputs": [
    {
     "name": "stdout",
     "output_type": "stream",
     "text": [
      "[1, 13, 28, 1039, 7, 14, 23, 1856, 13, 104, 36, 4, 699, 8060, 144, 297, 14, 175, 291, 18, 4, 375, 1784, 153, 38, 15, 75, 92, 859, 51, 16, 5, 15, 75, 377, 24, 8, 81, 4, 172, 2497, 174, 40, 1489, 49, 84, 11, 4, 2030, 3039, 121, 36, 92, 4881, 14, 20, 2, 9, 40, 6, 2, 621, 18, 148, 37, 191, 1941, 42, 511, 14, 20, 9, 17, 76, 253, 17, 269, 8, 3336, 4, 2, 8, 1278, 6, 543, 2647, 10, 10, 308, 3102, 2, 47, 43, 188, 46, 7, 1172, 5, 240, 2854, 145, 8, 4, 154, 3243, 11, 4819, 58, 18, 35, 32, 8, 327, 823, 7, 7350, 7, 265, 308, 1828, 145, 1646, 4, 154, 890, 5, 9, 14412, 34, 362, 2515, 154, 1914, 5, 27, 15227, 2, 17, 36, 837, 5, 1941, 32, 367, 4, 96, 10, 10, 13, 62, 386, 14, 48, 13, 16, 3178, 42, 48, 11, 882, 294, 16, 3412, 2, 4360, 2, 34, 6, 1042, 18, 2, 345, 96, 14, 9, 6, 862, 526, 3757, 917, 5, 60, 1055, 13, 115, 197, 474, 1829, 15, 2006, 7, 6791, 113, 19, 4, 2, 261, 13, 104, 4, 1653, 173, 7, 4, 65, 143, 4, 3801, 1366, 548, 844, 5, 4, 837, 1396, 27, 369, 459, 44, 68, 4731, 5, 181, 8, 607, 4, 6791, 39, 112, 3067, 180, 5, 11037, 56, 10, 10, 859, 7552, 10141, 4386, 100, 28, 1199, 35, 735, 18, 15, 11, 2096, 8, 14, 3644, 449, 73, 48, 25, 169, 624, 1786, 8, 462, 624, 710, 5, 289, 9800, 2942, 30, 252, 8, 3163, 86, 10, 10, 5, 591, 106, 2, 57, 381, 128, 1996, 375, 58]\n",
      "label: 0\n"
     ]
    }
   ],
   "source": [
    "print(train_data[0])\n",
    "print('label:', train_labels[0])"
   ]
  },
  {
   "cell_type": "markdown",
   "metadata": {},
   "source": [
    "We see that the text of the review has been encoded as a sequence of integers. Please refer to [part 2](https://thedatafrog.com/text-preprocessing-machine-learning-yelp/) of this tutorial series if you want to understand how such an encoding can be done in practice. \n",
    "\n",
    "Each word in the text is represented as an integer. A dictionary called the **vocabulary** links each word to a unique integer. In the example above, we see that the integer 4 is repeated many times. This integer corresponds to a very frequent word. And actually, the more frequent a word, the lower the integer.    \n",
    "\n",
    "To decode the review, we need to make use of the vocabulary:"
   ]
  },
  {
   "cell_type": "code",
   "execution_count": 3,
   "metadata": {},
   "outputs": [],
   "source": [
    "# A dictionary mapping words to an integer index\n",
    "vocabulary = imdb.get_word_index()\n",
    "\n",
    "# The first indices are reserved\n",
    "vocabulary = {k:(v+3) for k,v in vocabulary.items()} \n",
    "vocabulary[\"<PAD>\"] = 0\n",
    "# See how integer 1 appears first in the review above. \n",
    "vocabulary[\"<START>\"] = 1\n",
    "vocabulary[\"<UNK>\"] = 2  # unknown\n",
    "vocabulary[\"<UNUSED>\"] = 3\n",
    "\n",
    "# reversing the vocabulary. \n",
    "# in the index, the key is an integer, and \n",
    "index = dict([(value, key) for (key, value) in vocabulary.items()])\n",
    "\n",
    "def decode_review(text):\n",
    "    '''converts encoded text to human readable form.\n",
    "    each integer in the text is looked up in the index, and \n",
    "    replaced by the corresponding word.\n",
    "    '''\n",
    "    return ' '.join([index.get(i, '?') for i in text])\n"
   ]
  },
  {
   "cell_type": "code",
   "execution_count": 4,
   "metadata": {},
   "outputs": [
    {
     "data": {
      "text/plain": [
       "\"<START> i have copy of this on vhs i think they the television networks should play this every year for the next twenty years so that we don't forget what was and that we remember not to do the same mistakes again like putting some people in the director's chair where they don't belong this movie <UNK> is like a <UNK> musical for those who can't sing or act this movie is as much fun as trying to teach the <UNK> to drive a city bus br br john hood <UNK> has just got out of prison and he's headed back to the old neighborhood in serving time for an all to nice crime of necessity of course john heads back onto the old street and is greeted by kids dogs old ladies and his peer <UNK> as they dance and sing all along the way br br i would recommend this if i was sentimental or if in truth someone was smoking <UNK> pot <UNK> by a doctor for <UNK> either way this is a poorly directed scripted acted and even produced i never thought i'd sat that satire of ghetto life with the <UNK> although i think the redeeming part of the story through the wannabe gang fight sequences and the dance numbers his friends care about their neighbors and want to save the ghetto from being torn down and cleaned up br br forget sonny spoon mario could have won an oscar for that in comparison to this rap oh well if you find yourself wanting to laugh yourself silly and three quarters embarrassed be sure to drink first br br and please watch <UNK> no stars better luck next time\""
      ]
     },
     "execution_count": 4,
     "metadata": {},
     "output_type": "execute_result"
    }
   ],
   "source": [
    "decode_review(train_data[0])"
   ]
  },
  {
   "cell_type": "markdown",
   "metadata": {},
   "source": [
    "We see that integer 4 indeed corresponds to a very frequent word, \"the\". Now what do we do with this dataset? We can see two issues if we are to use it as input to a neural network:\n",
    "\n",
    "* The reviews have a variable number of words, while the network has a fixed number of neurons.\n",
    "* The words are completely independent. For example, \"brilliant\" and \"awesome\" correspond to two different integers, and the neural network does not know a priori that these two adjectives have similar meaning. \n",
    "\n",
    "Let's deal with the first issue. To get a fixed length input, we can simply truncate the reviews to a fixed number of words, say 256. For reviews that have more than 256 words, we will keep only the first 256 words. For shorter reviews, we will fill the unused word slots with zeros. With keras, this is easy to do:"
   ]
  },
  {
   "cell_type": "code",
   "execution_count": 6,
   "metadata": {
    "colab": {},
    "colab_type": "code",
    "id": "DvVwLuqS9eYJ"
   },
   "outputs": [],
   "source": [
    "train_data = keras.preprocessing.sequence.pad_sequences(train_data,\n",
    "                                                        value=vocabulary[\"<PAD>\"],\n",
    "                                                        padding='post',\n",
    "                                                        maxlen=256)\n",
    "\n",
    "test_data = keras.preprocessing.sequence.pad_sequences(test_data,\n",
    "                                                       value=vocabulary[\"<PAD>\"],\n",
    "                                                       padding='post',\n",
    "                                                       maxlen=256)"
   ]
  },
  {
   "cell_type": "code",
   "execution_count": 7,
   "metadata": {},
   "outputs": [
    {
     "data": {
      "text/plain": [
       "array([    1,   103,   450,   576,    73,  2896,     8,     4,   213,\n",
       "           7,   897,    13,    16,   576,  3521,    19,     4,    22,\n",
       "           4,    22,    16,   465,   728,     4,  2563,     4,  1460,\n",
       "           4,  3237,     5,     6,    55,   576,  1078,  2734,    10,\n",
       "          10,    13,    69,  2721,   873,     8,    67,   111,   318,\n",
       "         302,     5,    40,     6, 13892,     2,    12,  4280,    72,\n",
       "         245,    19,     4,  4211,     5,     4,     2,     7,    12,\n",
       "        1620,    13,   244,   174,  2654,   245,    19,   129,  7102,\n",
       "          19,     4,   979,     7,     4,    65,     5,   129,   459,\n",
       "           7,     4,   318,   302,    25,    80,   140,     6,   196,\n",
       "          96,    61,   464,    13,    80,   407,    30,     4,  2217,\n",
       "           7,   129,   337,  1333,    10,    10,  2127,     2,     4,\n",
       "         118,   284,  1344,    16,     4,   612,    31,  1099,    25,\n",
       "          93,  1792,  7606,   168,    40,     6,   506,  1079,     8,\n",
       "           2,    10,    10,   444,     4,   116,    65,   347,     4,\n",
       "         312,   489,  1423,     5,  1190,   302,    12,    16,   777,\n",
       "          13,    43,   657,    12,    71,  1207,    13,   244,   267,\n",
       "         930,     8,     4,     2,    19,   576,   312,  1398,     0,\n",
       "           0,     0,     0,     0,     0,     0,     0,     0,     0,\n",
       "           0,     0,     0,     0,     0,     0,     0,     0,     0,\n",
       "           0,     0,     0,     0,     0,     0,     0,     0,     0,\n",
       "           0,     0,     0,     0,     0,     0,     0,     0,     0,\n",
       "           0,     0,     0,     0,     0,     0,     0,     0,     0,\n",
       "           0,     0,     0,     0,     0,     0,     0,     0,     0,\n",
       "           0,     0,     0,     0,     0,     0,     0,     0,     0,\n",
       "           0,     0,     0,     0,     0,     0,     0,     0,     0,\n",
       "           0,     0,     0,     0,     0,     0,     0,     0,     0,\n",
       "           0,     0,     0,     0,     0,     0,     0,     0,     0,\n",
       "           0,     0,     0,     0], dtype=int32)"
      ]
     },
     "execution_count": 7,
     "metadata": {},
     "output_type": "execute_result"
    }
   ],
   "source": [
    "train_data[1]"
   ]
  },
  {
   "cell_type": "markdown",
   "metadata": {},
   "source": [
    "The first issue is solved: Our reviews are now of fixed length. The second issue is addressed in the next section.\n",
    "\n",
    "## Embedding\n",
    "\n",
    "As we have seen in my post about [the 1-neuron network](https://thedatafrog.com/logistic-regression/), neural networks are simply a function of their inputs. In the 1-neuron network (or logistic regression), this function is \n",
    "\n",
    "$$ f( \\{ x_i \\} ) = \\sigma (z)$$\n",
    "\n",
    "where $\\sigma$ is the sigmoid function and where the weighted input $z$ of the only neuron is computed as \n",
    "\n",
    "$$z= b+ \\sum_{i} w_i x_i$$ \n",
    "\n",
    "In this expression, the sum runs over all input variables $x_i$, and $b$ is the bias of the neuron. When the network is trained, the network parameters (the biases and weights) are tuned for best performance. \n",
    "\n",
    "Now what would happen if we tried to classify our reviews as either positive or negative with a logistic regression?\n",
    "The input variables would be the 256 integers in the review array. Let us assume a positive weight $w_i$ for variable i. The larger variable $i$ becomes, the larger the output of the network, which is the probability for the review to be positive. \n",
    "\n",
    "But there is no reason for variable $i$ to be correlated in any way to the probability for the review to be positive! For example, variable $i$ could be 27 (corresponding to the word \"bad\"), 118 (\"good\"), or 1562 (\"awful\"). The review does not look more positive when the integer gets bigger. \n"
   ]
  },
  {
   "cell_type": "code",
   "execution_count": 14,
   "metadata": {
    "colab": {
     "base_uri": "https://localhost:8080/",
     "height": 238
    },
    "colab_type": "code",
    "executionInfo": {
     "elapsed": 9578,
     "status": "ok",
     "timestamp": 1550688533476,
     "user": {
      "displayName": "Colin Bernet",
      "photoUrl": "https://lh5.googleusercontent.com/-PT0Y40VvMq0/AAAAAAAAAAI/AAAAAAAAFEI/VsJO93FEElA/s64/photo.jpg",
      "userId": "10813031011844134122"
     },
     "user_tz": -60
    },
    "id": "sSWWjB8y9eYN",
    "outputId": "ee179070-84cc-4f03-9c69-b890e4548703"
   },
   "outputs": [
    {
     "name": "stdout",
     "output_type": "stream",
     "text": [
      "_________________________________________________________________\n",
      "Layer (type)                 Output Shape              Param #   \n",
      "=================================================================\n",
      "embedding_2 (Embedding)      (None, 256, 2)            177176    \n",
      "_________________________________________________________________\n",
      "flatten_2 (Flatten)          (None, 512)               0         \n",
      "_________________________________________________________________\n",
      "dropout_2 (Dropout)          (None, 512)               0         \n",
      "_________________________________________________________________\n",
      "dense_3 (Dense)              (None, 5)                 2565      \n",
      "_________________________________________________________________\n",
      "dense_4 (Dense)              (None, 1)                 6         \n",
      "=================================================================\n",
      "Total params: 179,747\n",
      "Trainable params: 179,747\n",
      "Non-trainable params: 0\n",
      "_________________________________________________________________\n"
     ]
    }
   ],
   "source": [
    "\n",
    "model = keras.Sequential()\n",
    "model.add(keras.layers.Embedding(len(word_index), 2, input_length=256))\n",
    "model.add(keras.layers.Flatten())\n",
    "model.add(keras.layers.Dropout(rate=0.5))\n",
    "model.add(keras.layers.Dense(5))\n",
    "model.add(keras.layers.Dense(1, activation='sigmoid'))\n",
    "\n",
    "model.summary()\n"
   ]
  },
  {
   "cell_type": "code",
   "execution_count": 15,
   "metadata": {
    "colab": {},
    "colab_type": "code",
    "id": "MCJVQ9Lz9eYQ"
   },
   "outputs": [],
   "source": [
    "model.compile(optimizer='adam',\n",
    "              loss='binary_crossentropy',\n",
    "              metrics=['accuracy'])\n"
   ]
  },
  {
   "cell_type": "code",
   "execution_count": 16,
   "metadata": {
    "colab": {
     "base_uri": "https://localhost:8080/",
     "height": 272
    },
    "colab_type": "code",
    "id": "Jk6s-DH79eYT",
    "outputId": "7511ec7b-5c3d-4e9d-9cd7-447b364c74de"
   },
   "outputs": [
    {
     "name": "stdout",
     "output_type": "stream",
     "text": [
      "Train on 24000 samples, validate on 1000 samples\n",
      "Epoch 1/5\n",
      "24000/24000 [==============================] - 5s 196us/step - loss: 0.6868 - acc: 0.5463 - val_loss: 0.6433 - val_acc: 0.7140\n",
      "Epoch 2/5\n",
      "24000/24000 [==============================] - 4s 168us/step - loss: 0.4580 - acc: 0.8026 - val_loss: 0.3319 - val_acc: 0.8710\n",
      "Epoch 3/5\n",
      "24000/24000 [==============================] - 4s 183us/step - loss: 0.2830 - acc: 0.8843 - val_loss: 0.2770 - val_acc: 0.8840\n",
      "Epoch 4/5\n",
      "24000/24000 [==============================] - 4s 164us/step - loss: 0.2197 - acc: 0.9153 - val_loss: 0.2624 - val_acc: 0.8830\n",
      "Epoch 5/5\n",
      "24000/24000 [==============================] - 4s 152us/step - loss: 0.1821 - acc: 0.9308 - val_loss: 0.2616 - val_acc: 0.8860\n"
     ]
    }
   ],
   "source": [
    "history = model.fit(partial_x_train,\n",
    "                    partial_y_train,\n",
    "                    epochs=5,\n",
    "                    batch_size=100,\n",
    "                    validation_data=(x_val, y_val),\n",
    "                    verbose=1)"
   ]
  },
  {
   "cell_type": "code",
   "execution_count": 17,
   "metadata": {
    "colab": {
     "base_uri": "https://localhost:8080/",
     "height": 379
    },
    "colab_type": "code",
    "executionInfo": {
     "elapsed": 993,
     "status": "ok",
     "timestamp": 1550681651007,
     "user": {
      "displayName": "Colin Bernet",
      "photoUrl": "https://lh5.googleusercontent.com/-PT0Y40VvMq0/AAAAAAAAAAI/AAAAAAAAFEI/VsJO93FEElA/s64/photo.jpg",
      "userId": "10813031011844134122"
     },
     "user_tz": -60
    },
    "id": "NuN6jDpv913n",
    "outputId": "adc6c991-faf9-49e0-d9b6-f9d4aeb3e39e"
   },
   "outputs": [
    {
     "data": {
      "image/png": "[encoded data removed]",
      "text/plain": [
       "<Figure size 432x288 with 1 Axes>"
      ]
     },
     "metadata": {
      "needs_background": "light"
     },
     "output_type": "display_data"
    },
    {
     "data": {
      "text/plain": [
       "<Figure size 432x288 with 0 Axes>"
      ]
     },
     "metadata": {},
     "output_type": "display_data"
    }
   ],
   "source": [
    "plot_accuracy(history)"
   ]
  },
  {
   "cell_type": "code",
   "execution_count": 18,
   "metadata": {
    "colab": {},
    "colab_type": "code",
    "id": "hEpjKFRD93fl"
   },
   "outputs": [],
   "source": [
    "\n",
    "# with a Sequential model\n",
    "get_embed_out = keras.backend.function(\n",
    "    [model.layers[0].input],\n",
    "    [model.layers[1].output])"
   ]
  },
  {
   "cell_type": "code",
   "execution_count": 19,
   "metadata": {},
   "outputs": [],
   "source": [
    "layer_output = get_embed_out([x_val[0]])[0]"
   ]
  },
  {
   "cell_type": "code",
   "execution_count": 20,
   "metadata": {},
   "outputs": [
    {
     "data": {
      "text/plain": [
       "<matplotlib.collections.PathCollection at 0xb4c9a7c18>"
      ]
     },
     "execution_count": 20,
     "metadata": {},
     "output_type": "execute_result"
    },
    {
     "data": {
      "image/png": "[encoded data removed]",
      "text/plain": [
       "<Figure size 432x288 with 1 Axes>"
      ]
     },
     "metadata": {
      "needs_background": "light"
     },
     "output_type": "display_data"
    }
   ],
   "source": [
    "plt.scatter(layer_output[:,0], layer_output[:,1])"
   ]
  },
  {
   "cell_type": "code",
   "execution_count": 21,
   "metadata": {},
   "outputs": [
    {
     "data": {
      "text/plain": [
       "[87, 530, 595, 78, 10373, 777, 20, 3272]"
      ]
     },
     "execution_count": 21,
     "metadata": {},
     "output_type": "execute_result"
    }
   ],
   "source": [
    "review = ['great', 'brilliant','crap','bad', 'tomato', 'fantastic', 'movie', 'seagal']\n",
    "enc_review = [word_index[word] for word in review]\n",
    "enc_review"
   ]
  },
  {
   "cell_type": "code",
   "execution_count": 22,
   "metadata": {},
   "outputs": [],
   "source": [
    "layer_output = get_embed_out([enc_review])[0]"
   ]
  },
  {
   "cell_type": "code",
   "execution_count": 23,
   "metadata": {},
   "outputs": [
    {
     "data": {
      "image/png": "[encoded data removed]",
      "text/plain": [
       "<Figure size 432x288 with 1 Axes>"
      ]
     },
     "metadata": {
      "needs_background": "light"
     },
     "output_type": "display_data"
    }
   ],
   "source": [
    "plt.scatter(layer_output[:,0], layer_output[:,1])\n",
    "for i, txt in enumerate(review):\n",
    "    plt.annotate(txt, (layer_output[i,0], layer_output[i,1]))"
   ]
  },
  {
   "cell_type": "code",
   "execution_count": 24,
   "metadata": {},
   "outputs": [],
   "source": [
    "def plot_review(i):\n",
    "    layer_output = get_embed_out([x_val[i]])[0]\n",
    "    plt.scatter(layer_output[:,0], layer_output[:,1])\n",
    "    plt.title(y_val[i])\n",
    "    axes = plt.gca()\n",
    "    axes.set_xlim([-0.5,0.5])\n",
    "    axes.set_ylim([-0.5, 0.5])\n"
   ]
  },
  {
   "cell_type": "code",
   "execution_count": 25,
   "metadata": {},
   "outputs": [
    {
     "data": {
      "image/png": "[encoded data removed]",
      "text/plain": [
       "<Figure size 432x288 with 1 Axes>"
      ]
     },
     "metadata": {
      "needs_background": "light"
     },
     "output_type": "display_data"
    }
   ],
   "source": [
    "plot_review(16)"
   ]
  },
  {
   "cell_type": "code",
   "execution_count": null,
   "metadata": {},
   "outputs": [],
   "source": []
  }
 ],
 "metadata": {
  "accelerator": "GPU",
  "colab": {
   "collapsed_sections": [],
   "name": "embedding2.ipynb",
   "provenance": [],
   "version": "0.3.2"
  },
  "kernelspec": {
   "display_name": "Python 3",
   "language": "python",
   "name": "python3"
  },
  "language_info": {
   "codemirror_mode": {
    "name": "ipython",
    "version": 3
   },
   "file_extension": ".py",
   "mimetype": "text/x-python",
   "name": "python",
   "nbconvert_exporter": "python",
   "pygments_lexer": "ipython3",
   "version": "3.6.8"
  }
 },
 "nbformat": 4,
 "nbformat_minor": 1
}
