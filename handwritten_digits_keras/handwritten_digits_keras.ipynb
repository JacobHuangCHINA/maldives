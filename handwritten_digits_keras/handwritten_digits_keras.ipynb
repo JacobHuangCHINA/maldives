{
 "cells": [
  {
   "cell_type": "markdown",
   "metadata": {},
   "source": [
    "## About this tutorial \n",
    "\n",
    "In my post about [handwritten digit recognition with scikit-learn](https://thedatafrog.com/handwritten-digit-recognition-scikit-learn/), you have seen that [scikit-learn](https://scikit-learn.org) makes it easy to train a simple neural network. \n",
    "\n",
    "scikit-learn focuses on providing a unified interface for training and testing many machine learning algorithms: neural networks, support-vector machines, naive Bayes, nearest neighbours, decision trees, etc. \n",
    "\n",
    "However, scikit-learn has three major drawbacks when it comes to neural networks specifically: \n",
    "\n",
    "* the interface does not provide enough control to build complex neural networks\n",
    "* a lot of magic happens under the hood, like regularization\n",
    "* it's not adapted to [deep learning](https://thedatafrog.com/install-tensorflow-windows/)\n",
    "\n",
    "In this post, we will repeat our exercise about handwritten digit recognition with [Keras](https://keras.io/), a high-level neural networks API. You will learn how to: \n",
    "\n",
    "* Create a simple dense neural network with Keras\n",
    "* Estimate its performance \n",
    "\n",
    "Later on, we will use Keras as an interface to TensorFlow to do deep learning. \n",
    "\n",
    "**Prerequisites:** You have completed [handwritten digit recognition with scikit-learn](https://thedatafrog.com/handwritten-digit-recognition-scikit-learn/).\n"
   ]
  },
  {
   "cell_type": "markdown",
   "metadata": {},
   "source": [
    "## Preparing the dataset \n",
    "\n",
    "As in [handwritten digit recognition with scikit-learn](https://thedatafrog.com/handwritten-digit-recognition-scikit-learn/), we are going to use the digits dataset provided by scikit-learn. The digits are 8x8 images that are fed into a neural network with:\n",
    "\n",
    "* an input layer with 8x8 = 64 neurons\n",
    "* a hidden layer with 15 neurons\n",
    "* an output layer with 10 neurons corresponding to the 10 digit categories. \n",
    "\n",
    "First, let's initialize our tools and load the digits dataset: "
   ]
  },
  {
   "cell_type": "code",
   "execution_count": 46,
   "metadata": {},
   "outputs": [],
   "source": [
    "import matplotlib.pyplot as plt\n",
    "import os \n",
    "os.environ['KMP_DUPLICATE_LIB_OK']='True' # needed to run on mac os \n",
    "\n",
    "from sklearn import datasets\n",
    "digits = datasets.load_digits()"
   ]
  },
  {
   "cell_type": "markdown",
   "metadata": {},
   "source": [
    "The input layer requires a 1-dimensional array in input, but our images are 2D. So we need to flatten all images:"
   ]
  },
  {
   "cell_type": "code",
   "execution_count": 47,
   "metadata": {},
   "outputs": [
    {
     "data": {
      "text/plain": [
       "(1797, 64)"
      ]
     },
     "execution_count": 47,
     "metadata": {},
     "output_type": "execute_result"
    }
   ],
   "source": [
    "x = digits.images.reshape((len(digits.images), -1))\n",
    "x.shape"
   ]
  },
  {
   "cell_type": "markdown",
   "metadata": {},
   "source": [
    "The targets require a bit of attention. At the moment, `digits.target` contains the digit corresponding to each image in the dataset: "
   ]
  },
  {
   "cell_type": "code",
   "execution_count": 48,
   "metadata": {},
   "outputs": [
    {
     "data": {
      "text/plain": [
       "array([0, 1, 2, ..., 8, 9, 8])"
      ]
     },
     "execution_count": 48,
     "metadata": {},
     "output_type": "execute_result"
    }
   ],
   "source": [
    "digits.target"
   ]
  },
  {
   "cell_type": "markdown",
   "metadata": {},
   "source": [
    "But in Keras, we have to build our neural network with 10 output neurons (this actually happens under the hood by scikit-learn). During the training, Keras will have to compare the 10 output values of these neurons to the target value. But how can we compare a vector of 10 values with a single target value? \n",
    "\n",
    "The solution is to translate each target value into a vector of length 10 with a technique called *one-hot encoding*: \n",
    "\n",
    "* target `0` is translated to `[1, 0, 0, 0, 0, 0, 0, 0, 0, 0]`\n",
    "* target `1` is translated to `[0, 1, 0, 0, 0, 0, 0, 0, 0, 0]`\n",
    "* ...\n",
    "* target `9` is translated to `[0, 0, 0, 0, 0, 0, 0, 0, 0, 1]`\n",
    "\n",
    "After doing that, the values from the output neurons, which are probabilities ranging from 0 to 1, can be compared directly to the values in the target vector. In this way, for a given number, say 0, the neural network can be trained to output a high probability from the first output neuron, and a low probability from the following neurons.  \n",
    "\n",
    "One-hot encoding can be performed easily with the utilities provided by Keras: "
   ]
  },
  {
   "cell_type": "code",
   "execution_count": 44,
   "metadata": {},
   "outputs": [
    {
     "name": "stdout",
     "output_type": "stream",
     "text": [
      "[0 1 2 ... 8 9 8]\n",
      "[[1. 0. 0. ... 0. 0. 0.]\n",
      " [0. 1. 0. ... 0. 0. 0.]\n",
      " [0. 0. 1. ... 0. 0. 0.]\n",
      " ...\n",
      " [0. 0. 0. ... 0. 1. 0.]\n",
      " [0. 0. 0. ... 0. 0. 1.]\n",
      " [0. 0. 0. ... 0. 1. 0.]]\n"
     ]
    }
   ],
   "source": [
    "from keras.utils import np_utils\n",
    "y = np_utils.to_categorical(digits.target,10)\n",
    "print digits.target\n",
    "print y"
   ]
  },
  {
   "cell_type": "markdown",
   "metadata": {},
   "source": [
    "let's now split our data into a training sample and a testing sample:"
   ]
  },
  {
   "cell_type": "code",
   "execution_count": 45,
   "metadata": {},
   "outputs": [],
   "source": [
    "split_limit=1000\n",
    "x_train = x[:split_limit]\n",
    "y_train = y[:split_limit]\n",
    "x_test = x[split_limit:]\n",
    "y_test = y[split_limit:]"
   ]
  },
  {
   "cell_type": "markdown",
   "metadata": {},
   "source": [
    "The first 1000 images and labels are going to be used for training. The rest of the dataset will be used later to test the performance of our network. "
   ]
  },
  {
   "cell_type": "markdown",
   "metadata": {},
   "source": [
    "We can now create the neural network. We use one hidden layers with 15 neurons. The output layer must have exactly 10 neurons because we want to classify our digits in 10 categories. Don't pay attention to the other parameters, we'll cover that in future posts."
   ]
  },
  {
   "cell_type": "code",
   "execution_count": 22,
   "metadata": {},
   "outputs": [],
   "source": [
    "from keras import layers, Model, optimizers, regularizers"
   ]
  },
  {
   "cell_type": "code",
   "execution_count": 37,
   "metadata": {},
   "outputs": [
    {
     "name": "stdout",
     "output_type": "stream",
     "text": [
      "_________________________________________________________________\n",
      "Layer (type)                 Output Shape              Param #   \n",
      "=================================================================\n",
      "input_4 (InputLayer)         (None, 64)                0         \n",
      "_________________________________________________________________\n",
      "dense_7 (Dense)              (None, 15)                975       \n",
      "_________________________________________________________________\n",
      "dense_8 (Dense)              (None, 10)                160       \n",
      "=================================================================\n",
      "Total params: 1,135\n",
      "Trainable params: 1,135\n",
      "Non-trainable params: 0\n",
      "_________________________________________________________________\n"
     ]
    }
   ],
   "source": [
    "# creation of the input layer: \n",
    "img_input = layers.Input(shape=(64,))\n",
    "\n",
    "# creation of the hidden layer\n",
    "tmp = layers.Dense(15, activation='sigmoid')(img_input)\n",
    "\n",
    "# creation of the output layer\n",
    "output = layers.Dense(10, activation='sigmoid')(tmp)\n",
    "model = Model(img_input, output)\n",
    "model.summary()\n",
    "\n",
    "l2_rate = 1e-4\n",
    "for layer in model.layers:\n",
    "    if hasattr(layer, 'kernel_regularizer'):\n",
    "        layer.kernel_regularizer = regularizers.l2(l2_rate)\n",
    "        layer.bias_regularizer = regularizers.l2(l2_rate)\n",
    "        layer.activity_regularizer = regularizers.l2(l2_rate)\n",
    "        \n",
    "model.compile(loss='categorical_crossentropy',\n",
    "              optimizer=optimizers.SGD(lr=0.1, momentum=0.9),\n",
    "              metrics=['accuracy'])\n"
   ]
  },
  {
   "cell_type": "code",
   "execution_count": 38,
   "metadata": {},
   "outputs": [
    {
     "name": "stdout",
     "output_type": "stream",
     "text": [
      "Train on 1000 samples, validate on 797 samples\n",
      "Epoch 1/50\n",
      "1000/1000 [==============================] - 0s 407us/step - loss: 2.2637 - acc: 0.2090 - val_loss: 2.1661 - val_acc: 0.3664\n",
      "Epoch 2/50\n",
      "1000/1000 [==============================] - 0s 26us/step - loss: 2.0716 - acc: 0.4680 - val_loss: 1.9946 - val_acc: 0.4730\n",
      "Epoch 3/50\n",
      "1000/1000 [==============================] - 0s 24us/step - loss: 1.8688 - acc: 0.5990 - val_loss: 1.7360 - val_acc: 0.6750\n",
      "Epoch 4/50\n",
      "1000/1000 [==============================] - 0s 26us/step - loss: 1.5525 - acc: 0.7790 - val_loss: 1.3903 - val_acc: 0.7754\n",
      "Epoch 5/50\n",
      "1000/1000 [==============================] - 0s 24us/step - loss: 1.1755 - acc: 0.8700 - val_loss: 1.0725 - val_acc: 0.8294\n",
      "Epoch 6/50\n",
      "1000/1000 [==============================] - 0s 26us/step - loss: 0.8660 - acc: 0.9060 - val_loss: 0.8725 - val_acc: 0.8294\n",
      "Epoch 7/50\n",
      "1000/1000 [==============================] - 0s 24us/step - loss: 0.6742 - acc: 0.9150 - val_loss: 0.6907 - val_acc: 0.8181\n",
      "Epoch 8/50\n",
      "1000/1000 [==============================] - 0s 22us/step - loss: 0.5043 - acc: 0.9380 - val_loss: 0.5620 - val_acc: 0.8708\n",
      "Epoch 9/50\n",
      "1000/1000 [==============================] - 0s 23us/step - loss: 0.4203 - acc: 0.9410 - val_loss: 0.4956 - val_acc: 0.8908\n",
      "Epoch 10/50\n",
      "1000/1000 [==============================] - 0s 22us/step - loss: 0.3300 - acc: 0.9570 - val_loss: 0.4692 - val_acc: 0.8908\n",
      "Epoch 11/50\n",
      "1000/1000 [==============================] - 0s 23us/step - loss: 0.2798 - acc: 0.9610 - val_loss: 0.4036 - val_acc: 0.9109\n",
      "Epoch 12/50\n",
      "1000/1000 [==============================] - 0s 22us/step - loss: 0.2292 - acc: 0.9740 - val_loss: 0.3944 - val_acc: 0.9072\n",
      "Epoch 13/50\n",
      "1000/1000 [==============================] - 0s 24us/step - loss: 0.2012 - acc: 0.9740 - val_loss: 0.4200 - val_acc: 0.8896\n",
      "Epoch 14/50\n",
      "1000/1000 [==============================] - 0s 24us/step - loss: 0.2003 - acc: 0.9640 - val_loss: 0.3943 - val_acc: 0.9021\n",
      "Epoch 15/50\n",
      "1000/1000 [==============================] - 0s 23us/step - loss: 0.2030 - acc: 0.9620 - val_loss: 0.3594 - val_acc: 0.9122\n",
      "Epoch 16/50\n",
      "1000/1000 [==============================] - 0s 22us/step - loss: 0.1723 - acc: 0.9770 - val_loss: 0.3820 - val_acc: 0.9059\n",
      "Epoch 17/50\n",
      "1000/1000 [==============================] - 0s 23us/step - loss: 0.1738 - acc: 0.9710 - val_loss: 0.3790 - val_acc: 0.9034\n",
      "Epoch 18/50\n",
      "1000/1000 [==============================] - 0s 24us/step - loss: 0.1535 - acc: 0.9710 - val_loss: 0.3853 - val_acc: 0.8921\n",
      "Epoch 19/50\n",
      "1000/1000 [==============================] - 0s 24us/step - loss: 0.1264 - acc: 0.9790 - val_loss: 0.3456 - val_acc: 0.9097\n",
      "Epoch 20/50\n",
      "1000/1000 [==============================] - 0s 23us/step - loss: 0.1163 - acc: 0.9860 - val_loss: 0.3453 - val_acc: 0.9109\n",
      "Epoch 21/50\n",
      "1000/1000 [==============================] - 0s 24us/step - loss: 0.1040 - acc: 0.9890 - val_loss: 0.3328 - val_acc: 0.9097\n",
      "Epoch 22/50\n",
      "1000/1000 [==============================] - 0s 23us/step - loss: 0.0962 - acc: 0.9900 - val_loss: 0.3555 - val_acc: 0.8959\n",
      "Epoch 23/50\n",
      "1000/1000 [==============================] - 0s 23us/step - loss: 0.0914 - acc: 0.9890 - val_loss: 0.3169 - val_acc: 0.9134\n",
      "Epoch 24/50\n",
      "1000/1000 [==============================] - 0s 23us/step - loss: 0.0850 - acc: 0.9910 - val_loss: 0.3367 - val_acc: 0.9147\n",
      "Epoch 25/50\n",
      "1000/1000 [==============================] - 0s 25us/step - loss: 0.0745 - acc: 0.9940 - val_loss: 0.3179 - val_acc: 0.9122\n",
      "Epoch 26/50\n",
      "1000/1000 [==============================] - 0s 25us/step - loss: 0.0708 - acc: 0.9940 - val_loss: 0.3189 - val_acc: 0.9197\n",
      "Epoch 27/50\n",
      "1000/1000 [==============================] - 0s 22us/step - loss: 0.0659 - acc: 0.9950 - val_loss: 0.3001 - val_acc: 0.9184\n",
      "Epoch 28/50\n",
      "1000/1000 [==============================] - 0s 22us/step - loss: 0.0624 - acc: 0.9960 - val_loss: 0.3134 - val_acc: 0.9159\n",
      "Epoch 29/50\n",
      "1000/1000 [==============================] - 0s 23us/step - loss: 0.0592 - acc: 0.9960 - val_loss: 0.3200 - val_acc: 0.9184\n",
      "Epoch 30/50\n",
      "1000/1000 [==============================] - 0s 22us/step - loss: 0.0580 - acc: 0.9960 - val_loss: 0.2996 - val_acc: 0.9184\n",
      "Epoch 31/50\n",
      "1000/1000 [==============================] - 0s 24us/step - loss: 0.0555 - acc: 0.9960 - val_loss: 0.3026 - val_acc: 0.9197\n",
      "Epoch 32/50\n",
      "1000/1000 [==============================] - 0s 25us/step - loss: 0.0527 - acc: 0.9960 - val_loss: 0.3213 - val_acc: 0.9172\n",
      "Epoch 33/50\n",
      "1000/1000 [==============================] - 0s 23us/step - loss: 0.0493 - acc: 0.9970 - val_loss: 0.2951 - val_acc: 0.9210\n",
      "Epoch 34/50\n",
      "1000/1000 [==============================] - 0s 23us/step - loss: 0.0487 - acc: 0.9960 - val_loss: 0.3257 - val_acc: 0.9184\n",
      "Epoch 35/50\n",
      "1000/1000 [==============================] - 0s 23us/step - loss: 0.0474 - acc: 0.9960 - val_loss: 0.3088 - val_acc: 0.9197\n",
      "Epoch 36/50\n",
      "1000/1000 [==============================] - 0s 24us/step - loss: 0.0463 - acc: 0.9960 - val_loss: 0.3210 - val_acc: 0.9184\n",
      "Epoch 37/50\n",
      "1000/1000 [==============================] - 0s 23us/step - loss: 0.0443 - acc: 0.9960 - val_loss: 0.3007 - val_acc: 0.9210\n",
      "Epoch 38/50\n",
      "1000/1000 [==============================] - 0s 22us/step - loss: 0.0429 - acc: 0.9960 - val_loss: 0.3213 - val_acc: 0.9197\n",
      "Epoch 39/50\n",
      "1000/1000 [==============================] - 0s 23us/step - loss: 0.0428 - acc: 0.9970 - val_loss: 0.3114 - val_acc: 0.9222\n",
      "Epoch 40/50\n",
      "1000/1000 [==============================] - 0s 22us/step - loss: 0.0456 - acc: 0.9960 - val_loss: 0.3172 - val_acc: 0.9147\n",
      "Epoch 41/50\n",
      "1000/1000 [==============================] - 0s 23us/step - loss: 0.0476 - acc: 0.9960 - val_loss: 0.3139 - val_acc: 0.9222\n",
      "Epoch 42/50\n",
      "1000/1000 [==============================] - 0s 23us/step - loss: 0.0421 - acc: 0.9970 - val_loss: 0.3031 - val_acc: 0.9184\n",
      "Epoch 43/50\n",
      "1000/1000 [==============================] - 0s 21us/step - loss: 0.0398 - acc: 0.9970 - val_loss: 0.3090 - val_acc: 0.9235\n",
      "Epoch 44/50\n",
      "1000/1000 [==============================] - 0s 21us/step - loss: 0.0383 - acc: 0.9970 - val_loss: 0.3025 - val_acc: 0.9184\n",
      "Epoch 45/50\n",
      "1000/1000 [==============================] - 0s 27us/step - loss: 0.0351 - acc: 0.9970 - val_loss: 0.3059 - val_acc: 0.9184\n",
      "Epoch 46/50\n",
      "1000/1000 [==============================] - 0s 23us/step - loss: 0.0342 - acc: 0.9970 - val_loss: 0.2959 - val_acc: 0.9159\n",
      "Epoch 47/50\n",
      "1000/1000 [==============================] - 0s 22us/step - loss: 0.0333 - acc: 0.9970 - val_loss: 0.3118 - val_acc: 0.9210\n",
      "Epoch 48/50\n",
      "1000/1000 [==============================] - 0s 21us/step - loss: 0.0319 - acc: 0.9970 - val_loss: 0.3090 - val_acc: 0.9184\n",
      "Epoch 49/50\n",
      "1000/1000 [==============================] - 0s 22us/step - loss: 0.0307 - acc: 0.9970 - val_loss: 0.3078 - val_acc: 0.9172\n",
      "Epoch 50/50\n",
      "1000/1000 [==============================] - 0s 22us/step - loss: 0.0299 - acc: 0.9970 - val_loss: 0.3095 - val_acc: 0.9172\n"
     ]
    }
   ],
   "source": [
    "history = model.fit(x=x_train, y=y_train, validation_data=(x_test,y_test),\n",
    "                    batch_size=100, epochs=50)"
   ]
  },
  {
   "cell_type": "code",
   "execution_count": 39,
   "metadata": {},
   "outputs": [],
   "source": [
    "predictions = model.predict(x_test)"
   ]
  },
  {
   "cell_type": "code",
   "execution_count": 40,
   "metadata": {},
   "outputs": [
    {
     "name": "stdout",
     "output_type": "stream",
     "text": [
      "prediction: 1 \ttrue value: 1\n"
     ]
    },
    {
     "data": {
      "image/png": "[encoded data removed]",
      "text/plain": [
       "<Figure size 432x288 with 1 Axes>"
      ]
     },
     "metadata": {
      "needs_background": "light"
     },
     "output_type": "display_data"
    }
   ],
   "source": [
    "img = x_test[0].reshape(8,8)\n",
    "plt.imshow(img)\n",
    "print 'prediction:', np.argmax(predictions[0]), '\\ttrue value:', np.argmax(y_test[0])"
   ]
  },
  {
   "cell_type": "code",
   "execution_count": 41,
   "metadata": {},
   "outputs": [],
   "source": [
    "def plot_history(history):\n",
    "    acc = history.history['acc']\n",
    "    val_acc = history.history['val_acc']\n",
    "\n",
    "    # Retrieve a list of list results on training and test data\n",
    "    # sets for each training epoch\n",
    "    loss = history.history['loss']\n",
    "    val_loss = history.history['val_loss']\n",
    "\n",
    "    # Get number of epochs\n",
    "    epochs = range(len(acc))\n",
    "\n",
    "    # Plot training and validation accuracy per epoch\n",
    "    plt.plot(epochs, acc)\n",
    "    plt.plot(epochs, val_acc)\n",
    "    plt.title('Training and validation accuracy')\n",
    "\n",
    "    plt.figure()\n",
    "\n",
    "    # Plot training and validation loss per epoch\n",
    "    plt.plot(epochs, loss)\n",
    "    plt.plot(epochs, val_loss)\n",
    "    plt.title('Training and validation loss')\n",
    "    plt.show()\n",
    "    \n"
   ]
  },
  {
   "cell_type": "code",
   "execution_count": 42,
   "metadata": {},
   "outputs": [
    {
     "data": {
      "image/png": "[encoded data removed]",
      "text/plain": [
       "<Figure size 432x288 with 1 Axes>"
      ]
     },
     "metadata": {
      "needs_background": "light"
     },
     "output_type": "display_data"
    },
    {
     "data": {
      "image/png": "[encoded data removed]",
      "text/plain": [
       "<Figure size 432x288 with 1 Axes>"
      ]
     },
     "metadata": {
      "needs_background": "light"
     },
     "output_type": "display_data"
    }
   ],
   "source": [
    "plot_history(history)"
   ]
  },
  {
   "cell_type": "code",
   "execution_count": null,
   "metadata": {},
   "outputs": [],
   "source": []
  },
  {
   "cell_type": "code",
   "execution_count": 43,
   "metadata": {},
   "outputs": [
    {
     "data": {
      "text/plain": [
       "0.917189460476788"
      ]
     },
     "execution_count": 43,
     "metadata": {},
     "output_type": "execute_result"
    }
   ],
   "source": [
    "y_test_best = np.argmax(y_test,1)\n",
    "predictions_best = np.argmax(predictions,1)\n",
    "\n",
    "from sklearn.metrics import accuracy_score\n",
    "accuracy_score(y_test_best, predictions_best)"
   ]
  },
  {
   "cell_type": "code",
   "execution_count": null,
   "metadata": {},
   "outputs": [],
   "source": []
  }
 ],
 "metadata": {
  "kernelspec": {
   "display_name": "Python 2",
   "language": "python",
   "name": "python2"
  },
  "language_info": {
   "codemirror_mode": {
    "name": "ipython",
    "version": 2
   },
   "file_extension": ".py",
   "mimetype": "text/x-python",
   "name": "python",
   "nbconvert_exporter": "python",
   "pygments_lexer": "ipython2",
   "version": "2.7.15"
  }
 },
 "nbformat": 4,
 "nbformat_minor": 2
}
