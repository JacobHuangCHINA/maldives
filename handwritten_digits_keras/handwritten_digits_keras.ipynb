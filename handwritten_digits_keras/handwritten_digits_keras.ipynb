{
 "cells": [
  {
   "cell_type": "markdown",
   "metadata": {},
   "source": [
    "## About this tutorial \n",
    "\n",
    "In my post about [handwritten digit recognition with scikit-learn](https://thedatafrog.com/handwritten-digit-recognition-scikit-learn/), we have seen that [scikit-learn](https://scikit-learn.org) makes it easy to train a simple neural network. \n",
    "\n",
    "scikit-learn focuses on providing a unified interface for training and testing many machine learning algorithms: neural networks, support-vector machines, naive Bayes, nearest neighbours, decision trees, etc. Indeed, in machine learning, a large amount of time is spent choosing the best algorithm and tuning it for best performance. Scikit-learn was designed to make these operations as easy as possible.  \n",
    "\n",
    "However, when it comes to neural networks specifically, scikit-learn has three major drawbacks:\n",
    "\n",
    "* the interface does not provide enough control to build complex neural networks\n",
    "* a lot of magic happens under the hood, like regularization\n",
    "* it's not adapted to [deep learning](https://thedatafrog.com/install-tensorflow-windows/)\n",
    "\n",
    "In this post, we will repeat our exercise about handwritten digit recognition with [Keras](https://keras.io/), a high-level neural networks API. You will learn how to: \n",
    "\n",
    "* Create a simple dense neural network with Keras\n",
    "* Estimate its performance \n",
    "\n",
    "Later on, we will use Keras as an interface to TensorFlow to do deep learning. \n",
    "\n",
    "**Prerequisites:** You should have some knowledge of:\n",
    "\n",
    "* numpy, \n",
    "* matplotlib, \n",
    "* jupyter notebooks,\n",
    "* basic neural networks. \n",
    "\n",
    "If that's not yet the case, you can follow [handwritten digit recognition with scikit-learn](https://thedatafrog.com/handwritten-digit-recognition-scikit-learn/).\n"
   ]
  },
  {
   "cell_type": "markdown",
   "metadata": {},
   "source": [
    "## Installation\n",
    "\n",
    "First, install [Anaconda](https://www.anaconda.com/download/) if not already done. Please be sure to **pick the version for python 2.X and not for python 3.X**.\n",
    "\n",
    "Launch the Anaconda Navigator application. \n",
    "\n",
    "Enter the Environments tab, and install the keras package in your base (root) environment. \n",
    "\n",
    "Solving the package specifications for keras may take a few minutes but you'll eventually get there.\n",
    "\n",
    "Then, head to the Home tab, and launch the jupyter notebook. \n",
    "\n"
   ]
  },
  {
   "cell_type": "markdown",
   "metadata": {},
   "source": [
    "Finally, get this notebook and open it in the jupyter notebook:\n",
    "\n",
    "* [download the repository containing this notebook](https://github.com/cbernet/maldives/archive/master.zip)\n",
    "* unzip it, say to `Downloads/maldives-master`\n",
    "* in the jupyter notebook, navigate to `Downloads/maldives-master/handwritten_digits_keras`\n",
    "* open `handwritten_digits_keras.ipynb`\n",
    "\n",
    "This page should appear in the notebook. From now on, follow the tutorial in the notebook. You should execute the cells as they come, or execute them all in one go. You can even add cells or modify existing cells to experiment a bit. "
   ]
  },
  {
   "cell_type": "markdown",
   "metadata": {},
   "source": [
    "## Preparing the dataset \n",
    "\n",
    "As in [handwritten digit recognition with scikit-learn](https://thedatafrog.com/handwritten-digit-recognition-scikit-learn/), we are going to use the digits dataset provided by scikit-learn. The digits are 8x8 images that are fed into a neural network with:\n",
    "\n",
    "* an input layer with 8x8 = 64 neurons\n",
    "* a hidden layer with 15 neurons\n",
    "* an output layer with 10 neurons corresponding to the 10 digit categories. \n",
    "\n",
    "First, let's initialize our tools and load the digits dataset: "
   ]
  },
  {
   "cell_type": "code",
   "execution_count": 29,
   "metadata": {},
   "outputs": [],
   "source": [
    "import numpy as np\n",
    "import matplotlib.pyplot as plt\n",
    "import os \n",
    "# for some reason, the following is needed to run on mac os\n",
    "os.environ['KMP_DUPLICATE_LIB_OK']='True'  \n",
    "\n",
    "from sklearn import datasets\n",
    "digits = datasets.load_digits()"
   ]
  },
  {
   "cell_type": "markdown",
   "metadata": {},
   "source": [
    "The input layer requires a 1-dimensional array in input, but our images are 2D. So we need to flatten all images:"
   ]
  },
  {
   "cell_type": "code",
   "execution_count": 30,
   "metadata": {},
   "outputs": [
    {
     "data": {
      "text/plain": [
       "(1797, 64)"
      ]
     },
     "execution_count": 30,
     "metadata": {},
     "output_type": "execute_result"
    }
   ],
   "source": [
    "x = digits.images.reshape((len(digits.images), -1))\n",
    "x.shape"
   ]
  },
  {
   "cell_type": "markdown",
   "metadata": {},
   "source": [
    "The labels require a bit of attention. At the moment, `digits.target` contains the digit corresponding to each image in the dataset: "
   ]
  },
  {
   "cell_type": "code",
   "execution_count": 31,
   "metadata": {},
   "outputs": [
    {
     "data": {
      "text/plain": [
       "array([0, 1, 2, ..., 8, 9, 8])"
      ]
     },
     "execution_count": 31,
     "metadata": {},
     "output_type": "execute_result"
    }
   ],
   "source": [
    "digits.target"
   ]
  },
  {
   "cell_type": "markdown",
   "metadata": {},
   "source": [
    "But in Keras, we have to build our neural network with 10 output neurons (this actually happens under the hood in scikit-learn). During the training, Keras will have to compare the 10 output values of these neurons to the target value. But how can we compare a vector of 10 values with a single target value? \n",
    "\n",
    "The solution is to translate each target value into a vector of length 10 with a technique called *one-hot encoding*: \n",
    "\n",
    "* target `0` is translated to `[1, 0, 0, 0, 0, 0, 0, 0, 0, 0]`\n",
    "* target `1` is translated to `[0, 1, 0, 0, 0, 0, 0, 0, 0, 0]`\n",
    "* ...\n",
    "* target `9` is translated to `[0, 0, 0, 0, 0, 0, 0, 0, 0, 1]`\n",
    "\n",
    "After doing that, the values from the output neurons, which are probabilities ranging from 0 to 1, can be compared directly to the values in the target vector. In this way, for a given number, say 0, the neural network will be trained to output a high probability from the first output neuron, and a low probability from the following neurons.  \n",
    "\n",
    "One-hot encoding can be performed easily with the utilities provided by Keras: "
   ]
  },
  {
   "cell_type": "code",
   "execution_count": 32,
   "metadata": {},
   "outputs": [
    {
     "name": "stdout",
     "output_type": "stream",
     "text": [
      "[0 1 2 ... 8 9 8]\n",
      "[[1. 0. 0. ... 0. 0. 0.]\n",
      " [0. 1. 0. ... 0. 0. 0.]\n",
      " [0. 0. 1. ... 0. 0. 0.]\n",
      " ...\n",
      " [0. 0. 0. ... 0. 1. 0.]\n",
      " [0. 0. 0. ... 0. 0. 1.]\n",
      " [0. 0. 0. ... 0. 1. 0.]]\n"
     ]
    }
   ],
   "source": [
    "from keras.utils import np_utils\n",
    "y = np_utils.to_categorical(digits.target,10)\n",
    "print digits.target\n",
    "print y"
   ]
  },
  {
   "cell_type": "markdown",
   "metadata": {},
   "source": [
    "let's now split our data into a training sample and a testing sample:"
   ]
  },
  {
   "cell_type": "code",
   "execution_count": 33,
   "metadata": {},
   "outputs": [],
   "source": [
    "split_limit=1000\n",
    "x_train = x[:split_limit]\n",
    "y_train = y[:split_limit]\n",
    "x_test = x[split_limit:]\n",
    "y_test = y[split_limit:]"
   ]
  },
  {
   "cell_type": "markdown",
   "metadata": {},
   "source": [
    "The first 1000 images and labels are going to be used for training. The rest of the dataset will be used later to test the performance of our network. "
   ]
  },
  {
   "cell_type": "markdown",
   "metadata": {},
   "source": [
    "We can now create the neural network. We use one hidden layers with 15 neurons. The output layer must have exactly 10 neurons because we want to classify our digits in 10 categories. Don't pay attention to the other parameters, we'll cover that in future posts."
   ]
  },
  {
   "cell_type": "code",
   "execution_count": 34,
   "metadata": {},
   "outputs": [],
   "source": [
    "from keras import layers, Model, optimizers, regularizers"
   ]
  },
  {
   "cell_type": "code",
   "execution_count": 89,
   "metadata": {},
   "outputs": [
    {
     "name": "stdout",
     "output_type": "stream",
     "text": [
      "_________________________________________________________________\n",
      "Layer (type)                 Output Shape              Param #   \n",
      "=================================================================\n",
      "input_7 (InputLayer)         (None, 64)                0         \n",
      "_________________________________________________________________\n",
      "dense_13 (Dense)             (None, 15)                975       \n",
      "_________________________________________________________________\n",
      "dense_14 (Dense)             (None, 10)                160       \n",
      "=================================================================\n",
      "Total params: 1,135\n",
      "Trainable params: 1,135\n",
      "Non-trainable params: 0\n",
      "_________________________________________________________________\n"
     ]
    }
   ],
   "source": [
    "# create the input layer\n",
    "# \n",
    "# we specify that the input layer \n",
    "# should have 64 neurons, one for each pixel\n",
    "# in our images. \n",
    "# The input neurons do nothing, they \n",
    "# just transfer the value at each pixel \n",
    "# to the next layer. \n",
    "img_input = layers.Input(shape=(64,))\n",
    "\n",
    "# create the hidden layer\n",
    "#\n",
    "# This layer is a Dense layer, which means\n",
    "# that its neurons are fully connected to the \n",
    "# neurons in the previous layer (the input layer)\n",
    "# We will talk about the activation in a future post\n",
    "tmp = layers.Dense(15, \n",
    "                   activation='sigmoid')(img_input)\n",
    "\n",
    "# create the output layer\n",
    "# \n",
    "# The output layer is another Dense layer.\n",
    "# It must have 10 neurons, corresponding to \n",
    "# the 10 digit categories \n",
    "output = layers.Dense(10, \n",
    "                      activation='sigmoid')(tmp)\n",
    "\n",
    "# create the neural network from the layers\n",
    "model = Model(img_input, output)\n",
    "\n",
    "# print a summary of the model\n",
    "model.summary()\n",
    "\n",
    "# =================================================\n",
    "# Please don't pay attention to what follows, \n",
    "# we'll talk about regularization later!\n",
    "# For now, it is enough to know that regularization\n",
    "# helps the neural network converge properly. \n",
    "# A similar regularization is performed \n",
    "# under the hood by the MLPClassifier of scikit-learn\n",
    "l2_rate = 1e-4\n",
    "for layer in model.layers:\n",
    "    if hasattr(layer, 'kernel_regularizer'):\n",
    "        layer.kernel_regularizer = regularizers.l2(l2_rate)\n",
    "        layer.bias_regularizer = regularizers.l2(l2_rate)\n",
    "        layer.activity_regularizer = regularizers.l2(l2_rate)\n",
    "# =================================================\n",
    "\n",
    "# define how the neural network will learn, \n",
    "# and compile the model. \n",
    "# models must be compiled before \n",
    "# they can be trained and used. \n",
    "# the loss, optimizer, and metrics arguments \n",
    "# will be covered in a future post. \n",
    "model.compile(loss='categorical_crossentropy',\n",
    "              optimizer=optimizers.SGD(lr=0.1, momentum=0.9),\n",
    "              metrics=['accuracy'])\n"
   ]
  },
  {
   "cell_type": "code",
   "execution_count": 90,
   "metadata": {},
   "outputs": [
    {
     "name": "stdout",
     "output_type": "stream",
     "text": [
      "Train on 1000 samples, validate on 797 samples\n",
      "Epoch 1/50\n",
      "1000/1000 [==============================] - 0s 489us/step - loss: 2.2343 - acc: 0.1630 - val_loss: 2.1267 - val_acc: 0.2422\n",
      "Epoch 2/50\n",
      "1000/1000 [==============================] - 0s 34us/step - loss: 2.0033 - acc: 0.4120 - val_loss: 1.9296 - val_acc: 0.5031\n",
      "Epoch 3/50\n",
      "1000/1000 [==============================] - 0s 41us/step - loss: 1.7382 - acc: 0.7150 - val_loss: 1.6102 - val_acc: 0.7453\n",
      "Epoch 4/50\n",
      "1000/1000 [==============================] - 0s 35us/step - loss: 1.3686 - acc: 0.8250 - val_loss: 1.2430 - val_acc: 0.7779\n",
      "Epoch 5/50\n",
      "1000/1000 [==============================] - 0s 33us/step - loss: 0.9886 - acc: 0.8710 - val_loss: 0.9270 - val_acc: 0.8494\n",
      "Epoch 6/50\n",
      "1000/1000 [==============================] - 0s 33us/step - loss: 0.7071 - acc: 0.9170 - val_loss: 0.7399 - val_acc: 0.8758\n",
      "Epoch 7/50\n",
      "1000/1000 [==============================] - 0s 32us/step - loss: 0.5301 - acc: 0.9340 - val_loss: 0.6203 - val_acc: 0.8733\n",
      "Epoch 8/50\n",
      "1000/1000 [==============================] - 0s 32us/step - loss: 0.4143 - acc: 0.9500 - val_loss: 0.5162 - val_acc: 0.8883\n",
      "Epoch 9/50\n",
      "1000/1000 [==============================] - 0s 40us/step - loss: 0.3386 - acc: 0.9560 - val_loss: 0.4369 - val_acc: 0.9159\n",
      "Epoch 10/50\n",
      "1000/1000 [==============================] - 0s 31us/step - loss: 0.2843 - acc: 0.9730 - val_loss: 0.4144 - val_acc: 0.9134\n",
      "Epoch 11/50\n",
      "1000/1000 [==============================] - 0s 29us/step - loss: 0.2534 - acc: 0.9690 - val_loss: 0.4159 - val_acc: 0.8946\n",
      "Epoch 12/50\n",
      "1000/1000 [==============================] - 0s 31us/step - loss: 0.2208 - acc: 0.9710 - val_loss: 0.3834 - val_acc: 0.9159\n",
      "Epoch 13/50\n",
      "1000/1000 [==============================] - 0s 31us/step - loss: 0.2058 - acc: 0.9740 - val_loss: 0.3297 - val_acc: 0.9285\n",
      "Epoch 14/50\n",
      "1000/1000 [==============================] - 0s 30us/step - loss: 0.1710 - acc: 0.9790 - val_loss: 0.3464 - val_acc: 0.9197\n",
      "Epoch 15/50\n",
      "1000/1000 [==============================] - 0s 34us/step - loss: 0.1641 - acc: 0.9760 - val_loss: 0.3390 - val_acc: 0.9134\n",
      "Epoch 16/50\n",
      "1000/1000 [==============================] - 0s 31us/step - loss: 0.1472 - acc: 0.9870 - val_loss: 0.2904 - val_acc: 0.9297\n",
      "Epoch 17/50\n",
      "1000/1000 [==============================] - 0s 31us/step - loss: 0.1481 - acc: 0.9800 - val_loss: 0.2918 - val_acc: 0.9285\n",
      "Epoch 18/50\n",
      "1000/1000 [==============================] - 0s 35us/step - loss: 0.1349 - acc: 0.9840 - val_loss: 0.3366 - val_acc: 0.9159\n",
      "Epoch 19/50\n",
      "1000/1000 [==============================] - 0s 30us/step - loss: 0.1241 - acc: 0.9900 - val_loss: 0.2827 - val_acc: 0.9297\n",
      "Epoch 20/50\n",
      "1000/1000 [==============================] - 0s 30us/step - loss: 0.1121 - acc: 0.9880 - val_loss: 0.3335 - val_acc: 0.9109\n",
      "Epoch 21/50\n",
      "1000/1000 [==============================] - 0s 31us/step - loss: 0.1119 - acc: 0.9890 - val_loss: 0.2673 - val_acc: 0.9285\n",
      "Epoch 22/50\n",
      "1000/1000 [==============================] - 0s 41us/step - loss: 0.0984 - acc: 0.9900 - val_loss: 0.2978 - val_acc: 0.9247\n",
      "Epoch 23/50\n",
      "1000/1000 [==============================] - 0s 42us/step - loss: 0.0939 - acc: 0.9940 - val_loss: 0.2562 - val_acc: 0.9335\n",
      "Epoch 24/50\n",
      "1000/1000 [==============================] - 0s 37us/step - loss: 0.0808 - acc: 0.9950 - val_loss: 0.2567 - val_acc: 0.9335\n",
      "Epoch 25/50\n",
      "1000/1000 [==============================] - 0s 39us/step - loss: 0.0760 - acc: 0.9940 - val_loss: 0.2745 - val_acc: 0.9373\n",
      "Epoch 26/50\n",
      "1000/1000 [==============================] - 0s 37us/step - loss: 0.0734 - acc: 0.9950 - val_loss: 0.2503 - val_acc: 0.9373\n",
      "Epoch 27/50\n",
      "1000/1000 [==============================] - 0s 35us/step - loss: 0.0751 - acc: 0.9950 - val_loss: 0.2890 - val_acc: 0.9222\n",
      "Epoch 28/50\n",
      "1000/1000 [==============================] - 0s 42us/step - loss: 0.0709 - acc: 0.9950 - val_loss: 0.2427 - val_acc: 0.9360\n",
      "Epoch 29/50\n",
      "1000/1000 [==============================] - 0s 37us/step - loss: 0.0635 - acc: 0.9960 - val_loss: 0.2534 - val_acc: 0.9322\n",
      "Epoch 30/50\n",
      "1000/1000 [==============================] - 0s 46us/step - loss: 0.0605 - acc: 0.9950 - val_loss: 0.2611 - val_acc: 0.9373\n",
      "Epoch 31/50\n",
      "1000/1000 [==============================] - 0s 51us/step - loss: 0.0563 - acc: 0.9950 - val_loss: 0.2294 - val_acc: 0.9385\n",
      "Epoch 32/50\n",
      "1000/1000 [==============================] - 0s 66us/step - loss: 0.0537 - acc: 0.9970 - val_loss: 0.2557 - val_acc: 0.9348\n",
      "Epoch 33/50\n",
      "1000/1000 [==============================] - 0s 41us/step - loss: 0.0511 - acc: 0.9980 - val_loss: 0.2180 - val_acc: 0.9423\n",
      "Epoch 34/50\n",
      "1000/1000 [==============================] - 0s 46us/step - loss: 0.0502 - acc: 0.9960 - val_loss: 0.2288 - val_acc: 0.9423\n",
      "Epoch 35/50\n",
      "1000/1000 [==============================] - 0s 65us/step - loss: 0.0460 - acc: 0.9970 - val_loss: 0.2252 - val_acc: 0.9385\n",
      "Epoch 36/50\n",
      "1000/1000 [==============================] - 0s 57us/step - loss: 0.0434 - acc: 0.9980 - val_loss: 0.2307 - val_acc: 0.9423\n",
      "Epoch 37/50\n",
      "1000/1000 [==============================] - 0s 30us/step - loss: 0.0452 - acc: 0.9980 - val_loss: 0.2283 - val_acc: 0.9410\n",
      "Epoch 38/50\n",
      "1000/1000 [==============================] - 0s 29us/step - loss: 0.0418 - acc: 1.0000 - val_loss: 0.2338 - val_acc: 0.9423\n",
      "Epoch 39/50\n",
      "1000/1000 [==============================] - 0s 43us/step - loss: 0.0402 - acc: 1.0000 - val_loss: 0.2311 - val_acc: 0.9410\n",
      "Epoch 40/50\n",
      "1000/1000 [==============================] - 0s 27us/step - loss: 0.0374 - acc: 1.0000 - val_loss: 0.2246 - val_acc: 0.9410\n",
      "Epoch 41/50\n",
      "1000/1000 [==============================] - 0s 28us/step - loss: 0.0376 - acc: 1.0000 - val_loss: 0.2385 - val_acc: 0.9410\n",
      "Epoch 42/50\n",
      "1000/1000 [==============================] - 0s 27us/step - loss: 0.0356 - acc: 1.0000 - val_loss: 0.2244 - val_acc: 0.9385\n",
      "Epoch 43/50\n",
      "1000/1000 [==============================] - 0s 32us/step - loss: 0.0348 - acc: 1.0000 - val_loss: 0.2267 - val_acc: 0.9373\n",
      "Epoch 44/50\n",
      "1000/1000 [==============================] - 0s 31us/step - loss: 0.0336 - acc: 0.9990 - val_loss: 0.2299 - val_acc: 0.9423\n",
      "Epoch 45/50\n",
      "1000/1000 [==============================] - 0s 41us/step - loss: 0.0325 - acc: 1.0000 - val_loss: 0.2169 - val_acc: 0.9385\n",
      "Epoch 46/50\n",
      "1000/1000 [==============================] - 0s 29us/step - loss: 0.0327 - acc: 1.0000 - val_loss: 0.2275 - val_acc: 0.9410\n",
      "Epoch 47/50\n",
      "1000/1000 [==============================] - 0s 29us/step - loss: 0.0317 - acc: 1.0000 - val_loss: 0.2205 - val_acc: 0.9398\n",
      "Epoch 48/50\n",
      "1000/1000 [==============================] - 0s 38us/step - loss: 0.0307 - acc: 0.9990 - val_loss: 0.2197 - val_acc: 0.9385\n",
      "Epoch 49/50\n",
      "1000/1000 [==============================] - 0s 28us/step - loss: 0.0297 - acc: 1.0000 - val_loss: 0.2185 - val_acc: 0.9460\n",
      "Epoch 50/50\n",
      "1000/1000 [==============================] - 0s 28us/step - loss: 0.0281 - acc: 1.0000 - val_loss: 0.2247 - val_acc: 0.9373\n"
     ]
    }
   ],
   "source": [
    "history = model.fit(x=x_train, y=y_train, validation_data=(x_test,y_test),\n",
    "                    batch_size=100, epochs=50)"
   ]
  },
  {
   "cell_type": "markdown",
   "metadata": {},
   "source": [
    "## Evaluating the performance"
   ]
  },
  {
   "cell_type": "markdown",
   "metadata": {},
   "source": [
    "The predictions from the neural network are evaluated for all examples in the test sample by doing"
   ]
  },
  {
   "cell_type": "code",
   "execution_count": 91,
   "metadata": {},
   "outputs": [
    {
     "name": "stdout",
     "output_type": "stream",
     "text": [
      "[6.08958544e-06 6.47348836e-02 1.08900410e-03 4.90986058e-05\n",
      " 3.76566604e-05 5.68168689e-05 6.44402462e-05 4.70710074e-06\n",
      " 1.03775405e-04 3.53699434e-05]\n"
     ]
    }
   ],
   "source": [
    "predictions = model.predict(x_test)\n",
    "print predictions[0]"
   ]
  },
  {
   "cell_type": "markdown",
   "metadata": {},
   "source": [
    "For each sample, the prediction is an array of 10 values. Each value is the estimated probability for the image to belong to this category. \n",
    "\n",
    "The predicted category is the one with the largest probability. \n",
    "\n",
    "Let's write a small function to plot a given image, and to print the true and predicted categories:"
   ]
  },
  {
   "cell_type": "code",
   "execution_count": 92,
   "metadata": {},
   "outputs": [],
   "source": [
    "def plot_prediction(index):\n",
    "    print 'predicted probabilities:'\n",
    "    print predictions[index]\n",
    "    print 'predicted category', np.argmax(predictions[index])\n",
    "    print 'true probabilities:'\n",
    "    print y_test[index]\n",
    "    print 'true category', np.argmax(y_test[index])\n",
    "    img = x_test[index].reshape(8,8)\n",
    "    plt.imshow(img)"
   ]
  },
  {
   "cell_type": "markdown",
   "metadata": {},
   "source": [
    "In this function, we obtain the category with `np.argmax` that, for an array, returns the index corresponding to the largest value. \n",
    "\n",
    "Let's use this function to have a look at a few examples (just choose a different index to look at another example)."
   ]
  },
  {
   "cell_type": "code",
   "execution_count": 93,
   "metadata": {},
   "outputs": [
    {
     "name": "stdout",
     "output_type": "stream",
     "text": [
      "predicted probabilities:\n",
      "[6.08958544e-06 6.47348836e-02 1.08900410e-03 4.90986058e-05\n",
      " 3.76566604e-05 5.68168689e-05 6.44402462e-05 4.70710074e-06\n",
      " 1.03775405e-04 3.53699434e-05]\n",
      "predicted category 1\n",
      "true probabilities:\n",
      "[0. 1. 0. 0. 0. 0. 0. 0. 0. 0.]\n",
      "true category 1\n"
     ]
    },
    {
     "data": {
      "image/png": "[encoded data removed]",
      "text/plain": [
       "<Figure size 432x288 with 1 Axes>"
      ]
     },
     "metadata": {
      "needs_background": "light"
     },
     "output_type": "display_data"
    }
   ],
   "source": [
    "plot_prediction(0)"
   ]
  },
  {
   "cell_type": "markdown",
   "metadata": {},
   "source": [
    "Finally, let's compute the accuracy score, which is the probability to classify the digits correctly.\n",
    "\n",
    "We will compute the accuracy for the test sample, which has not been used to train the network. Again, we will use `np.argmax` to get the predicted and true categories for each example."
   ]
  },
  {
   "cell_type": "code",
   "execution_count": 94,
   "metadata": {},
   "outputs": [
    {
     "name": "stdout",
     "output_type": "stream",
     "text": [
      "(797,)\n"
     ]
    },
    {
     "data": {
      "text/plain": [
       "0.9372647427854455"
      ]
     },
     "execution_count": 94,
     "metadata": {},
     "output_type": "execute_result"
    }
   ],
   "source": [
    "# the second argument of argmax specifies\n",
    "# that we want to get argmax for each example. \n",
    "# without this argument, argmax would return \n",
    "# the largest value in the whole array,\n",
    "# considering all examples\n",
    "y_test_best = np.argmax(y_test,1)\n",
    "print y_test_best.shape\n",
    "predictions_best = np.argmax(predictions,1)\n",
    "\n",
    "from sklearn.metrics import accuracy_score\n",
    "accuracy_score(y_test_best, predictions_best)"
   ]
  },
  {
   "cell_type": "markdown",
   "metadata": {},
   "source": [
    "You should obtain an accuracy around 92%, similar to the one we had obtained in the same conditions with scikit-learn. \n",
    "\n",
    "Please note that the result is not deterministic, so the accuracy will vary every time you train the network. I usually get an accuracy between 90 and 93%. \n",
    "\n",
    "Please repeat the exercise starting from the creation of the neural network to see what happens. "
   ]
  },
  {
   "cell_type": "code",
   "execution_count": null,
   "metadata": {},
   "outputs": [],
   "source": []
  }
 ],
 "metadata": {
  "kernelspec": {
   "display_name": "Python 2",
   "language": "python",
   "name": "python2"
  },
  "language_info": {
   "codemirror_mode": {
    "name": "ipython",
    "version": 2
   },
   "file_extension": ".py",
   "mimetype": "text/x-python",
   "name": "python",
   "nbconvert_exporter": "python",
   "pygments_lexer": "ipython2",
   "version": "2.7.15"
  }
 },
 "nbformat": 4,
 "nbformat_minor": 2
}
