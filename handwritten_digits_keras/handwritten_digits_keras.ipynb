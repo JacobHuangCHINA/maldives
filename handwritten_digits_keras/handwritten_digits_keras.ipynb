{
 "cells": [
  {
   "cell_type": "code",
   "execution_count": 1,
   "metadata": {},
   "outputs": [],
   "source": [
    "import matplotlib.pyplot as plt\n",
    "import os \n",
    "os.environ['KMP_DUPLICATE_LIB_OK']='True' # needed to run on mac os \n",
    "\n",
    "from sklearn import datasets\n",
    "digits = datasets.load_digits()"
   ]
  },
  {
   "cell_type": "markdown",
   "metadata": {},
   "source": [
    "The input layer requires a 1-dimensional array in input, but our images are 2D. So we need to flatten all images:"
   ]
  },
  {
   "cell_type": "code",
   "execution_count": 2,
   "metadata": {},
   "outputs": [
    {
     "data": {
      "text/plain": [
       "(1797, 64)"
      ]
     },
     "execution_count": 2,
     "metadata": {},
     "output_type": "execute_result"
    }
   ],
   "source": [
    "x = digits.images.reshape((len(digits.images), -1))\n",
    "x.shape"
   ]
  },
  {
   "cell_type": "markdown",
   "metadata": {},
   "source": [
    "We now have 1797 flattened images. The two dimensions of our 8x8 images have been collapsed into a single dimension by  writing the rows of 8 pixels as they come, one after the other. The first image that we looked at earlier is now represented by a 1-D array with 8x8 = 64 slots. Please check that the values below are the same as in the original 2-D image. "
   ]
  },
  {
   "cell_type": "code",
   "execution_count": 3,
   "metadata": {
    "scrolled": true
   },
   "outputs": [
    {
     "data": {
      "text/plain": [
       "array([ 0.,  0.,  5., 13.,  9.,  1.,  0.,  0.,  0.,  0., 13., 15., 10.,\n",
       "       15.,  5.,  0.,  0.,  3., 15.,  2.,  0., 11.,  8.,  0.,  0.,  4.,\n",
       "       12.,  0.,  0.,  8.,  8.,  0.,  0.,  5.,  8.,  0.,  0.,  9.,  8.,\n",
       "        0.,  0.,  4., 11.,  0.,  1., 12.,  7.,  0.,  0.,  2., 14.,  5.,\n",
       "       10., 12.,  0.,  0.,  0.,  0.,  6., 13., 10.,  0.,  0.,  0.])"
      ]
     },
     "execution_count": 3,
     "metadata": {},
     "output_type": "execute_result"
    }
   ],
   "source": [
    "x[0]"
   ]
  },
  {
   "cell_type": "code",
   "execution_count": 4,
   "metadata": {},
   "outputs": [
    {
     "name": "stderr",
     "output_type": "stream",
     "text": [
      "Using TensorFlow backend.\n"
     ]
    }
   ],
   "source": [
    "from keras import backend"
   ]
  },
  {
   "cell_type": "markdown",
   "metadata": {},
   "source": [
    "One-hot encoding: "
   ]
  },
  {
   "cell_type": "code",
   "execution_count": 5,
   "metadata": {},
   "outputs": [
    {
     "name": "stdout",
     "output_type": "stream",
     "text": [
      "(1797, 10)\n",
      "[[1. 0. 0. ... 0. 0. 0.]\n",
      " [0. 1. 0. ... 0. 0. 0.]\n",
      " [0. 0. 1. ... 0. 0. 0.]\n",
      " ...\n",
      " [0. 0. 0. ... 0. 1. 0.]\n",
      " [0. 0. 0. ... 0. 0. 1.]\n",
      " [0. 0. 0. ... 0. 1. 0.]]\n"
     ]
    }
   ],
   "source": [
    "import numpy as np\n",
    "y = np.zeros((len(digits.target), 10))\n",
    "y[np.arange(len(digits.target)), digits.target] = 1\n",
    "print y.shape\n",
    "print y"
   ]
  },
  {
   "cell_type": "markdown",
   "metadata": {},
   "source": [
    "Can also be done more easily like this: "
   ]
  },
  {
   "cell_type": "code",
   "execution_count": 130,
   "metadata": {},
   "outputs": [],
   "source": [
    "from keras.utils import np_utils"
   ]
  },
  {
   "cell_type": "code",
   "execution_count": 133,
   "metadata": {},
   "outputs": [
    {
     "name": "stdout",
     "output_type": "stream",
     "text": [
      "[[1. 0. 0. ... 0. 0. 0.]\n",
      " [0. 1. 0. ... 0. 0. 0.]\n",
      " [0. 0. 1. ... 0. 0. 0.]\n",
      " ...\n",
      " [0. 0. 0. ... 0. 1. 0.]\n",
      " [0. 0. 0. ... 0. 0. 1.]\n",
      " [0. 0. 0. ... 0. 1. 0.]]\n"
     ]
    }
   ],
   "source": [
    "y = np_utils.to_categorical(digits.target,10)\n",
    "print y"
   ]
  },
  {
   "cell_type": "markdown",
   "metadata": {},
   "source": [
    "let's now split our data into a training sample and a testing sample:"
   ]
  },
  {
   "cell_type": "code",
   "execution_count": 223,
   "metadata": {},
   "outputs": [],
   "source": [
    "split_limit=1000\n",
    "x_train = x[:split_limit]\n",
    "y_train = y[:split_limit]\n",
    "x_test = x[split_limit:]\n",
    "y_test = y[split_limit:]"
   ]
  },
  {
   "cell_type": "markdown",
   "metadata": {},
   "source": [
    "The first 1000 images and labels are going to be used for training. The rest of the dataset will be used later to test the performance of our network. "
   ]
  },
  {
   "cell_type": "markdown",
   "metadata": {},
   "source": [
    "We can now create the neural network. We use one hidden layers with 15 neurons. The output layer must have exactly 10 neurons because we want to classify our digits in 10 categories. Don't pay attention to the other parameters, we'll cover that in future posts."
   ]
  },
  {
   "cell_type": "code",
   "execution_count": 224,
   "metadata": {},
   "outputs": [],
   "source": [
    "from keras import layers, Model, optimizers, regularizers"
   ]
  },
  {
   "cell_type": "code",
   "execution_count": 237,
   "metadata": {},
   "outputs": [
    {
     "name": "stdout",
     "output_type": "stream",
     "text": [
      "_________________________________________________________________\n",
      "Layer (type)                 Output Shape              Param #   \n",
      "=================================================================\n",
      "input_35 (InputLayer)        (None, 64)                0         \n",
      "_________________________________________________________________\n",
      "dense_70 (Dense)             (None, 10)                650       \n",
      "_________________________________________________________________\n",
      "dense_71 (Dense)             (None, 10)                110       \n",
      "=================================================================\n",
      "Total params: 760\n",
      "Trainable params: 760\n",
      "Non-trainable params: 0\n",
      "_________________________________________________________________\n"
     ]
    }
   ],
   "source": [
    "img_input = layers.Input(shape=(64,))\n",
    "tmp = layers.Dense(10, activation='sigmoid')(img_input)\n",
    "output = layers.Dense(10, activation='sigmoid')(tmp)\n",
    "model = Model(img_input, output)\n",
    "model.summary()\n",
    "\n",
    "model.compile(loss='categorical_crossentropy',\n",
    "              optimizer=optimizers.SGD(lr=0.1, momentum=0.9),\n",
    "              metrics=['accuracy'])\n",
    "\n",
    "l2_rate = 1e-4\n",
    "for layer in model.layers:\n",
    "    if hasattr(layer, 'kernel_regularizer'):\n",
    "        layer.kernel_regularizer = regularizers.l2(l2_rate)\n",
    "        layer.bias_regularizer = regularizers.l2(l2_rate)\n",
    "        layer.activity_regularizer = regularizers.l2(l2_rate)"
   ]
  },
  {
   "cell_type": "code",
   "execution_count": 238,
   "metadata": {},
   "outputs": [
    {
     "name": "stdout",
     "output_type": "stream",
     "text": [
      "Train on 1000 samples, validate on 797 samples\n",
      "Epoch 1/200\n",
      "1000/1000 [==============================] - 1s 1ms/step - loss: 2.3179 - acc: 0.0600 - val_loss: 2.2598 - val_acc: 0.1079\n",
      "Epoch 2/200\n",
      "1000/1000 [==============================] - 0s 18us/step - loss: 2.2268 - acc: 0.1290 - val_loss: 2.1914 - val_acc: 0.2233\n",
      "Epoch 3/200\n",
      "1000/1000 [==============================] - 0s 18us/step - loss: 2.1432 - acc: 0.3020 - val_loss: 2.1322 - val_acc: 0.3651\n",
      "Epoch 4/200\n",
      "1000/1000 [==============================] - 0s 19us/step - loss: 2.0797 - acc: 0.4260 - val_loss: 2.0665 - val_acc: 0.4191\n",
      "Epoch 5/200\n",
      "1000/1000 [==============================] - 0s 18us/step - loss: 2.0134 - acc: 0.4940 - val_loss: 1.9952 - val_acc: 0.4567\n",
      "Epoch 6/200\n",
      "1000/1000 [==============================] - 0s 20us/step - loss: 1.9400 - acc: 0.5120 - val_loss: 1.9122 - val_acc: 0.4630\n",
      "Epoch 7/200\n",
      "1000/1000 [==============================] - 0s 20us/step - loss: 1.8503 - acc: 0.5160 - val_loss: 1.8185 - val_acc: 0.5207\n",
      "Epoch 8/200\n",
      "1000/1000 [==============================] - 0s 20us/step - loss: 1.7471 - acc: 0.5790 - val_loss: 1.7131 - val_acc: 0.5684\n",
      "Epoch 9/200\n",
      "1000/1000 [==============================] - 0s 20us/step - loss: 1.6358 - acc: 0.6000 - val_loss: 1.6088 - val_acc: 0.6060\n",
      "Epoch 10/200\n",
      "1000/1000 [==============================] - 0s 20us/step - loss: 1.5243 - acc: 0.6370 - val_loss: 1.5095 - val_acc: 0.6386\n",
      "Epoch 11/200\n",
      "1000/1000 [==============================] - 0s 21us/step - loss: 1.4196 - acc: 0.6980 - val_loss: 1.4212 - val_acc: 0.6474\n",
      "Epoch 12/200\n",
      "1000/1000 [==============================] - 0s 20us/step - loss: 1.3157 - acc: 0.7290 - val_loss: 1.3411 - val_acc: 0.6901\n",
      "Epoch 13/200\n",
      "1000/1000 [==============================] - 0s 20us/step - loss: 1.2287 - acc: 0.7320 - val_loss: 1.2653 - val_acc: 0.6738\n",
      "Epoch 14/200\n",
      "1000/1000 [==============================] - 0s 21us/step - loss: 1.1398 - acc: 0.7680 - val_loss: 1.2098 - val_acc: 0.7014\n",
      "Epoch 15/200\n",
      "1000/1000 [==============================] - 0s 23us/step - loss: 1.0625 - acc: 0.7880 - val_loss: 1.1424 - val_acc: 0.7139\n",
      "Epoch 16/200\n",
      "1000/1000 [==============================] - 0s 25us/step - loss: 0.9933 - acc: 0.8020 - val_loss: 1.0947 - val_acc: 0.7478\n",
      "Epoch 17/200\n",
      "1000/1000 [==============================] - 0s 21us/step - loss: 0.9356 - acc: 0.8100 - val_loss: 1.0592 - val_acc: 0.7315\n",
      "Epoch 18/200\n",
      "1000/1000 [==============================] - 0s 21us/step - loss: 0.8621 - acc: 0.8350 - val_loss: 0.9805 - val_acc: 0.7578\n",
      "Epoch 19/200\n",
      "1000/1000 [==============================] - 0s 21us/step - loss: 0.7837 - acc: 0.8590 - val_loss: 0.9095 - val_acc: 0.7729\n",
      "Epoch 20/200\n",
      "1000/1000 [==============================] - 0s 21us/step - loss: 0.7155 - acc: 0.8800 - val_loss: 0.8677 - val_acc: 0.7992\n",
      "Epoch 21/200\n",
      "1000/1000 [==============================] - 0s 21us/step - loss: 0.6513 - acc: 0.9060 - val_loss: 0.8336 - val_acc: 0.8030\n",
      "Epoch 22/200\n",
      "1000/1000 [==============================] - 0s 20us/step - loss: 0.6032 - acc: 0.9040 - val_loss: 0.7788 - val_acc: 0.8168\n",
      "Epoch 23/200\n",
      "1000/1000 [==============================] - 0s 21us/step - loss: 0.5560 - acc: 0.9240 - val_loss: 0.7368 - val_acc: 0.8243\n",
      "Epoch 24/200\n",
      "1000/1000 [==============================] - 0s 20us/step - loss: 0.5250 - acc: 0.9330 - val_loss: 0.7365 - val_acc: 0.8105\n",
      "Epoch 25/200\n",
      "1000/1000 [==============================] - 0s 20us/step - loss: 0.4982 - acc: 0.9210 - val_loss: 0.6930 - val_acc: 0.8356\n",
      "Epoch 26/200\n",
      "1000/1000 [==============================] - 0s 20us/step - loss: 0.4652 - acc: 0.9420 - val_loss: 0.6644 - val_acc: 0.8457\n",
      "Epoch 27/200\n",
      "1000/1000 [==============================] - 0s 21us/step - loss: 0.4300 - acc: 0.9400 - val_loss: 0.6517 - val_acc: 0.8545\n",
      "Epoch 28/200\n",
      "1000/1000 [==============================] - 0s 20us/step - loss: 0.3959 - acc: 0.9490 - val_loss: 0.6356 - val_acc: 0.8532\n",
      "Epoch 29/200\n",
      "1000/1000 [==============================] - 0s 19us/step - loss: 0.3716 - acc: 0.9540 - val_loss: 0.6314 - val_acc: 0.8407\n",
      "Epoch 30/200\n",
      "1000/1000 [==============================] - 0s 20us/step - loss: 0.3552 - acc: 0.9570 - val_loss: 0.5984 - val_acc: 0.8482\n",
      "Epoch 31/200\n",
      "1000/1000 [==============================] - 0s 20us/step - loss: 0.3416 - acc: 0.9640 - val_loss: 0.6035 - val_acc: 0.8670\n",
      "Epoch 32/200\n",
      "1000/1000 [==============================] - 0s 20us/step - loss: 0.3359 - acc: 0.9520 - val_loss: 0.5869 - val_acc: 0.8444\n",
      "Epoch 33/200\n",
      "1000/1000 [==============================] - 0s 20us/step - loss: 0.3363 - acc: 0.9470 - val_loss: 0.6058 - val_acc: 0.8620\n",
      "Epoch 34/200\n",
      "1000/1000 [==============================] - 0s 19us/step - loss: 0.3551 - acc: 0.9310 - val_loss: 0.5793 - val_acc: 0.8570\n",
      "Epoch 35/200\n",
      "1000/1000 [==============================] - 0s 18us/step - loss: 0.3275 - acc: 0.9460 - val_loss: 0.5754 - val_acc: 0.8758\n",
      "Epoch 36/200\n",
      "1000/1000 [==============================] - 0s 19us/step - loss: 0.3260 - acc: 0.9460 - val_loss: 0.5446 - val_acc: 0.8557\n",
      "Epoch 37/200\n",
      "1000/1000 [==============================] - 0s 18us/step - loss: 0.2888 - acc: 0.9570 - val_loss: 0.5812 - val_acc: 0.8645\n",
      "Epoch 38/200\n",
      "1000/1000 [==============================] - 0s 17us/step - loss: 0.2867 - acc: 0.9510 - val_loss: 0.4920 - val_acc: 0.8896\n",
      "Epoch 39/200\n",
      "1000/1000 [==============================] - 0s 17us/step - loss: 0.2557 - acc: 0.9610 - val_loss: 0.5845 - val_acc: 0.8620\n",
      "Epoch 40/200\n",
      "1000/1000 [==============================] - 0s 17us/step - loss: 0.2527 - acc: 0.9640 - val_loss: 0.4739 - val_acc: 0.8959\n",
      "Epoch 41/200\n",
      "1000/1000 [==============================] - 0s 16us/step - loss: 0.2263 - acc: 0.9690 - val_loss: 0.5052 - val_acc: 0.8783\n",
      "Epoch 42/200\n",
      "1000/1000 [==============================] - 0s 17us/step - loss: 0.2136 - acc: 0.9770 - val_loss: 0.5201 - val_acc: 0.8708\n",
      "Epoch 43/200\n",
      "1000/1000 [==============================] - 0s 17us/step - loss: 0.2056 - acc: 0.9750 - val_loss: 0.4969 - val_acc: 0.8783\n",
      "Epoch 44/200\n",
      "1000/1000 [==============================] - 0s 17us/step - loss: 0.1981 - acc: 0.9750 - val_loss: 0.5228 - val_acc: 0.8683\n",
      "Epoch 45/200\n",
      "1000/1000 [==============================] - 0s 17us/step - loss: 0.1975 - acc: 0.9760 - val_loss: 0.4939 - val_acc: 0.8670\n",
      "Epoch 46/200\n",
      "1000/1000 [==============================] - 0s 17us/step - loss: 0.1874 - acc: 0.9770 - val_loss: 0.4974 - val_acc: 0.8758\n",
      "Epoch 47/200\n",
      "1000/1000 [==============================] - 0s 17us/step - loss: 0.1843 - acc: 0.9760 - val_loss: 0.5021 - val_acc: 0.8733\n",
      "Epoch 48/200\n",
      "1000/1000 [==============================] - 0s 18us/step - loss: 0.1732 - acc: 0.9780 - val_loss: 0.4953 - val_acc: 0.8708\n",
      "Epoch 49/200\n",
      "1000/1000 [==============================] - 0s 17us/step - loss: 0.1636 - acc: 0.9860 - val_loss: 0.5132 - val_acc: 0.8657\n",
      "Epoch 50/200\n",
      "1000/1000 [==============================] - 0s 16us/step - loss: 0.1654 - acc: 0.9820 - val_loss: 0.4979 - val_acc: 0.8745\n",
      "Epoch 51/200\n",
      "1000/1000 [==============================] - 0s 17us/step - loss: 0.1570 - acc: 0.9850 - val_loss: 0.5177 - val_acc: 0.8582\n",
      "Epoch 52/200\n",
      "1000/1000 [==============================] - 0s 17us/step - loss: 0.1491 - acc: 0.9870 - val_loss: 0.4934 - val_acc: 0.8733\n",
      "Epoch 53/200\n",
      "1000/1000 [==============================] - 0s 17us/step - loss: 0.1410 - acc: 0.9880 - val_loss: 0.4973 - val_acc: 0.8720\n",
      "Epoch 54/200\n",
      "1000/1000 [==============================] - 0s 17us/step - loss: 0.1368 - acc: 0.9880 - val_loss: 0.5031 - val_acc: 0.8683\n",
      "Epoch 55/200\n",
      "1000/1000 [==============================] - 0s 17us/step - loss: 0.1361 - acc: 0.9880 - val_loss: 0.4849 - val_acc: 0.8770\n",
      "Epoch 56/200\n",
      "1000/1000 [==============================] - 0s 16us/step - loss: 0.1332 - acc: 0.9870 - val_loss: 0.5108 - val_acc: 0.8670\n",
      "Epoch 57/200\n",
      "1000/1000 [==============================] - 0s 17us/step - loss: 0.1314 - acc: 0.9880 - val_loss: 0.4907 - val_acc: 0.8733\n",
      "Epoch 58/200\n",
      "1000/1000 [==============================] - 0s 17us/step - loss: 0.1332 - acc: 0.9850 - val_loss: 0.5127 - val_acc: 0.8657\n",
      "Epoch 59/200\n",
      "1000/1000 [==============================] - 0s 17us/step - loss: 0.1212 - acc: 0.9900 - val_loss: 0.5027 - val_acc: 0.8695\n",
      "Epoch 60/200\n"
     ]
    },
    {
     "name": "stdout",
     "output_type": "stream",
     "text": [
      "1000/1000 [==============================] - 0s 16us/step - loss: 0.1192 - acc: 0.9890 - val_loss: 0.5134 - val_acc: 0.8683\n",
      "Epoch 61/200\n",
      "1000/1000 [==============================] - 0s 17us/step - loss: 0.1201 - acc: 0.9870 - val_loss: 0.5029 - val_acc: 0.8683\n",
      "Epoch 62/200\n",
      "1000/1000 [==============================] - 0s 17us/step - loss: 0.1144 - acc: 0.9900 - val_loss: 0.5039 - val_acc: 0.8645\n",
      "Epoch 63/200\n",
      "1000/1000 [==============================] - 0s 16us/step - loss: 0.1130 - acc: 0.9870 - val_loss: 0.4957 - val_acc: 0.8745\n",
      "Epoch 64/200\n",
      "1000/1000 [==============================] - 0s 16us/step - loss: 0.1092 - acc: 0.9890 - val_loss: 0.5085 - val_acc: 0.8683\n",
      "Epoch 65/200\n",
      "1000/1000 [==============================] - 0s 16us/step - loss: 0.1086 - acc: 0.9890 - val_loss: 0.4953 - val_acc: 0.8683\n",
      "Epoch 66/200\n",
      "1000/1000 [==============================] - 0s 17us/step - loss: 0.1077 - acc: 0.9890 - val_loss: 0.4960 - val_acc: 0.8733\n",
      "Epoch 67/200\n",
      "1000/1000 [==============================] - 0s 17us/step - loss: 0.1066 - acc: 0.9900 - val_loss: 0.4987 - val_acc: 0.8657\n",
      "Epoch 68/200\n",
      "1000/1000 [==============================] - 0s 16us/step - loss: 0.1075 - acc: 0.9910 - val_loss: 0.4833 - val_acc: 0.8683\n",
      "Epoch 69/200\n",
      "1000/1000 [==============================] - 0s 16us/step - loss: 0.1019 - acc: 0.9910 - val_loss: 0.5005 - val_acc: 0.8720\n",
      "Epoch 70/200\n",
      "1000/1000 [==============================] - 0s 16us/step - loss: 0.1020 - acc: 0.9910 - val_loss: 0.4983 - val_acc: 0.8657\n",
      "Epoch 71/200\n",
      "1000/1000 [==============================] - 0s 16us/step - loss: 0.1023 - acc: 0.9900 - val_loss: 0.4917 - val_acc: 0.8683\n",
      "Epoch 72/200\n",
      "1000/1000 [==============================] - 0s 16us/step - loss: 0.0977 - acc: 0.9920 - val_loss: 0.5044 - val_acc: 0.8657\n",
      "Epoch 73/200\n",
      "1000/1000 [==============================] - 0s 15us/step - loss: 0.0976 - acc: 0.9930 - val_loss: 0.4877 - val_acc: 0.8695\n",
      "Epoch 74/200\n",
      "1000/1000 [==============================] - 0s 16us/step - loss: 0.0998 - acc: 0.9900 - val_loss: 0.4948 - val_acc: 0.8708\n",
      "Epoch 75/200\n",
      "1000/1000 [==============================] - 0s 16us/step - loss: 0.0983 - acc: 0.9920 - val_loss: 0.4927 - val_acc: 0.8632\n",
      "Epoch 76/200\n",
      "1000/1000 [==============================] - 0s 17us/step - loss: 0.0938 - acc: 0.9920 - val_loss: 0.4959 - val_acc: 0.8733\n",
      "Epoch 77/200\n",
      "1000/1000 [==============================] - 0s 17us/step - loss: 0.1009 - acc: 0.9900 - val_loss: 0.4952 - val_acc: 0.8657\n",
      "Epoch 78/200\n",
      "1000/1000 [==============================] - 0s 16us/step - loss: 0.0981 - acc: 0.9880 - val_loss: 0.4957 - val_acc: 0.8695\n",
      "Epoch 79/200\n",
      "1000/1000 [==============================] - 0s 16us/step - loss: 0.0935 - acc: 0.9910 - val_loss: 0.5055 - val_acc: 0.8632\n",
      "Epoch 80/200\n",
      "1000/1000 [==============================] - 0s 17us/step - loss: 0.0942 - acc: 0.9900 - val_loss: 0.4985 - val_acc: 0.8683\n",
      "Epoch 81/200\n",
      "1000/1000 [==============================] - 0s 16us/step - loss: 0.0946 - acc: 0.9900 - val_loss: 0.5089 - val_acc: 0.8657\n",
      "Epoch 82/200\n",
      "1000/1000 [==============================] - 0s 16us/step - loss: 0.0909 - acc: 0.9910 - val_loss: 0.5022 - val_acc: 0.8683\n",
      "Epoch 83/200\n",
      "1000/1000 [==============================] - 0s 17us/step - loss: 0.0857 - acc: 0.9920 - val_loss: 0.4971 - val_acc: 0.8645\n",
      "Epoch 84/200\n",
      "1000/1000 [==============================] - 0s 17us/step - loss: 0.0892 - acc: 0.9920 - val_loss: 0.5279 - val_acc: 0.8595\n",
      "Epoch 85/200\n",
      "1000/1000 [==============================] - 0s 17us/step - loss: 0.0841 - acc: 0.9940 - val_loss: 0.4893 - val_acc: 0.8670\n",
      "Epoch 86/200\n",
      "1000/1000 [==============================] - 0s 18us/step - loss: 0.0886 - acc: 0.9880 - val_loss: 0.5572 - val_acc: 0.8595\n",
      "Epoch 87/200\n",
      "1000/1000 [==============================] - 0s 17us/step - loss: 0.0894 - acc: 0.9920 - val_loss: 0.4984 - val_acc: 0.8720\n",
      "Epoch 88/200\n",
      "1000/1000 [==============================] - 0s 17us/step - loss: 0.0871 - acc: 0.9920 - val_loss: 0.5155 - val_acc: 0.8670\n",
      "Epoch 89/200\n",
      "1000/1000 [==============================] - 0s 17us/step - loss: 0.0810 - acc: 0.9920 - val_loss: 0.5087 - val_acc: 0.8595\n",
      "Epoch 90/200\n",
      "1000/1000 [==============================] - 0s 17us/step - loss: 0.0843 - acc: 0.9900 - val_loss: 0.5077 - val_acc: 0.8632\n",
      "Epoch 91/200\n",
      "1000/1000 [==============================] - 0s 16us/step - loss: 0.0806 - acc: 0.9930 - val_loss: 0.5180 - val_acc: 0.8620\n",
      "Epoch 92/200\n",
      "1000/1000 [==============================] - 0s 17us/step - loss: 0.0789 - acc: 0.9930 - val_loss: 0.5101 - val_acc: 0.8695\n",
      "Epoch 93/200\n",
      "1000/1000 [==============================] - 0s 17us/step - loss: 0.0803 - acc: 0.9920 - val_loss: 0.5184 - val_acc: 0.8632\n",
      "Epoch 94/200\n",
      "1000/1000 [==============================] - 0s 17us/step - loss: 0.0806 - acc: 0.9930 - val_loss: 0.5114 - val_acc: 0.8670\n",
      "Epoch 95/200\n",
      "1000/1000 [==============================] - 0s 17us/step - loss: 0.0782 - acc: 0.9950 - val_loss: 0.5589 - val_acc: 0.8582\n",
      "Epoch 96/200\n",
      "1000/1000 [==============================] - 0s 17us/step - loss: 0.0846 - acc: 0.9910 - val_loss: 0.5069 - val_acc: 0.8708\n",
      "Epoch 97/200\n",
      "1000/1000 [==============================] - 0s 17us/step - loss: 0.0815 - acc: 0.9900 - val_loss: 0.5210 - val_acc: 0.8645\n",
      "Epoch 98/200\n",
      "1000/1000 [==============================] - 0s 16us/step - loss: 0.0791 - acc: 0.9930 - val_loss: 0.5031 - val_acc: 0.8670\n",
      "Epoch 99/200\n",
      "1000/1000 [==============================] - 0s 16us/step - loss: 0.0736 - acc: 0.9940 - val_loss: 0.5157 - val_acc: 0.8595\n",
      "Epoch 100/200\n",
      "1000/1000 [==============================] - 0s 16us/step - loss: 0.0736 - acc: 0.9930 - val_loss: 0.5043 - val_acc: 0.8632\n",
      "Epoch 101/200\n",
      "1000/1000 [==============================] - 0s 16us/step - loss: 0.0691 - acc: 0.9950 - val_loss: 0.5210 - val_acc: 0.8595\n",
      "Epoch 102/200\n",
      "1000/1000 [==============================] - 0s 17us/step - loss: 0.0689 - acc: 0.9950 - val_loss: 0.4983 - val_acc: 0.8645\n",
      "Epoch 103/200\n",
      "1000/1000 [==============================] - 0s 17us/step - loss: 0.0677 - acc: 0.9940 - val_loss: 0.5101 - val_acc: 0.8607\n",
      "Epoch 104/200\n",
      "1000/1000 [==============================] - 0s 18us/step - loss: 0.0661 - acc: 0.9940 - val_loss: 0.5147 - val_acc: 0.8657\n",
      "Epoch 105/200\n",
      "1000/1000 [==============================] - 0s 18us/step - loss: 0.0652 - acc: 0.9950 - val_loss: 0.5034 - val_acc: 0.8632\n",
      "Epoch 106/200\n",
      "1000/1000 [==============================] - 0s 17us/step - loss: 0.0638 - acc: 0.9960 - val_loss: 0.5062 - val_acc: 0.8683\n",
      "Epoch 107/200\n",
      "1000/1000 [==============================] - 0s 17us/step - loss: 0.0636 - acc: 0.9950 - val_loss: 0.5122 - val_acc: 0.8620\n",
      "Epoch 108/200\n",
      "1000/1000 [==============================] - 0s 17us/step - loss: 0.0623 - acc: 0.9950 - val_loss: 0.5139 - val_acc: 0.8607\n",
      "Epoch 109/200\n",
      "1000/1000 [==============================] - 0s 16us/step - loss: 0.0619 - acc: 0.9950 - val_loss: 0.5101 - val_acc: 0.8670\n",
      "Epoch 110/200\n",
      "1000/1000 [==============================] - 0s 17us/step - loss: 0.0615 - acc: 0.9950 - val_loss: 0.5206 - val_acc: 0.8632\n",
      "Epoch 111/200\n",
      "1000/1000 [==============================] - 0s 18us/step - loss: 0.0618 - acc: 0.9950 - val_loss: 0.5165 - val_acc: 0.8645\n",
      "Epoch 112/200\n",
      "1000/1000 [==============================] - 0s 17us/step - loss: 0.0602 - acc: 0.9950 - val_loss: 0.5121 - val_acc: 0.8632\n",
      "Epoch 113/200\n",
      "1000/1000 [==============================] - 0s 17us/step - loss: 0.0589 - acc: 0.9950 - val_loss: 0.5075 - val_acc: 0.8657\n",
      "Epoch 114/200\n",
      "1000/1000 [==============================] - 0s 16us/step - loss: 0.0581 - acc: 0.9950 - val_loss: 0.5100 - val_acc: 0.8645\n",
      "Epoch 115/200\n",
      "1000/1000 [==============================] - 0s 17us/step - loss: 0.0581 - acc: 0.9960 - val_loss: 0.5111 - val_acc: 0.8670\n",
      "Epoch 116/200\n",
      "1000/1000 [==============================] - 0s 17us/step - loss: 0.0574 - acc: 0.9960 - val_loss: 0.5115 - val_acc: 0.8683\n",
      "Epoch 117/200\n",
      "1000/1000 [==============================] - 0s 17us/step - loss: 0.0571 - acc: 0.9960 - val_loss: 0.5179 - val_acc: 0.8657\n",
      "Epoch 118/200\n",
      "1000/1000 [==============================] - 0s 17us/step - loss: 0.0557 - acc: 0.9960 - val_loss: 0.5184 - val_acc: 0.8670\n",
      "Epoch 119/200\n",
      "1000/1000 [==============================] - 0s 16us/step - loss: 0.0551 - acc: 0.9960 - val_loss: 0.5191 - val_acc: 0.8645\n"
     ]
    },
    {
     "name": "stdout",
     "output_type": "stream",
     "text": [
      "Epoch 120/200\n",
      "1000/1000 [==============================] - 0s 17us/step - loss: 0.0548 - acc: 0.9960 - val_loss: 0.5178 - val_acc: 0.8645\n",
      "Epoch 121/200\n",
      "1000/1000 [==============================] - 0s 17us/step - loss: 0.0544 - acc: 0.9960 - val_loss: 0.5171 - val_acc: 0.8670\n",
      "Epoch 122/200\n",
      "1000/1000 [==============================] - 0s 16us/step - loss: 0.0536 - acc: 0.9960 - val_loss: 0.5175 - val_acc: 0.8695\n",
      "Epoch 123/200\n",
      "1000/1000 [==============================] - 0s 16us/step - loss: 0.0535 - acc: 0.9960 - val_loss: 0.5248 - val_acc: 0.8670\n",
      "Epoch 124/200\n",
      "1000/1000 [==============================] - 0s 17us/step - loss: 0.0529 - acc: 0.9960 - val_loss: 0.5240 - val_acc: 0.8683\n",
      "Epoch 125/200\n",
      "1000/1000 [==============================] - 0s 16us/step - loss: 0.0524 - acc: 0.9960 - val_loss: 0.5243 - val_acc: 0.8657\n",
      "Epoch 126/200\n",
      "1000/1000 [==============================] - 0s 16us/step - loss: 0.0520 - acc: 0.9960 - val_loss: 0.5238 - val_acc: 0.8657\n",
      "Epoch 127/200\n",
      "1000/1000 [==============================] - 0s 16us/step - loss: 0.0515 - acc: 0.9960 - val_loss: 0.5279 - val_acc: 0.8670\n",
      "Epoch 128/200\n",
      "1000/1000 [==============================] - 0s 16us/step - loss: 0.0515 - acc: 0.9960 - val_loss: 0.5262 - val_acc: 0.8632\n",
      "Epoch 129/200\n",
      "1000/1000 [==============================] - 0s 16us/step - loss: 0.0513 - acc: 0.9960 - val_loss: 0.5239 - val_acc: 0.8683\n",
      "Epoch 130/200\n",
      "1000/1000 [==============================] - 0s 17us/step - loss: 0.0513 - acc: 0.9960 - val_loss: 0.5283 - val_acc: 0.8645\n",
      "Epoch 131/200\n",
      "1000/1000 [==============================] - 0s 17us/step - loss: 0.0510 - acc: 0.9960 - val_loss: 0.5271 - val_acc: 0.8683\n",
      "Epoch 132/200\n",
      "1000/1000 [==============================] - 0s 17us/step - loss: 0.0508 - acc: 0.9960 - val_loss: 0.5298 - val_acc: 0.8632\n",
      "Epoch 133/200\n",
      "1000/1000 [==============================] - 0s 18us/step - loss: 0.0497 - acc: 0.9960 - val_loss: 0.5341 - val_acc: 0.8657\n",
      "Epoch 134/200\n",
      "1000/1000 [==============================] - 0s 17us/step - loss: 0.0492 - acc: 0.9960 - val_loss: 0.5312 - val_acc: 0.8632\n",
      "Epoch 135/200\n",
      "1000/1000 [==============================] - 0s 17us/step - loss: 0.0488 - acc: 0.9960 - val_loss: 0.5288 - val_acc: 0.8645\n",
      "Epoch 136/200\n",
      "1000/1000 [==============================] - 0s 17us/step - loss: 0.0482 - acc: 0.9960 - val_loss: 0.5456 - val_acc: 0.8657\n",
      "Epoch 137/200\n",
      "1000/1000 [==============================] - 0s 17us/step - loss: 0.0480 - acc: 0.9960 - val_loss: 0.5326 - val_acc: 0.8670\n",
      "Epoch 138/200\n",
      "1000/1000 [==============================] - 0s 17us/step - loss: 0.0479 - acc: 0.9960 - val_loss: 0.5339 - val_acc: 0.8670\n",
      "Epoch 139/200\n",
      "1000/1000 [==============================] - 0s 16us/step - loss: 0.0478 - acc: 0.9960 - val_loss: 0.5369 - val_acc: 0.8645\n",
      "Epoch 140/200\n",
      "1000/1000 [==============================] - 0s 16us/step - loss: 0.0478 - acc: 0.9960 - val_loss: 0.5329 - val_acc: 0.8607\n",
      "Epoch 141/200\n",
      "1000/1000 [==============================] - 0s 16us/step - loss: 0.0474 - acc: 0.9950 - val_loss: 0.5399 - val_acc: 0.8632\n",
      "Epoch 142/200\n",
      "1000/1000 [==============================] - 0s 17us/step - loss: 0.0468 - acc: 0.9960 - val_loss: 0.5406 - val_acc: 0.8620\n",
      "Epoch 143/200\n",
      "1000/1000 [==============================] - 0s 17us/step - loss: 0.0465 - acc: 0.9950 - val_loss: 0.5371 - val_acc: 0.8632\n",
      "Epoch 144/200\n",
      "1000/1000 [==============================] - 0s 16us/step - loss: 0.0461 - acc: 0.9960 - val_loss: 0.5483 - val_acc: 0.8632\n",
      "Epoch 145/200\n",
      "1000/1000 [==============================] - 0s 16us/step - loss: 0.0461 - acc: 0.9960 - val_loss: 0.5414 - val_acc: 0.8670\n",
      "Epoch 146/200\n",
      "1000/1000 [==============================] - 0s 17us/step - loss: 0.0460 - acc: 0.9960 - val_loss: 0.5438 - val_acc: 0.8645\n",
      "Epoch 147/200\n",
      "1000/1000 [==============================] - 0s 17us/step - loss: 0.0453 - acc: 0.9950 - val_loss: 0.5441 - val_acc: 0.8657\n",
      "Epoch 148/200\n",
      "1000/1000 [==============================] - 0s 16us/step - loss: 0.0447 - acc: 0.9950 - val_loss: 0.5464 - val_acc: 0.8632\n",
      "Epoch 149/200\n",
      "1000/1000 [==============================] - 0s 17us/step - loss: 0.0449 - acc: 0.9950 - val_loss: 0.5377 - val_acc: 0.8620\n",
      "Epoch 150/200\n",
      "1000/1000 [==============================] - 0s 17us/step - loss: 0.0439 - acc: 0.9960 - val_loss: 0.5504 - val_acc: 0.8620\n",
      "Epoch 151/200\n",
      "1000/1000 [==============================] - 0s 16us/step - loss: 0.0441 - acc: 0.9960 - val_loss: 0.5402 - val_acc: 0.8670\n",
      "Epoch 152/200\n",
      "1000/1000 [==============================] - 0s 17us/step - loss: 0.0436 - acc: 0.9950 - val_loss: 0.5428 - val_acc: 0.8645\n",
      "Epoch 153/200\n",
      "1000/1000 [==============================] - 0s 17us/step - loss: 0.0431 - acc: 0.9950 - val_loss: 0.5454 - val_acc: 0.8632\n",
      "Epoch 154/200\n",
      "1000/1000 [==============================] - 0s 17us/step - loss: 0.0431 - acc: 0.9950 - val_loss: 0.5461 - val_acc: 0.8632\n",
      "Epoch 155/200\n",
      "1000/1000 [==============================] - 0s 17us/step - loss: 0.0431 - acc: 0.9950 - val_loss: 0.5444 - val_acc: 0.8620\n",
      "Epoch 156/200\n",
      "1000/1000 [==============================] - 0s 17us/step - loss: 0.0424 - acc: 0.9950 - val_loss: 0.5486 - val_acc: 0.8632\n",
      "Epoch 157/200\n",
      "1000/1000 [==============================] - 0s 17us/step - loss: 0.0422 - acc: 0.9950 - val_loss: 0.5424 - val_acc: 0.8607\n",
      "Epoch 158/200\n",
      "1000/1000 [==============================] - 0s 17us/step - loss: 0.0420 - acc: 0.9950 - val_loss: 0.5451 - val_acc: 0.8607\n",
      "Epoch 159/200\n",
      "1000/1000 [==============================] - 0s 16us/step - loss: 0.0420 - acc: 0.9950 - val_loss: 0.5525 - val_acc: 0.8595\n",
      "Epoch 160/200\n",
      "1000/1000 [==============================] - 0s 17us/step - loss: 0.0417 - acc: 0.9950 - val_loss: 0.5405 - val_acc: 0.8645\n",
      "Epoch 161/200\n",
      "1000/1000 [==============================] - 0s 17us/step - loss: 0.0417 - acc: 0.9950 - val_loss: 0.5500 - val_acc: 0.8582\n",
      "Epoch 162/200\n",
      "1000/1000 [==============================] - 0s 17us/step - loss: 0.0413 - acc: 0.9950 - val_loss: 0.5470 - val_acc: 0.8620\n",
      "Epoch 163/200\n",
      "1000/1000 [==============================] - 0s 17us/step - loss: 0.0411 - acc: 0.9950 - val_loss: 0.5452 - val_acc: 0.8620\n",
      "Epoch 164/200\n",
      "1000/1000 [==============================] - 0s 16us/step - loss: 0.0407 - acc: 0.9960 - val_loss: 0.5504 - val_acc: 0.8620\n",
      "Epoch 165/200\n",
      "1000/1000 [==============================] - 0s 17us/step - loss: 0.0421 - acc: 0.9950 - val_loss: 0.5515 - val_acc: 0.8632\n",
      "Epoch 166/200\n",
      "1000/1000 [==============================] - 0s 17us/step - loss: 0.0423 - acc: 0.9950 - val_loss: 0.5629 - val_acc: 0.8595\n",
      "Epoch 167/200\n",
      "1000/1000 [==============================] - 0s 17us/step - loss: 0.0416 - acc: 0.9950 - val_loss: 0.5457 - val_acc: 0.8620\n",
      "Epoch 168/200\n",
      "1000/1000 [==============================] - 0s 17us/step - loss: 0.0406 - acc: 0.9960 - val_loss: 0.5586 - val_acc: 0.8570\n",
      "Epoch 169/200\n",
      "1000/1000 [==============================] - 0s 17us/step - loss: 0.0411 - acc: 0.9960 - val_loss: 0.5449 - val_acc: 0.8632\n",
      "Epoch 170/200\n",
      "1000/1000 [==============================] - 0s 18us/step - loss: 0.0424 - acc: 0.9960 - val_loss: 0.5572 - val_acc: 0.8545\n",
      "Epoch 171/200\n",
      "1000/1000 [==============================] - 0s 18us/step - loss: 0.0412 - acc: 0.9960 - val_loss: 0.5487 - val_acc: 0.8657\n",
      "Epoch 172/200\n",
      "1000/1000 [==============================] - 0s 18us/step - loss: 0.0409 - acc: 0.9960 - val_loss: 0.5539 - val_acc: 0.8557\n",
      "Epoch 173/200\n",
      "1000/1000 [==============================] - 0s 18us/step - loss: 0.0396 - acc: 0.9960 - val_loss: 0.5495 - val_acc: 0.8645\n",
      "Epoch 174/200\n",
      "1000/1000 [==============================] - 0s 18us/step - loss: 0.0391 - acc: 0.9960 - val_loss: 0.5487 - val_acc: 0.8632\n",
      "Epoch 175/200\n",
      "1000/1000 [==============================] - 0s 18us/step - loss: 0.0385 - acc: 0.9960 - val_loss: 0.5476 - val_acc: 0.8632\n",
      "Epoch 176/200\n",
      "1000/1000 [==============================] - 0s 19us/step - loss: 0.0383 - acc: 0.9960 - val_loss: 0.5507 - val_acc: 0.8595\n",
      "Epoch 177/200\n",
      "1000/1000 [==============================] - 0s 17us/step - loss: 0.0383 - acc: 0.9960 - val_loss: 0.5559 - val_acc: 0.8582\n",
      "Epoch 178/200\n",
      "1000/1000 [==============================] - 0s 17us/step - loss: 0.0379 - acc: 0.9950 - val_loss: 0.5475 - val_acc: 0.8632\n",
      "Epoch 179/200\n"
     ]
    },
    {
     "name": "stdout",
     "output_type": "stream",
     "text": [
      "1000/1000 [==============================] - 0s 18us/step - loss: 0.0376 - acc: 0.9960 - val_loss: 0.5548 - val_acc: 0.8570\n",
      "Epoch 180/200\n",
      "1000/1000 [==============================] - 0s 18us/step - loss: 0.0375 - acc: 0.9960 - val_loss: 0.5565 - val_acc: 0.8595\n",
      "Epoch 181/200\n",
      "1000/1000 [==============================] - 0s 18us/step - loss: 0.0374 - acc: 0.9960 - val_loss: 0.5460 - val_acc: 0.8632\n",
      "Epoch 182/200\n",
      "1000/1000 [==============================] - 0s 17us/step - loss: 0.0373 - acc: 0.9960 - val_loss: 0.5606 - val_acc: 0.8570\n",
      "Epoch 183/200\n",
      "1000/1000 [==============================] - 0s 17us/step - loss: 0.0371 - acc: 0.9960 - val_loss: 0.5503 - val_acc: 0.8620\n",
      "Epoch 184/200\n",
      "1000/1000 [==============================] - 0s 17us/step - loss: 0.0373 - acc: 0.9960 - val_loss: 0.5564 - val_acc: 0.8595\n",
      "Epoch 185/200\n",
      "1000/1000 [==============================] - 0s 17us/step - loss: 0.0368 - acc: 0.9960 - val_loss: 0.5627 - val_acc: 0.8595\n",
      "Epoch 186/200\n",
      "1000/1000 [==============================] - 0s 16us/step - loss: 0.0367 - acc: 0.9960 - val_loss: 0.5537 - val_acc: 0.8595\n",
      "Epoch 187/200\n",
      "1000/1000 [==============================] - 0s 16us/step - loss: 0.0366 - acc: 0.9960 - val_loss: 0.5562 - val_acc: 0.8595\n",
      "Epoch 188/200\n",
      "1000/1000 [==============================] - 0s 17us/step - loss: 0.0363 - acc: 0.9960 - val_loss: 0.5609 - val_acc: 0.8557\n",
      "Epoch 189/200\n",
      "1000/1000 [==============================] - 0s 17us/step - loss: 0.0358 - acc: 0.9960 - val_loss: 0.5577 - val_acc: 0.8582\n",
      "Epoch 190/200\n",
      "1000/1000 [==============================] - 0s 17us/step - loss: 0.0357 - acc: 0.9960 - val_loss: 0.5562 - val_acc: 0.8582\n",
      "Epoch 191/200\n",
      "1000/1000 [==============================] - 0s 17us/step - loss: 0.0354 - acc: 0.9960 - val_loss: 0.5598 - val_acc: 0.8582\n",
      "Epoch 192/200\n",
      "1000/1000 [==============================] - 0s 17us/step - loss: 0.0352 - acc: 0.9960 - val_loss: 0.5569 - val_acc: 0.8595\n",
      "Epoch 193/200\n",
      "1000/1000 [==============================] - 0s 17us/step - loss: 0.0351 - acc: 0.9960 - val_loss: 0.5604 - val_acc: 0.8595\n",
      "Epoch 194/200\n",
      "1000/1000 [==============================] - 0s 17us/step - loss: 0.0350 - acc: 0.9960 - val_loss: 0.5587 - val_acc: 0.8595\n",
      "Epoch 195/200\n",
      "1000/1000 [==============================] - 0s 17us/step - loss: 0.0349 - acc: 0.9960 - val_loss: 0.5615 - val_acc: 0.8595\n",
      "Epoch 196/200\n",
      "1000/1000 [==============================] - 0s 17us/step - loss: 0.0347 - acc: 0.9960 - val_loss: 0.5590 - val_acc: 0.8582\n",
      "Epoch 197/200\n",
      "1000/1000 [==============================] - 0s 17us/step - loss: 0.0345 - acc: 0.9960 - val_loss: 0.5570 - val_acc: 0.8595\n",
      "Epoch 198/200\n",
      "1000/1000 [==============================] - 0s 17us/step - loss: 0.0343 - acc: 0.9960 - val_loss: 0.5594 - val_acc: 0.8607\n",
      "Epoch 199/200\n",
      "1000/1000 [==============================] - 0s 17us/step - loss: 0.0343 - acc: 0.9960 - val_loss: 0.5598 - val_acc: 0.8582\n",
      "Epoch 200/200\n",
      "1000/1000 [==============================] - 0s 17us/step - loss: 0.0343 - acc: 0.9960 - val_loss: 0.5584 - val_acc: 0.8582\n"
     ]
    }
   ],
   "source": [
    "history = model.fit(x=x_train, y=y_train, validation_data=(x_test,y_test),\n",
    "                    batch_size=200, epochs=200)"
   ]
  },
  {
   "cell_type": "code",
   "execution_count": 239,
   "metadata": {},
   "outputs": [],
   "source": [
    "predictions = model.predict(x_test)"
   ]
  },
  {
   "cell_type": "code",
   "execution_count": 240,
   "metadata": {},
   "outputs": [
    {
     "name": "stdout",
     "output_type": "stream",
     "text": [
      "prediction: 2 \ttrue value: 1\n"
     ]
    },
    {
     "data": {
      "image/png": "[encoded data removed]",
      "text/plain": [
       "<Figure size 432x288 with 1 Axes>"
      ]
     },
     "metadata": {
      "needs_background": "light"
     },
     "output_type": "display_data"
    }
   ],
   "source": [
    "img = x_test[0].reshape(8,8)\n",
    "plt.imshow(img)\n",
    "print 'prediction:', np.argmax(predictions[0]), '\\ttrue value:', np.argmax(y_test[0])"
   ]
  },
  {
   "cell_type": "code",
   "execution_count": 241,
   "metadata": {},
   "outputs": [],
   "source": [
    "def plot_history(history):\n",
    "    acc = history.history['acc']\n",
    "    val_acc = history.history['val_acc']\n",
    "\n",
    "    # Retrieve a list of list results on training and test data\n",
    "    # sets for each training epoch\n",
    "    loss = history.history['loss']\n",
    "    val_loss = history.history['val_loss']\n",
    "\n",
    "    # Get number of epochs\n",
    "    epochs = range(len(acc))\n",
    "\n",
    "    # Plot training and validation accuracy per epoch\n",
    "    plt.plot(epochs, acc)\n",
    "    plt.plot(epochs, val_acc)\n",
    "    plt.title('Training and validation accuracy')\n",
    "\n",
    "    plt.figure()\n",
    "\n",
    "    # Plot training and validation loss per epoch\n",
    "    plt.plot(epochs, loss)\n",
    "    plt.plot(epochs, val_loss)\n",
    "    plt.title('Training and validation loss')\n",
    "    plt.show()\n",
    "    \n"
   ]
  },
  {
   "cell_type": "code",
   "execution_count": 242,
   "metadata": {},
   "outputs": [
    {
     "data": {
      "image/png": "[encoded data removed]",
      "text/plain": [
       "<Figure size 432x288 with 1 Axes>"
      ]
     },
     "metadata": {
      "needs_background": "light"
     },
     "output_type": "display_data"
    },
    {
     "data": {
      "image/png": "[encoded data removed]",
      "text/plain": [
       "<Figure size 432x288 with 1 Axes>"
      ]
     },
     "metadata": {
      "needs_background": "light"
     },
     "output_type": "display_data"
    }
   ],
   "source": [
    "plot_history(history)"
   ]
  },
  {
   "cell_type": "code",
   "execution_count": 176,
   "metadata": {},
   "outputs": [
    {
     "data": {
      "text/plain": [
       "0.8518518518518519"
      ]
     },
     "execution_count": 176,
     "metadata": {},
     "output_type": "execute_result"
    }
   ],
   "source": [
    "y_test_best = np.argmax(y_test,1)\n",
    "predictions_best = np.argmax(predictions,1)\n",
    "\n",
    "from sklearn.metrics import accuracy_score\n",
    "accuracy_score(y_test_best, predictions_best)"
   ]
  }
 ],
 "metadata": {
  "kernelspec": {
   "display_name": "Python 2",
   "language": "python",
   "name": "python2"
  },
  "language_info": {
   "codemirror_mode": {
    "name": "ipython",
    "version": 2
   },
   "file_extension": ".py",
   "mimetype": "text/x-python",
   "name": "python",
   "nbconvert_exporter": "python",
   "pygments_lexer": "ipython2",
   "version": "2.7.15"
  }
 },
 "nbformat": 4,
 "nbformat_minor": 2
}
