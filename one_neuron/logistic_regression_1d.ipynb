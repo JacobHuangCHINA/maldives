{
 "cells": [
  {
   "cell_type": "markdown",
   "metadata": {},
   "source": [
    "## Introduction\n",
    "\n",
    "So far we've used neural networks as a black box, with [scikit-learn](https://thedatafrog.com/handwritten-digit-recognition-scikit-learn/) and with [keras](https://thedatafrog.com/first-neural-network-keras/). Today, we're opening the box. \n",
    "\n",
    "To keep it easy, we'll do it for a very, very simple neural network, with a single neuron. \n",
    "\n",
    "Not very clever you might think, but this type of neural networks is actually used very often in machine learning problems, and is called a **logistic regression**. \n",
    "\n",
    "In this post, you will learn: \n",
    "\n",
    "* what's inside a neuron, and in particular what is the **sigmoid activation function**;\n",
    "* that a neural network is nothing more than a function of its inputs;\n",
    "* that neural networks with a single neuron do work, and are equivalent to a logistic regression.\n",
    "\n",
    "**Prerequisites:**\n",
    "\n",
    "A little bit of background in maths is needed to understand this post. You need to know:\n",
    "\n",
    "* what is a function\n",
    "* the exponential function\n",
    "\n",
    "On the technical side, you need to \n",
    "\n",
    "* [install Anaconda](https://thedatafrog.com/install-anaconda-data-science-python/), if not already done.\n",
    "* know a bit of numpy, matplotlib, and scikit-learn. For an introduction, you can check out [this tutorial](https://thedatafrog.com/handwritten-digit-recognition-scikit-learn/).\n",
    "\n",
    "As usual, first download and open this notebook:\n",
    "\n",
    "* [download the repository containing this notebook](https://github.com/cbernet/maldives/archive/master.zip)\n",
    "* unzip it, say to `Downloads/maldives-master`\n",
    "* launch a jupyter notebook from the anaconda navigator\n",
    "* in the notebook, navigate to `Downloads/maldives-master/one_neuron`\n",
    "* open `logistic_regression_1d.ipynb`\n",
    "\n",
    "In the notebook, import the needed packages:"
   ]
  },
  {
   "cell_type": "code",
   "execution_count": 1,
   "metadata": {},
   "outputs": [],
   "source": [
    "import numpy as np"
   ]
  },
  {
   "cell_type": "code",
   "execution_count": 2,
   "metadata": {},
   "outputs": [],
   "source": [
    "import matplotlib.pyplot as plt\n",
    "%matplotlib inline"
   ]
  },
  {
   "cell_type": "markdown",
   "metadata": {},
   "source": [
    "## Dataset creation\n",
    "\n",
    "Let's create a sample of examples with one variable $x$, in two categories.\n",
    "For each category, the samples will be distributed according to a **Gaussian probability density function (pdf)**, which is also called the **normal** probability density function. This function looks like this:  "
   ]
  },
  {
   "cell_type": "code",
   "execution_count": 3,
   "metadata": {},
   "outputs": [
    {
     "data": {
      "text/plain": [
       "Text(0,0.5,'pdf')"
      ]
     },
     "execution_count": 3,
     "metadata": {},
     "output_type": "execute_result"
    },
    {
     "data": {
      "image/png": "[encoded data removed]",
      "text/plain": [
       "<Figure size 432x288 with 1 Axes>"
      ]
     },
     "metadata": {
      "needs_background": "light"
     },
     "output_type": "display_data"
    }
   ],
   "source": [
    "from scipy.stats import norm\n",
    "x = np.linspace(-3,3, 100)\n",
    "# the mean of the Gaussian is set to 0.\n",
    "# (the Gaussian is centred on 0.)\n",
    "# the width of the Gaussian sigma is set to 1.\n",
    "plt.plot(x, norm.pdf(x, 0., 1.))\n",
    "plt.xlabel('x'); plt.ylabel('pdf')"
   ]
  },
  {
   "cell_type": "markdown",
   "metadata": {},
   "source": [
    "In this example, $x$ is a **random variable** distributed according to this Gaussian probability density function. \n",
    "This means that when we draw at random a value for $x$, the area under the curve for a given range in $x$ gives the probability for the value to fall in this range. And it follows that the full area under the function (its integral) between minus infinity and infinity is equal to 1. We can see that the values drawn for $x$ will have a high probability to fall around 0. "
   ]
  },
  {
   "cell_type": "markdown",
   "metadata": {},
   "source": [
    "For category 1, we choose a Gaussian probability density centered on -1.5 with unit standard deviation. For category 2, we center the Gaussian on 1.5 . In each category, we build 100 examples by drawing 100 values:"
   ]
  },
  {
   "cell_type": "code",
   "execution_count": 4,
   "metadata": {},
   "outputs": [],
   "source": [
    "normal = np.random.normal\n",
    "sigma = 1\n",
    "x0 = normal(-1.5, sigma, 100)\n",
    "x1 = normal(1.5, sigma, 100)\n",
    "# labels: \n",
    "y0 = np.zeros_like(x0)\n",
    "y1 = np.ones_like(x1)"
   ]
  },
  {
   "cell_type": "markdown",
   "metadata": {},
   "source": [
    "These two samples can be visualized as a scatter plot, with the category on the y axis:"
   ]
  },
  {
   "cell_type": "code",
   "execution_count": 5,
   "metadata": {},
   "outputs": [
    {
     "data": {
      "text/plain": [
       "[<matplotlib.lines.Line2D at 0x1a1e615b50>]"
      ]
     },
     "execution_count": 5,
     "metadata": {},
     "output_type": "execute_result"
    },
    {
     "data": {
      "image/png": "[encoded data removed]",
      "text/plain": [
       "<Figure size 432x288 with 1 Axes>"
      ]
     },
     "metadata": {
      "needs_background": "light"
     },
     "output_type": "display_data"
    }
   ],
   "source": [
    "plt.xlim(-5,5)\n",
    "plt.plot(x0, y0,'o')\n",
    "plt.plot(x1, y1,'o')"
   ]
  },
  {
   "cell_type": "markdown",
   "metadata": {},
   "source": [
    "And we can also show histograms. For each category, the histogram has 50 bins, that count the number of examples with a value falling in the bin:"
   ]
  },
  {
   "cell_type": "code",
   "execution_count": 6,
   "metadata": {},
   "outputs": [
    {
     "data": {
      "text/plain": [
       "(array([0., 0., 0., 0., 0., 0., 0., 0., 0., 0., 0., 0., 0., 0., 0., 0., 0.,\n",
       "        0., 0., 0., 0., 0., 3., 1., 1., 2., 1., 2., 6., 8., 5., 9., 8., 8.,\n",
       "        7., 6., 8., 3., 3., 6., 3., 1., 4., 3., 0., 1., 1., 0., 0., 0.]),\n",
       " array([-5. , -4.8, -4.6, -4.4, -4.2, -4. , -3.8, -3.6, -3.4, -3.2, -3. ,\n",
       "        -2.8, -2.6, -2.4, -2.2, -2. , -1.8, -1.6, -1.4, -1.2, -1. , -0.8,\n",
       "        -0.6, -0.4, -0.2,  0. ,  0.2,  0.4,  0.6,  0.8,  1. ,  1.2,  1.4,\n",
       "         1.6,  1.8,  2. ,  2.2,  2.4,  2.6,  2.8,  3. ,  3.2,  3.4,  3.6,\n",
       "         3.8,  4. ,  4.2,  4.4,  4.6,  4.8,  5. ]),\n",
       " <a list of 50 Patch objects>)"
      ]
     },
     "execution_count": 6,
     "metadata": {},
     "output_type": "execute_result"
    },
    {
     "data": {
      "image/png": "[encoded data removed]",
      "text/plain": [
       "<Figure size 432x288 with 1 Axes>"
      ]
     },
     "metadata": {
      "needs_background": "light"
     },
     "output_type": "display_data"
    }
   ],
   "source": [
    "# plt.hist(sample1,bins=50, range=(-5,5))\n",
    "plt.clf()\n",
    "plt.xlim(-5,5)\n",
    "plt.hist(x0,bins=50, range=(-5,5), alpha=0.5)\n",
    "plt.hist(x1,bins=50, range=(-5,5), alpha=0.5)"
   ]
  },
  {
   "cell_type": "markdown",
   "metadata": {},
   "source": [
    "The two samples indeed seem to follow the normal distributions we have chosen. With a larger number of samples in each category, each of the two histograms would come closer to their underlying normal distribution.  \n",
    "\n",
    "By eye, we see that examples from the two samples can be classified by setting a separation boundary at $x=0$. Given an unknown sample, if $x>0$ we classify it to category 1, and to category 0 otherwise.\n",
    "\n",
    "We are now going to see how the most simple neural network can find the boundary for us. \n",
    "\n",
    "But first, we must talk about the sigmoid function. "
   ]
  },
  {
   "cell_type": "markdown",
   "metadata": {},
   "source": [
    "## The sigmoid function \n",
    "\n",
    "The sigmoid or logistic function is essential in classification problems. In 1D, the **sigmoid** function is expressed as"
   ]
  },
  {
   "cell_type": "markdown",
   "metadata": {},
   "source": [
    "$$\\sigma(z) = \\frac{1}{1+e^{-z}}$$\n",
    "\n",
    "and here is what it looks like, together with our samples. "
   ]
  },
  {
   "cell_type": "code",
   "execution_count": 7,
   "metadata": {},
   "outputs": [
    {
     "data": {
      "text/plain": [
       "[<matplotlib.lines.Line2D at 0x1a1e758bd0>]"
      ]
     },
     "execution_count": 7,
     "metadata": {},
     "output_type": "execute_result"
    },
    {
     "data": {
      "image/png": "[encoded data removed]",
      "text/plain": [
       "<Figure size 432x288 with 1 Axes>"
      ]
     },
     "metadata": {
      "needs_background": "light"
     },
     "output_type": "display_data"
    }
   ],
   "source": [
    "# define parameters\n",
    "b = 0\n",
    "w = 1\n",
    "\n",
    "def sigmoid(x1):\n",
    "    # z is a linear function of x1\n",
    "    z = w*x1 + b\n",
    "    return 1 / (1+np.exp(-z))\n",
    "\n",
    "# create an array of evenly spaced values\n",
    "linx = np.linspace(-5,5,51)\n",
    "plt.plot(x0, np.zeros_like(x0),'o')\n",
    "plt.plot(x1, np.ones_like(x1),'o')\n",
    "plt.plot(linx, sigmoid(linx), color='red')"
   ]
  },
  {
   "cell_type": "markdown",
   "metadata": {},
   "source": [
    "Let's look at this function in more details:\n",
    "\n",
    "* when $z$ goes to infinity, $e^{-z}$ goes to zero, and $\\sigma (z)$ goes to one.\n",
    "* when $z$ goes to minus infinity, $e^{-z}$ goes to infinity, and $\\sigma (z)$ goes to zero.\n",
    "* $\\sigma(0) = 0.5$, since $e^0=1$.\n",
    "\n",
    "It is important to note that the sigmoid is bound between 0 and 1, like a probability. And actually, in machine learning classification problems, the probability for an example to belong to a given category is produced by a sigmoid function.\n",
    "\n",
    "To classify our examples, we can simply use the output of the sigmoid: A given unknown example with value $x$ will be classified to category 1 if $\\sigma(z) > 0.5$, and to category 0 otherwise. \n",
    "\n",
    "Now you can go back to the cell above, and play a bit with the `b` and `w` parameters, redoing the plot everytime you change one of these parameters. \n",
    "\n",
    "* $b$ is the **bias**. Changing the bias simply moves the sigmoid along the horizontal axis. For example, if you choose $b=1$ and $w=1$, then $z = wx + b = 0$ at $x=-1$, and that's where the sigmoid will be equal to 0.5\n",
    "* $w$ is the **weight** of variable $x$. If you increase it, the sigmoid evolves faster as a function of $x$ and gets sharper.\n",
    "\n",
    "For the classification to work well with these samples, we see that the bias $b$ has to be set to 0, and that the weight $w$ does not have any importance. That's not the case in general. "
   ]
  },
  {
   "cell_type": "markdown",
   "metadata": {},
   "source": [
    "## The most simple neural network ever"
   ]
  },
  {
   "cell_type": "markdown",
   "metadata": {},
   "source": [
    "In this section we will build the most simple neural network to classify our examples:\n",
    "\n",
    "* Each example has one variable, so we need 1 input node on the input layer\n",
    "* We're not going to use any hidden layer, as that would complicate the network \n",
    "* We have two categories, so the output of the network should be a single value between 0 and 1, which is the estimated probability $p$ for an example to belong to category 1. Then, the probability to belong to category 0 is simply $1-p$. Therefore, we should have a single output neuron, the only neuron in the network.\n",
    "\n",
    "It seems that the sigmoid function somehow has to be used in the output neuron. Indeed, it spits out a value between 0 and 1, and can be used as a classification probability as we have seen in the previous section.\n",
    "\n",
    "We can represent our network in the following way:\n",
    "\n",
    "![Neural network with 1 neuron](https://github.com/cbernet/maldives/raw/master/images/one_neuron.png)\n",
    "\n",
    "In the output neuron: \n",
    "\n",
    "* the first box performs a change of variable and computes the **weighted input** $z$ of the neuron\n",
    "* the second box applies the **activation function** to the weighted input. Here, we choose the sigmoid $\\sigma (z) = 1/(1+e^{-z})$ as an activation function\n",
    "\n",
    "This simple network has only 2 tunable parameters, the weight $w$ and the bias $b$, both used in the first box. We see in particular that when the bias is very large, the neuron will always be activated, whatever the input. On the contrary, for very negative biases, the neuron is dead. \n",
    "\n",
    "Actually, we realize that the network is simply a function of $x$, \n",
    "\n",
    "$$f(x) = \\sigma(z) = \\sigma(wx+b)$$\n",
    "\n",
    "Neural networks with no hidden layer and a sigmoid activation function in the neurons of the output layers are in fact used very often in machine learning problems, and this type of algorithm is called a **logistic regression**.\n",
    "\n",
    "In the next sections, we will use the logistic regression from scikit-learn to classify our examples, and then we'll repeat the exercise with the one-neuron neural network.\n",
    "\n",
    "But first, we need to build a single sample containing the examples of the two categories:"
   ]
  },
  {
   "cell_type": "code",
   "execution_count": 8,
   "metadata": {},
   "outputs": [],
   "source": [
    "# create a 1D array containing \n",
    "# the values of x1 and x2:\n",
    "x = np.concatenate((x0, x1))\n",
    "# turn x into a 2D array with 1 value per line\n",
    "# the first dimension indexes the examples, \n",
    "# and the second dimension contains the value\n",
    "# for each example:\n",
    "x = np.c_[x]\n",
    "# create a 1D array with the targets \n",
    "# for y1 and y2\n",
    "y = np.concatenate((y0, y1))"
   ]
  },
  {
   "cell_type": "markdown",
   "metadata": {},
   "source": [
    "## Logistic regression"
   ]
  },
  {
   "cell_type": "code",
   "execution_count": 9,
   "metadata": {},
   "outputs": [],
   "source": [
    "from sklearn.linear_model import LogisticRegression"
   ]
  },
  {
   "cell_type": "markdown",
   "metadata": {},
   "source": [
    "Let's train the logistic regression to the data"
   ]
  },
  {
   "cell_type": "code",
   "execution_count": 10,
   "metadata": {},
   "outputs": [],
   "source": [
    "clf = LogisticRegression(random_state=0, solver='lbfgs').fit(x,y)"
   ]
  },
  {
   "cell_type": "markdown",
   "metadata": {},
   "source": [
    "Now, we can predict the probability for an example to be in a given category. For $x=4$, we're very far into category 1, and the probability to belong to this category is estimated to be over 99.9%:"
   ]
  },
  {
   "cell_type": "code",
   "execution_count": 11,
   "metadata": {},
   "outputs": [
    {
     "data": {
      "text/plain": [
       "array([[8.82926139e-05, 9.99911707e-01]])"
      ]
     },
     "execution_count": 11,
     "metadata": {},
     "output_type": "execute_result"
    }
   ],
   "source": [
    "clf.predict_proba([[4]])"
   ]
  },
  {
   "cell_type": "markdown",
   "metadata": {},
   "source": [
    "Let's plot the predicted probability as a function of x, together with our samples. First, we need to create an array with 100 evenly spaced values of $x$, and convert this array to a 2D array with a single value of x on each line:"
   ]
  },
  {
   "cell_type": "code",
   "execution_count": 12,
   "metadata": {},
   "outputs": [],
   "source": [
    "linx = np.c_[np.linspace(-5, 5, 100)]"
   ]
  },
  {
   "cell_type": "markdown",
   "metadata": {},
   "source": [
    "The probabilities for all values of $x$ are"
   ]
  },
  {
   "cell_type": "code",
   "execution_count": 13,
   "metadata": {},
   "outputs": [],
   "source": [
    "# takes an array of examples, \n",
    "# so a 2D array if each example has only 1 value\n",
    "prob = clf.predict_proba(linx)\n",
    "# take the second probability \n",
    "# (to be in category 1) for each example\n",
    "# and reshape it to a 1D array of size 100\n",
    "prob = prob[:,1].reshape(len(linx))"
   ]
  },
  {
   "cell_type": "markdown",
   "metadata": {},
   "source": [
    "💡 **The operations above might not look very clear to you. If that's the case, please note that you can always print an array or its shape to see what it looks like. I do that very often!**"
   ]
  },
  {
   "cell_type": "markdown",
   "metadata": {},
   "source": [
    "And plot the probability vs x:"
   ]
  },
  {
   "cell_type": "code",
   "execution_count": 19,
   "metadata": {},
   "outputs": [
    {
     "data": {
      "text/plain": [
       "<matplotlib.collections.PathCollection at 0x1a1f904e50>"
      ]
     },
     "execution_count": 19,
     "metadata": {},
     "output_type": "execute_result"
    },
    {
     "data": {
      "image/png": "[encoded data removed]",
      "text/plain": [
       "<Figure size 432x288 with 1 Axes>"
      ]
     },
     "metadata": {
      "needs_background": "light"
     },
     "output_type": "display_data"
    }
   ],
   "source": [
    "# both linx and prob must be 1D\n",
    "plt.plot(linx, prob, color='red')\n",
    "plt.scatter(x0, y0)\n",
    "plt.scatter(x1, y1)"
   ]
  },
  {
   "cell_type": "markdown",
   "metadata": {},
   "source": [
    "It seems that the logistic regression was optimized correctly. "
   ]
  },
  {
   "cell_type": "markdown",
   "metadata": {},
   "source": [
    "## One-neuron neural network\n",
    "\n",
    "We're now going to redo the same exercise with the neural network classifier of scikit-learn. We use:\n",
    "\n",
    "* no hidden layer\n",
    "* a sigmoid (also called logistic) activation\n",
    "\n",
    "scikit-learn will find out that we have a single input variable per example, and that we want to do **binary classification** (to classify in two categories). Therefore, it will create the neural network automatically with one neuron in the input layer and one neuron in the output layer. "
   ]
  },
  {
   "cell_type": "code",
   "execution_count": 15,
   "metadata": {},
   "outputs": [
    {
     "data": {
      "text/plain": [
       "MLPClassifier(activation='logistic', alpha=0.001, batch_size='auto',\n",
       "       beta_1=0.9, beta_2=0.999, early_stopping=False, epsilon=1e-08,\n",
       "       hidden_layer_sizes=(), learning_rate='constant',\n",
       "       learning_rate_init=0.001, max_iter=200, momentum=0.9,\n",
       "       n_iter_no_change=10, nesterovs_momentum=True, power_t=0.5,\n",
       "       random_state=1, shuffle=True, solver='lbfgs', tol=0.0001,\n",
       "       validation_fraction=0.1, verbose=False, warm_start=False)"
      ]
     },
     "execution_count": 15,
     "metadata": {},
     "output_type": "execute_result"
    }
   ],
   "source": [
    "from sklearn.neural_network import MLPClassifier\n",
    "\n",
    "mlp = MLPClassifier(hidden_layer_sizes=(), \n",
    "                    alpha = 0.001,\n",
    "                    activation='logistic', \n",
    "                    solver='lbfgs', random_state=1)\n",
    "\n",
    "mlp.fit(x,y)"
   ]
  },
  {
   "cell_type": "code",
   "execution_count": 20,
   "metadata": {},
   "outputs": [
    {
     "data": {
      "text/plain": [
       "<matplotlib.legend.Legend at 0x1a1fb46090>"
      ]
     },
     "execution_count": 20,
     "metadata": {},
     "output_type": "execute_result"
    },
    {
     "data": {
      "image/png": "[encoded data removed]",
      "text/plain": [
       "<Figure size 432x288 with 1 Axes>"
      ]
     },
     "metadata": {
      "needs_background": "light"
     },
     "output_type": "display_data"
    }
   ],
   "source": [
    "prob_mlp = mlp.predict_proba(linx)\n",
    "# take the second probability \n",
    "# (to be in category 1) for each example\n",
    "# and reshape it to a 1D array of size 100\n",
    "prob_mlp = prob_mlp[:,1].reshape(len(linx))\n",
    "plt.plot(linx, prob, color='red', label='regression')\n",
    "plt.plot(linx, prob_mlp, color='blue', label='MLP')\n",
    "plt.scatter(x0, y0)\n",
    "plt.scatter(x1, y1)\n",
    "plt.legend()"
   ]
  },
  {
   "cell_type": "markdown",
   "metadata": {},
   "source": [
    "As expected, the results are very similar. The differences are certainly due to some of the operations performed under the hood by the MLPClassifier. \n",
    "\n",
    "Honestly I don't know what's going on in there and I don't want to dig inside.\n",
    "Indeed, the [MLPClassifier interface](https://scikit-learn.org/stable/modules/generated/sklearn.neural_network.MLPClassifier.html) is too opaque to my taste, and we will mostly use [keras](https://thedatafrog.com/neural-network-keras/) to work with neural networks anyway. "
   ]
  },
  {
   "cell_type": "markdown",
   "metadata": {},
   "source": [
    "## What's next? \n",
    "\n",
    "In this post you have learnt: \n",
    "\n",
    "* what's inside a neuron, and in particular what is the sigmoid activation function;\n",
    "* that the sigmoid activation is a natural choice for the neurons in the last layer of neural network dedicated to classification;\n",
    "* that a neural network is nothing more than a function of its inputs;\n",
    "* that neural networks with a single neuron do work, and are equivalent to a logistic regression.\n",
    "\n",
    "Next time, we'll do the same exercise in 2D. We'll talk about the linearity of classification problems, and of the need to introduce non-linearities with hidden layers in some cases. "
   ]
  },
  {
   "cell_type": "code",
   "execution_count": null,
   "metadata": {},
   "outputs": [],
   "source": []
  }
 ],
 "metadata": {
  "kernelspec": {
   "display_name": "Python 2",
   "language": "python",
   "name": "python2"
  },
  "language_info": {
   "codemirror_mode": {
    "name": "ipython",
    "version": 2
   },
   "file_extension": ".py",
   "mimetype": "text/x-python",
   "name": "python",
   "nbconvert_exporter": "python",
   "pygments_lexer": "ipython2",
   "version": "2.7.15"
  }
 },
 "nbformat": 4,
 "nbformat_minor": 2
}
