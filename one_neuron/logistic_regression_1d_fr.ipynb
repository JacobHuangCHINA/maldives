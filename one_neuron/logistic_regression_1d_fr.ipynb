{
 "cells": [
  {
   "cell_type": "markdown",
   "metadata": {},
   "source": [
    "## Introduction\n",
    "\n",
    "Nous avons déjà utilisé des réseaux de neurones, avec [scikit-learn](https://thedatafrog.com/fr/reconnaissance-decriture-manuscrite-scikit-learn/) et [keras](https://thedatafrog.com/fr/premier-reseau-neurones-keras//). \n",
    "\n",
    "Pour l'instant, nous les avons traités comme des boîtes noires. \n",
    "\n",
    "Nous ne pouvons pas nous contenter de ça, car il est nécessaire de comprendre comment les réseaux de neurones fonctionnent avant de pouvoir les utiliser efficacement. \n",
    "\n",
    "Aujourd'hui, nous allons donc ouvrir la boîte, et disséquer un neurone.  \n",
    "\n",
    "Pour ne pas trop compliquer les choses, nous utiliserons un réseau de neurones extrêmement simple, contenant un seul neurone. \n",
    "\n",
    "On peut s'imaginer qu'un tel \"cerveau\" doit être assez limité intellectuellement. Mais en fait, ce type de réseau correspond à un algorithme très utilisé en machine learning, **la régression logistique**.  \n",
    "\n",
    "Dans cet article, vous apprendrez: \n",
    "\n",
    "* ce qu'il y a à l'intérieur d'un neurone, et en particulier ce qu'est la **fonction d'activation sigmoïde**;\n",
    "* qu'un réseau de neurones n'est en fait qu'une fonction de ses variables d'entrée;\n",
    "* qu'un seul neurone peut déjà être suffisant, et est équivalent à une régression logistique. \n",
    "\n",
    "**Pré-requis :**\n",
    "\n",
    "Vous devriez déjà savoir ce que sont: \n",
    "\n",
    "* une fonction,\n",
    "* une [exponentielle](https://fr.wikipedia.org/wiki/Fonction_exponentielle). \n",
    "\n",
    "Du point de vue technique, vous devez: \n",
    "\n",
    "* [installer Anaconda](https://thedatafrog.com/install-anaconda-data-science-python/), si ce n'est pas déjà fait.\n",
    "* connaître un peu numpy, matplotlib, et scikit-learn. Pour une introduction, vous pouvez suivre [ce tuto]([scikit-learn](https://thedatafrog.com/fr/reconnaissance-decriture-manuscrite-scikit-learn/).\n",
    "\n",
    "Comme d'habitude, on commence par télécharger et ouvrir ce notebook: \n",
    "\n",
    "* [téléchargez le dépôt contenant le notebook](https://github.com/cbernet/maldives/archive/master.zip)\n",
    "* décompressez-le, par exemple vers `Downloads/maldives-master`\n",
    "* lancez jupyter notebook depuis l'Anaconda Navigator\n",
    "* dans votre navigateur, naviguez vers `Downloads/maldives-master/one_neuron`\n",
    "* ouvrez `logistic_regression_1d_fr.ipynb`\n",
    "\n",
    "À l'intérieur du notebook, importez les packages nécessaires: "
   ]
  },
  {
   "cell_type": "code",
   "execution_count": 1,
   "metadata": {
    "scrolled": true
   },
   "outputs": [],
   "source": [
    "import numpy as np"
   ]
  },
  {
   "cell_type": "code",
   "execution_count": 2,
   "metadata": {},
   "outputs": [],
   "source": [
    "import matplotlib.pyplot as plt\n",
    "%matplotlib inline"
   ]
  },
  {
   "cell_type": "markdown",
   "metadata": {},
   "source": [
    "## Création de l'échantillon de données\n",
    "\n",
    "Plutôt que d'importer un échantillon existant, créons-le nous-mêmes. \n",
    "\n",
    "L'échantillon contiendra un certain nombre d'exemples comportant chacun une variable $x$, et appartenant soit à la catégorie 0, soit à la catégorie 1.\n",
    "\n",
    "Pour chaque catégorie, les exemples seront distribués suivant une **fonction de densité de probabilité (pdf) Gaussienne**, qu'on appelle aussi la fonction de densité de probabilité **normale**. \n",
    "\n",
    "Cette fonction ressemble à ça: "
   ]
  },
  {
   "cell_type": "code",
   "execution_count": 3,
   "metadata": {},
   "outputs": [
    {
     "data": {
      "text/plain": [
       "Text(0,0.5,'pdf')"
      ]
     },
     "execution_count": 3,
     "metadata": {},
     "output_type": "execute_result"
    },
    {
     "data": {
      "image/png": "[encoded data removed]",
      "text/plain": [
       "<Figure size 432x288 with 1 Axes>"
      ]
     },
     "metadata": {
      "needs_background": "light"
     },
     "output_type": "display_data"
    }
   ],
   "source": [
    "from scipy.stats import norm\n",
    "x = np.linspace(-3,3, 100)\n",
    "# on choisit 0 comme moyenne de la Gaussienne.\n",
    "# (la Gaussienne est centrée sur 0)\n",
    "# et 1 pour sa largeur, appelée sigma\n",
    "plt.plot(x, norm.pdf(x, 0., 1.))\n",
    "plt.xlabel('x'); plt.ylabel('pdf')"
   ]
  },
  {
   "cell_type": "markdown",
   "metadata": {},
   "source": [
    "Dans cet exemple, $x$ est une **variable aléatoire** distribuée suivant cette pdf Gaussienne. Cela signifie que lorsque l'on tire au hasard une valeur de $x$, l'aire sous la courbe pour un certain intervalle en $x$ nous donne la probabilité que cette valeur tombe dans l'intervalle. \n",
    "\n",
    "Par conséquent, la surface totale sous la fonction (son intégrale) entre moins l'infini et plus l'infini est égale à 1. \n",
    "\n",
    "Nous pouvons voir que les valeur tirées aléatoirement pour $x$ auront une probabilité importante de tomber autour de 0. "
   ]
  },
  {
   "cell_type": "markdown",
   "metadata": {},
   "source": [
    "Pour la catégorie 0, nous choisissons une pdf Gaussienne centrée sur -1.5 avec sigma=1. Pour la catégorie 1, on centre la Gaussienne sur 1.5. Dans chaque catégorie, on construit 100 exemples en tirant aléatoirement 100 valeurs:"
   ]
  },
  {
   "cell_type": "code",
   "execution_count": 4,
   "metadata": {},
   "outputs": [],
   "source": [
    "normal = np.random.normal\n",
    "sigma = 1\n",
    "x0 = normal(-1.5, sigma, 100)\n",
    "x1 = normal(1.5, sigma, 100)\n",
    "# étiquettes: \n",
    "y0 = np.zeros_like(x0)\n",
    "y1 = np.ones_like(x1)"
   ]
  },
  {
   "cell_type": "markdown",
   "metadata": {},
   "source": [
    "Ces deux échantillons peuvent être visualisés en traçant pour chaque exemple la catégorie en fonction de $x$"
   ]
  },
  {
   "cell_type": "code",
   "execution_count": 5,
   "metadata": {},
   "outputs": [
    {
     "data": {
      "text/plain": [
       "Text(0,0.5,'category')"
      ]
     },
     "execution_count": 5,
     "metadata": {},
     "output_type": "execute_result"
    },
    {
     "data": {
      "image/png": "[encoded data removed]",
      "text/plain": [
       "<Figure size 432x288 with 1 Axes>"
      ]
     },
     "metadata": {
      "needs_background": "light"
     },
     "output_type": "display_data"
    }
   ],
   "source": [
    "plt.xlim(-5,5)\n",
    "plt.plot(x0, y0,'o')\n",
    "plt.plot(x1, y1,'o')\n",
    "plt.xlabel('x')\n",
    "plt.ylabel('category')"
   ]
  },
  {
   "cell_type": "markdown",
   "metadata": {},
   "source": [
    "Et nous pouvons aussi utiliser des histogrammes. Pour chaque catégorie, l'histogramme a 50 canaux, qui comptent le nombre d'exemples avec une valeur tombant dans le canal:"
   ]
  },
  {
   "cell_type": "code",
   "execution_count": 6,
   "metadata": {},
   "outputs": [
    {
     "data": {
      "text/plain": [
       "Text(0,0.5,'counts')"
      ]
     },
     "execution_count": 6,
     "metadata": {},
     "output_type": "execute_result"
    },
    {
     "data": {
      "image/png": "[encoded data removed]",
      "text/plain": [
       "<Figure size 432x288 with 1 Axes>"
      ]
     },
     "metadata": {
      "needs_background": "light"
     },
     "output_type": "display_data"
    }
   ],
   "source": [
    "# plt.hist(sample1,bins=50, range=(-5,5))\n",
    "plt.clf()\n",
    "plt.xlim(-5,5)\n",
    "plt.hist(x0,bins=50, range=(-5,5), alpha=0.5)\n",
    "plt.hist(x1,bins=50, range=(-5,5), alpha=0.5)\n",
    "plt.xlabel('x')\n",
    "plt.ylabel('counts')"
   ]
  },
  {
   "cell_type": "markdown",
   "metadata": {},
   "source": [
    "Ces deux échantillons semblent en effet suivre les pdf normales que nous avons choisies. Avec un plus grand nombre d'exemples dans chaque catégorie, chacun des deux histogrammes se rapprocherait de la pdf sous-jacente. \n",
    "\n",
    "À l'oeil, on voit que les deux échantillons peuvent être classés en fixant une barrière de séparation à $x=0$. On classera un exemple inconnu de valeur $x$ dans la catégorie 1 si $x>0$, et sinon dans la catégorie 0. \n",
    "\n",
    "Nous allons maintenant voir comment un réseau de neurones tout simple peut trouver la position de cette barrière de séparation pour nous. \n",
    "\n",
    "Mais avant cela, il nous faut parler de la fonction sigmoïde. "
   ]
  },
  {
   "cell_type": "markdown",
   "metadata": {},
   "source": [
    "## La sigmoïde \n",
    "\n",
    "La **sigmoïde**, aussi appelée **fonction logistique**, est essentielle dans les problèmes de classement binaires. À une dimension, elle s'exprime comme"
   ]
  },
  {
   "cell_type": "markdown",
   "metadata": {},
   "source": [
    "$$\\sigma(z) = \\frac{1}{1+e^{-z}}$$\n",
    "\n",
    "et voici à quoi elle ressemble, en compagnie de nos échantillons: "
   ]
  },
  {
   "cell_type": "code",
   "execution_count": 7,
   "metadata": {},
   "outputs": [
    {
     "data": {
      "text/plain": [
       "Text(0,0.5,'$\\\\sigma(z)$')"
      ]
     },
     "execution_count": 7,
     "metadata": {},
     "output_type": "execute_result"
    },
    {
     "data": {
      "image/png": "[encoded data removed]",
      "text/plain": [
       "<Figure size 432x288 with 1 Axes>"
      ]
     },
     "metadata": {
      "needs_background": "light"
     },
     "output_type": "display_data"
    }
   ],
   "source": [
    "# définition des paramètres\n",
    "b = 0\n",
    "w = 1\n",
    "\n",
    "def sigmoid(x1):\n",
    "    # z est une fonction linéaire de x1\n",
    "    z = w*x1 + b\n",
    "    return 1 / (1+np.exp(-z))\n",
    "\n",
    "# tableau contenant des valeurs de x espacées \n",
    "# régulièrement entre -5 et 5\n",
    "linx = np.linspace(-5,5,51)\n",
    "plt.plot(x0, np.zeros_like(x0),'o')\n",
    "plt.plot(x1, np.ones_like(x1),'o')\n",
    "plt.plot(linx, sigmoid(linx), color='red')\n",
    "plt.xlabel('z')\n",
    "plt.ylabel(r'$\\sigma(z)$')"
   ]
  },
  {
   "cell_type": "markdown",
   "metadata": {},
   "source": [
    "Voyons ça plus en détails: \n",
    "\n",
    "* lorsque $z$ tend vers l'infini, $e^{-z}$ tend vers 0, et $\\sigma (z)$ tend vers 1.\n",
    "* lorsque $z$ tend vers moins l'infini, $e^{-z}$ tend vers l'infini, et $\\sigma (z)$ tend vers 0.\n",
    "* $\\sigma(0) = 0.5$ car $e^0=1$.\n",
    "\n",
    "Il est important de noter que la sigmoïde est bornée entre 0 et 1, comme une probabilité. Et en fait, dans les problèmes de classement binaires, la probabilité qu'un exemple appartienne à une catégorie donnée est produite par une sigmoïde. Pour classer nos exemples, nous pouvons simplement utiliser la sortie de la sigmoïde: un exemple donné de valeur $x$ sera classé dans la catégorie 1 si $\\sigma(z) > 0.5$, et dans la catégorie 0 dans le cas contraire. \n",
    "\n",
    "Maintenant, vous pouvez revenir à la cellule de code ci-dessus, et jouer un peu avec les paramètres `b` et `w`, en refaisant le graphique chaque fois que vous changez l'un des paramètres. \n",
    "\n",
    "* $b$ est le **biais**. Changer le biais déplace simplement la sigmoïde le long de l'axe horizontal. Par exemple, si vous choisissez $b=1$ et $w=1$, alors $z = wx + b = 0$ à $x=-1$, et c'est là que la sigmoïde prendra la valeur 0.5. \n",
    "* $w$ est le **poids** de la variable $x$. Si vous l'augmentez, la sigmoïde évoluera plus rapidement en fonction de $x$, et deviendra plus abrupte.  \n",
    "\n",
    "Pour que la classification marche bien avec nos échantillons, on voit que le biais $b$ doit être égal à 0, et que le poids $w$ n'a aucune importance. Cela ne sera pas le cas en général. "
   ]
  },
  {
   "cell_type": "markdown",
   "metadata": {},
   "source": [
    "## Le réseau de neurones le plus simple au monde"
   ]
  },
  {
   "cell_type": "markdown",
   "metadata": {},
   "source": [
    "Nous allons construire le réseau de neurones le plus simple possible pour classifier nos exemples. \n",
    "\n",
    "* Chaque exemple a une seule variable, donc nous avons besoin d'un seul noeud sur la couche d'entrée\n",
    "* Nous n'allons pas utiliser de couche cachée, car cela compliquerait inutilement le réseau\n",
    "* Il y a deux catégories, et la sortie du réseau doit donc être une seule valeur entre 0 et 1, qui sera la probabilité $p$ pour un exemple d'appartenir à la catégorie 1. Et donc, la probabilité d'appartenir à la catégorie 0 est simplement $1-p$. Par conséquent, il nous faut un seul neurone de sortie, le seul neurone de notre réseau. \n",
    "\n",
    "La sigmoïde nous sera utile. En effet, elle donne une valeur entre 0 et 1 qui peut être utilisée comme probabilité de classification, comme nous l'avons vu précédemment. \n",
    "\n",
    "Nous pouvons représenter notre réseau de la façon suivante: \n",
    "\n",
    "![Neural network with 1 neuron](https://github.com/cbernet/maldives/raw/master/images/one_neuron.png)\n",
    "\n",
    "Dans le neurone de sortie: \n",
    "\n",
    "* la première boîte effectue juste un changement de variable, et calcule **l'entrée pondérée** $z$ du neurone. \n",
    "* la deuxième boîte applique la **fonction d'activation** à l'entrée pondérée. Ici, nous choisissons la sigmoïde $\\sigma (z) = 1/(1+e^{-z})$ comme fonction d'activation. \n",
    "\n",
    "Ce réseau simple a seulement 2 paramètres réglables, le poids $w$ et le biais $b$, tous deux utilisés dans la première boîte. Nous voyons en particulier que lorsque le biais est grand, le neurone sera toujours activé, quelque soit $x$. Au contraire, pour des biais très négatifs, le neurone est mort. \n",
    "\n",
    "Il est intéressant de réaliser que ce réseau est une simple fonction de $x$,  \n",
    "\n",
    "$$f(x) = \\sigma(z) = \\sigma(wx+b)$$\n",
    "\n",
    "Les réseaux de neurones avec aucune couche cachée et une fonction d'activation sigmoïde dans les neurones de sortie sont en fait utilisés très fréquemment dans les problèmes de classement, sous le nom de **régression logistique**. \n",
    "\n",
    "Dans les prochaines sections, nous allons d'abord utiliser la régression logistique de scikit-learn pour classer nos exemples, et nous répéterons l'exercice avec le réseau à un neurone.\n",
    "\n",
    "Mais d'abord, nous devons construire un seul échantillon contenant les exemples des deux catégories: "
   ]
  },
  {
   "cell_type": "code",
   "execution_count": 17,
   "metadata": {},
   "outputs": [],
   "source": [
    "# création d'un tableau 1D contenant\n",
    "# les examples de x0 et x1\n",
    "x = np.concatenate((x0, x1))\n",
    "# x est un tableau 1D.\n",
    "# on le transforme en un tableau 2D avec une valeur par ligne.\n",
    "# la première dimension indexe les exemples\n",
    "# la deuxième contient la valeur pour chaque exemple. \n",
    "x = np.c_[x]\n",
    "# création d'un tableau 1D avec les étiquettes \n",
    "# y0 et y1\n",
    "y = np.concatenate((y0, y1))"
   ]
  },
  {
   "cell_type": "markdown",
   "metadata": {},
   "source": [
    "## La régression logistique"
   ]
  },
  {
   "cell_type": "code",
   "execution_count": 9,
   "metadata": {},
   "outputs": [],
   "source": [
    "from sklearn.linear_model import LogisticRegression"
   ]
  },
  {
   "cell_type": "markdown",
   "metadata": {},
   "source": [
    "Entraînons la régression logistique sur les données:"
   ]
  },
  {
   "cell_type": "code",
   "execution_count": 10,
   "metadata": {},
   "outputs": [],
   "source": [
    "clf = LogisticRegression(random_state=0, solver='lbfgs').fit(x,y)"
   ]
  },
  {
   "cell_type": "markdown",
   "metadata": {},
   "source": [
    "Maintenant, nous pouvons prédire la probabilité pour un exemple d'appartenir à une catégorie. Pour $x=4$, nous sommes très loin dans la catégorie 1, et la régression estime la probabilité pour cette catégorie à plus de 99.9%:"
   ]
  },
  {
   "cell_type": "code",
   "execution_count": 18,
   "metadata": {},
   "outputs": [
    {
     "data": {
      "text/plain": [
       "array([[9.95607890e-05, 9.99900439e-01]])"
      ]
     },
     "execution_count": 18,
     "metadata": {},
     "output_type": "execute_result"
    }
   ],
   "source": [
    "clf.predict_proba([[4]])"
   ]
  },
  {
   "cell_type": "markdown",
   "metadata": {},
   "source": [
    "Traçons maintenant la probabilité prédite en fonction de $x$, ainsi que nos échantillons. D'abord, nous devons créer un tableau avec 100 valeurs de $x$ espacées régulièrement, et le convertir en tableau 2D avec une valeur de $x$ sur chaque ligne."
   ]
  },
  {
   "cell_type": "code",
   "execution_count": 19,
   "metadata": {},
   "outputs": [],
   "source": [
    "linx = np.c_[np.linspace(-5, 5, 100)]"
   ]
  },
  {
   "cell_type": "markdown",
   "metadata": {},
   "source": [
    "Les probabilités pour chaque valeur de $x$ sont: "
   ]
  },
  {
   "cell_type": "code",
   "execution_count": 20,
   "metadata": {},
   "outputs": [],
   "source": [
    "# predict_proba prend un tableau d'exemples, \n",
    "# c'est à dire un tableau 2D\n",
    "prob = clf.predict_proba(linx)\n",
    "# extraction de la deuxième probabilité\n",
    "# (pour la catégorie 1), pour chaque exemple\n",
    "# nous obtenons un tableau 2D \n",
    "# et le transformons en tableau 1D de taille 100:\n",
    "prob = prob[:,1].reshape(len(linx))"
   ]
  },
  {
   "cell_type": "markdown",
   "metadata": {},
   "source": [
    "💡 **Les opérations ci-dessus peuvent ne pas vous sembler très claires. Si c'est le case, vous pouvez toujours imprimer un tableau ou sa forme (prob.shape) pour voir à quoi il ressemble. Je fais ça très régulièrement!** "
   ]
  },
  {
   "cell_type": "markdown",
   "metadata": {},
   "source": [
    "Finalement, on peut tracer la probabilité en fonction de $x$"
   ]
  },
  {
   "cell_type": "code",
   "execution_count": 21,
   "metadata": {},
   "outputs": [
    {
     "data": {
      "text/plain": [
       "Text(0,0.5,'category probability')"
      ]
     },
     "execution_count": 21,
     "metadata": {},
     "output_type": "execute_result"
    },
    {
     "data": {
      "image/png": "[encoded data removed]",
      "text/plain": [
       "<Figure size 432x288 with 1 Axes>"
      ]
     },
     "metadata": {
      "needs_background": "light"
     },
     "output_type": "display_data"
    }
   ],
   "source": [
    "# both linx and prob must be 1D\n",
    "plt.plot(linx, prob, color='red')\n",
    "plt.scatter(x0, y0)\n",
    "plt.scatter(x1, y1)\n",
    "plt.xlabel('x')\n",
    "plt.ylabel('category probability')"
   ]
  },
  {
   "cell_type": "markdown",
   "metadata": {},
   "source": [
    "On voit que la sortie de la régression est en effet une sigmoïde. \n",
    "Le biais est proche de zéro, et il semble que le classement marchera bien. "
   ]
  },
  {
   "cell_type": "markdown",
   "metadata": {},
   "source": [
    "## Le réseau à un neurone\n",
    "\n",
    "Nous allons maintenant refaire le même exercice avec le réseau de neurones de classification de scikit-learn et: \n",
    "\n",
    "* aucune couche cachée\n",
    "* une sigmoïde (ou fonction logistique) comme fonction d'activation. \n",
    "\n",
    "scikit-learn se rendra compte par lui-même que nous n'avons qu'une seule variable pour chaque exemple, et que nous voulons faire une **classification binaire** (en deux catégories). Il créera alors automatiquement le réseau avec un seul noeud sur la couche d'entrée et un seul neurone sur la couche de sortie. "
   ]
  },
  {
   "cell_type": "code",
   "execution_count": 22,
   "metadata": {},
   "outputs": [
    {
     "data": {
      "text/plain": [
       "MLPClassifier(activation='logistic', alpha=0.001, batch_size='auto',\n",
       "       beta_1=0.9, beta_2=0.999, early_stopping=False, epsilon=1e-08,\n",
       "       hidden_layer_sizes=(), learning_rate='constant',\n",
       "       learning_rate_init=0.001, max_iter=200, momentum=0.9,\n",
       "       n_iter_no_change=10, nesterovs_momentum=True, power_t=0.5,\n",
       "       random_state=1, shuffle=True, solver='lbfgs', tol=0.0001,\n",
       "       validation_fraction=0.1, verbose=False, warm_start=False)"
      ]
     },
     "execution_count": 22,
     "metadata": {},
     "output_type": "execute_result"
    }
   ],
   "source": [
    "from sklearn.neural_network import MLPClassifier\n",
    "\n",
    "mlp = MLPClassifier(hidden_layer_sizes=(), \n",
    "                    alpha = 0.001,\n",
    "                    activation='logistic', \n",
    "                    solver='lbfgs', random_state=1)\n",
    "\n",
    "mlp.fit(x,y)"
   ]
  },
  {
   "cell_type": "code",
   "execution_count": 23,
   "metadata": {},
   "outputs": [
    {
     "data": {
      "text/plain": [
       "Text(0,0.5,'category probability')"
      ]
     },
     "execution_count": 23,
     "metadata": {},
     "output_type": "execute_result"
    },
    {
     "data": {
      "image/png": "[encoded data removed]",
      "text/plain": [
       "<Figure size 432x288 with 1 Axes>"
      ]
     },
     "metadata": {
      "needs_background": "light"
     },
     "output_type": "display_data"
    }
   ],
   "source": [
    "prob_mlp = mlp.predict_proba(linx)\n",
    "# take the second probability \n",
    "# (to be in category 1) for each example\n",
    "# and reshape it to a 1D array of size 100\n",
    "prob_mlp = prob_mlp[:,1].reshape(len(linx))\n",
    "plt.plot(linx, prob, color='red', label='regression')\n",
    "plt.plot(linx, prob_mlp, color='blue', label='MLP')\n",
    "plt.scatter(x0, y0)\n",
    "plt.scatter(x1, y1)\n",
    "plt.legend()\n",
    "plt.xlabel('x')\n",
    "plt.ylabel('category probability')"
   ]
  },
  {
   "cell_type": "markdown",
   "metadata": {},
   "source": [
    "Comme prévu, les résultats sont très similaires à ceux de la régression logistique. Les différences sont probablement dues aux opérations effectuées en interne par le MLPClassifier. \n",
    "\n",
    "Pour être franc, je ne sais pas trop ce qui se passe là-dedans et je n'ai aucune intention de creuser le sujet. \n",
    "En effet, le [MLPClassifier](https://scikit-learn.org/stable/modules/generated/sklearn.neural_network.MLPClassifier.html) est trop opaque à mon goût, et nous utiliserons de toutes façons principalement [keras](https://thedatafrog.com/neural-network-keras/) pour travailler avec les réseaux de neurones. \n"
   ]
  },
  {
   "cell_type": "markdown",
   "metadata": {},
   "source": [
    "## Et ensuite? \n",
    "\n",
    "Dans cet article, vous avez appris: \n",
    "\n",
    "* ce qu'il y a dans un neurone, et en particulier ce qu'est la fonction d'activation sigmoïde;\n",
    "* que la sigmoïde est un choix naturel pour les neurones de la dernière couche d'un réseau dédié au classement binaire;\n",
    "* qu'un réseau de neurones n'est rien de plus qu'une fonction de ses variables d'entrées; \n",
    "* qu'un seul neurone peut tout à fait suffire, et est équivalent à une régression logistique.\n",
    "\n",
    "La prochaine fois, nous referons cet exercice en 2D. Nous parlerons de la linéarité des problèmes de classification, et de la nécessité d'introduire dans certains cas une non-linéarité grâce aux couches cachées. \n"
   ]
  },
  {
   "cell_type": "code",
   "execution_count": null,
   "metadata": {},
   "outputs": [],
   "source": []
  }
 ],
 "metadata": {
  "kernelspec": {
   "display_name": "Python 2",
   "language": "python",
   "name": "python2"
  },
  "language_info": {
   "codemirror_mode": {
    "name": "ipython",
    "version": 2
   },
   "file_extension": ".py",
   "mimetype": "text/x-python",
   "name": "python",
   "nbconvert_exporter": "python",
   "pygments_lexer": "ipython2",
   "version": "2.7.15"
  }
 },
 "nbformat": 4,
 "nbformat_minor": 2
}
