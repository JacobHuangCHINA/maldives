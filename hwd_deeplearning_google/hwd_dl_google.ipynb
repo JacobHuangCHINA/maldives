{
 "cells": [
  {
   "cell_type": "markdown",
   "metadata": {
    "colab_type": "text",
    "id": "SRvDywmJtVds"
   },
   "source": [
    "## About this tutorial \n",
    "\n",
    "To do deep learning in practice, you need a Graphics Processing Unit (GPU). Or the time needed to train your deep neural nets on the CPU of your machine will be prohibitive.\n",
    "\n",
    "We have seen how to [install TensorFlow on Windows](https://thedatafrog.com/install-tensorflow-windows/) and [on Linux](https://thedatafrog.com/install-tensorflow-ubuntu/), which is useful if you have an nvidia graphics card in your PC. \n",
    "\n",
    "But what if you don't? \n",
    "\n",
    "If you just want to learn deep learning, there is a very easy solution that requires **no specific hardware or software**, the Colaboratory platform from Google.\n",
    "\n",
    "Let's try and use it for the first time. \n",
    "\n",
    "In this tutorial, you will learn: \n",
    "\n",
    "* What is the google colaboratory platform and how to use it. \n",
    "* How to set up a first convolutional neural network to recognize handwritten digits with very high accuracy \n",
    "\n",
    "**Prerequisites**\n",
    "\n",
    "* Please have a look at [my first tutorial on handwritten digits](https://thedatafrog.com/handwritten-digit-recognition-scikit-learn/). This will show you which kind of performance we can get without deep learning, and will teach you the basics of numpy, matplotlib, and neural networks. \n",
    "* You should know a bit of [Keras](https://thedatafrog.com/first-neural-network-keras/)\n",
    "\n",
    "\n",
    "## The Google Colaboratory Platorm\n",
    "\n",
    "Google set up the [Colaboratory Platform](https://colab.research.google.com/notebooks/welcome.ipynb) to promote the use of TensorFlow for deep learning, and it's awesome! \n",
    "\n",
    "It provides: \n",
    "\n",
    "* python environments with all the necessary software, and you can install more if needed\n",
    "* access to GPUs\n",
    "* excellent tutorials\n",
    "* the possibility to run your own code (and my stuff!)\n",
    "\n",
    "In particular, the author of Keras and google engineer François Chollet set up extremely useful tutorials in which Keras is used as an interface to TensorFlow, such as [this one](https://colab.research.google.com/github/tensorflow/tpu/blob/master/tools/colab/fashion_mnist.ipynb) where we learn how to classify clothing items (trousers, shoes, and whatnot). \n",
    "\n",
    "I do encourage you to dig into the google colab tutorials on your own! I would only advise you to stick to the keras-based tutorials which are much easier. \n",
    "\n",
    "On my side, I intend to use this tool to provide you with original content, and more details about the subjects already covered by google. \n",
    "\n",
    "💡 **To run your jupyter notebook on google colab, you just need to commit it to github, and to provide a specific url to direct google colab to the notebook.**\n",
    "\n",
    "The url of this tutorial on github is https://github.com/cbernet/maldives/blob/master/hwd_deeplearning_google/hwd_dl_google.ipynb\n",
    "\n",
    "The url to run it on google colab is https://colab.research.google.com/github/cbernet/maldives/blob/master/hwd_deeplearning_google/hwd_dl_google.ipynb\n",
    "\n",
    "Just follow this link now, and click on CONNECT on the top right side. \n"
   ]
  },
  {
   "cell_type": "markdown",
   "metadata": {
    "colab_type": "text",
    "id": "9mw3fUDitVdy"
   },
   "source": [
    "## The Dataset\n",
    "\n",
    "In [my first tutorial on handwritten digits](https://thedatafrog.com/handwritten-digit-recognition-scikit-learn/), we have used the simplify digits dataset provided with scikit-learn for simplicity, and because we didn't have the resources to process the [real MNIST handrwitten digits dataset](http://yann.lecun.com/exdb/mnist/) at that time. \n",
    "\n",
    "Here, we have access to TensorFlow, which provides an easy access to this dataset"
   ]
  },
  {
   "cell_type": "code",
   "execution_count": 1,
   "metadata": {
    "colab": {
     "base_uri": "https://localhost:8080/",
     "height": 69
    },
    "colab_type": "code",
    "executionInfo": {
     "elapsed": 1914,
     "status": "ok",
     "timestamp": 1549723876909,
     "user": {
      "displayName": "Colin Bernet",
      "photoUrl": "https://lh5.googleusercontent.com/-PT0Y40VvMq0/AAAAAAAAAAI/AAAAAAAAFEI/VsJO93FEElA/s64/photo.jpg",
      "userId": "10813031011844134122"
     },
     "user_tz": -60
    },
    "id": "jFKEynAytVd2",
    "outputId": "d10957c8-95be-4708-dd83-bdf0ea7436ee"
   },
   "outputs": [
    {
     "name": "stdout",
     "output_type": "stream",
     "text": [
      "Downloading data from https://storage.googleapis.com/tensorflow/tf-keras-datasets/mnist.npz\n",
      "11493376/11490434 [==============================] - 0s 0us/step\n",
      "11501568/11490434 [==============================] - 0s 0us/step\n"
     ]
    }
   ],
   "source": [
    "import tensorflow as tf\n",
    "(x_train, y_train), (x_test, y_test) = tf.keras.datasets.mnist.load_data()"
   ]
  },
  {
   "cell_type": "markdown",
   "metadata": {
    "colab_type": "text",
    "id": "gQLSCxxYtVeC"
   },
   "source": [
    "Let's have a look our dataset."
   ]
  },
  {
   "cell_type": "code",
   "execution_count": 2,
   "metadata": {
    "colab": {
     "base_uri": "https://localhost:8080/",
     "height": 34
    },
    "colab_type": "code",
    "executionInfo": {
     "elapsed": 1870,
     "status": "ok",
     "timestamp": 1549723876915,
     "user": {
      "displayName": "Colin Bernet",
      "photoUrl": "https://lh5.googleusercontent.com/-PT0Y40VvMq0/AAAAAAAAAAI/AAAAAAAAFEI/VsJO93FEElA/s64/photo.jpg",
      "userId": "10813031011844134122"
     },
     "user_tz": -60
    },
    "id": "311Pzt80tVeG",
    "outputId": "0f154208-e030-4f2f-805b-d5c561774870"
   },
   "outputs": [
    {
     "name": "stdout",
     "output_type": "stream",
     "text": [
      "(60000, 28, 28) (60000,) (10000, 28, 28) (10000,)\n"
     ]
    }
   ],
   "source": [
    "print x_train.shape, y_train.shape, x_test.shape, y_test.shape"
   ]
  },
  {
   "cell_type": "markdown",
   "metadata": {
    "colab_type": "text",
    "id": "cxrNL8agtVeR"
   },
   "source": [
    "so: \n",
    "\n",
    "* 60,000 training samples and 10,000 test samples\n",
    "* images are 28x28 = 784 pixels, while they are 8x8=64 pixels in the digits dataset of sckikit-learn. We have images with much better resolution, but need networks with many more neurons to process them"
   ]
  },
  {
   "cell_type": "markdown",
   "metadata": {
    "colab_type": "text",
    "id": "FWCU17B1tVeU"
   },
   "source": [
    "Now let's plot some of them. "
   ]
  },
  {
   "cell_type": "code",
   "execution_count": 0,
   "metadata": {
    "colab": {},
    "colab_type": "code",
    "id": "umgVXlOetVeX"
   },
   "outputs": [],
   "source": [
    "import matplotlib.pyplot as plt\n",
    "def plot_img(i):\n",
    "    # plot the image and the target for sample i\n",
    "    plt.imshow(x_train[i])\n",
    "    plt.title(y_train[i])"
   ]
  },
  {
   "cell_type": "code",
   "execution_count": 4,
   "metadata": {
    "colab": {
     "base_uri": "https://localhost:8080/",
     "height": 362
    },
    "colab_type": "code",
    "executionInfo": {
     "elapsed": 557,
     "status": "ok",
     "timestamp": 1549723883322,
     "user": {
      "displayName": "Colin Bernet",
      "photoUrl": "https://lh5.googleusercontent.com/-PT0Y40VvMq0/AAAAAAAAAAI/AAAAAAAAFEI/VsJO93FEElA/s64/photo.jpg",
      "userId": "10813031011844134122"
     },
     "user_tz": -60
    },
    "id": "lf9qi83jtVed",
    "outputId": "98e1ece7-ab57-4ce0-a005-efa31791d41d"
   },
   "outputs": [
    {
     "data": {
      "image/png": "[encoded data removed]",
      "text/plain": [
       "<Figure size 576x396 with 1 Axes>"
      ]
     },
     "metadata": {
      "tags": []
     },
     "output_type": "display_data"
    }
   ],
   "source": [
    "plot_img(2)"
   ]
  },
  {
   "cell_type": "markdown",
   "metadata": {
    "colab_type": "text",
    "id": "rOzBtEWxtVem"
   },
   "source": [
    "Please have a look at other images by repeating the plot above for different samples"
   ]
  },
  {
   "cell_type": "markdown",
   "metadata": {
    "colab_type": "text",
    "id": "wN7sUkhFtVeq"
   },
   "source": [
    "Now we should check the actual data for a given image:"
   ]
  },
  {
   "cell_type": "code",
   "execution_count": 5,
   "metadata": {
    "colab": {
     "base_uri": "https://localhost:8080/",
     "height": 1476
    },
    "colab_type": "code",
    "executionInfo": {
     "elapsed": 428,
     "status": "ok",
     "timestamp": 1549723885621,
     "user": {
      "displayName": "Colin Bernet",
      "photoUrl": "https://lh5.googleusercontent.com/-PT0Y40VvMq0/AAAAAAAAAAI/AAAAAAAAFEI/VsJO93FEElA/s64/photo.jpg",
      "userId": "10813031011844134122"
     },
     "user_tz": -60
    },
    "id": "JUBPdg6NtVeu",
    "outputId": "519d4e2b-398d-4470-ff9b-bc927939cb72"
   },
   "outputs": [
    {
     "data": {
      "text/plain": [
       "array([[  0,   0,   0,   0,   0,   0,   0,   0,   0,   0,   0,   0,   0,\n",
       "          0,   0,   0,   0,   0,   0,   0,   0,   0,   0,   0,   0,   0,\n",
       "          0,   0],\n",
       "       [  0,   0,   0,   0,   0,   0,   0,   0,   0,   0,   0,   0,   0,\n",
       "          0,   0,   0,   0,   0,   0,   0,   0,   0,   0,   0,   0,   0,\n",
       "          0,   0],\n",
       "       [  0,   0,   0,   0,   0,   0,   0,   0,   0,   0,   0,   0,   0,\n",
       "          0,   0,   0,   0,   0,   0,   0,   0,   0,   0,   0,   0,   0,\n",
       "          0,   0],\n",
       "       [  0,   0,   0,   0,   0,   0,   0,   0,   0,   0,   0,   0,   0,\n",
       "          0,   0,   0,   0,   0,   0,   0,   0,   0,   0,   0,   0,   0,\n",
       "          0,   0],\n",
       "       [  0,   0,   0,   0,   0,   0,   0,   0,   0,   0,   0,   0,   0,\n",
       "          0,   0,   0,   0,   0,   0,   0,   0,   0,   0,   0,   0,   0,\n",
       "          0,   0],\n",
       "       [  0,   0,   0,   0,   0,   0,   0,   0,   0,   0,   0,   0,   3,\n",
       "         18,  18,  18, 126, 136, 175,  26, 166, 255, 247, 127,   0,   0,\n",
       "          0,   0],\n",
       "       [  0,   0,   0,   0,   0,   0,   0,   0,  30,  36,  94, 154, 170,\n",
       "        253, 253, 253, 253, 253, 225, 172, 253, 242, 195,  64,   0,   0,\n",
       "          0,   0],\n",
       "       [  0,   0,   0,   0,   0,   0,   0,  49, 238, 253, 253, 253, 253,\n",
       "        253, 253, 253, 253, 251,  93,  82,  82,  56,  39,   0,   0,   0,\n",
       "          0,   0],\n",
       "       [  0,   0,   0,   0,   0,   0,   0,  18, 219, 253, 253, 253, 253,\n",
       "        253, 198, 182, 247, 241,   0,   0,   0,   0,   0,   0,   0,   0,\n",
       "          0,   0],\n",
       "       [  0,   0,   0,   0,   0,   0,   0,   0,  80, 156, 107, 253, 253,\n",
       "        205,  11,   0,  43, 154,   0,   0,   0,   0,   0,   0,   0,   0,\n",
       "          0,   0],\n",
       "       [  0,   0,   0,   0,   0,   0,   0,   0,   0,  14,   1, 154, 253,\n",
       "         90,   0,   0,   0,   0,   0,   0,   0,   0,   0,   0,   0,   0,\n",
       "          0,   0],\n",
       "       [  0,   0,   0,   0,   0,   0,   0,   0,   0,   0,   0, 139, 253,\n",
       "        190,   2,   0,   0,   0,   0,   0,   0,   0,   0,   0,   0,   0,\n",
       "          0,   0],\n",
       "       [  0,   0,   0,   0,   0,   0,   0,   0,   0,   0,   0,  11, 190,\n",
       "        253,  70,   0,   0,   0,   0,   0,   0,   0,   0,   0,   0,   0,\n",
       "          0,   0],\n",
       "       [  0,   0,   0,   0,   0,   0,   0,   0,   0,   0,   0,   0,  35,\n",
       "        241, 225, 160, 108,   1,   0,   0,   0,   0,   0,   0,   0,   0,\n",
       "          0,   0],\n",
       "       [  0,   0,   0,   0,   0,   0,   0,   0,   0,   0,   0,   0,   0,\n",
       "         81, 240, 253, 253, 119,  25,   0,   0,   0,   0,   0,   0,   0,\n",
       "          0,   0],\n",
       "       [  0,   0,   0,   0,   0,   0,   0,   0,   0,   0,   0,   0,   0,\n",
       "          0,  45, 186, 253, 253, 150,  27,   0,   0,   0,   0,   0,   0,\n",
       "          0,   0],\n",
       "       [  0,   0,   0,   0,   0,   0,   0,   0,   0,   0,   0,   0,   0,\n",
       "          0,   0,  16,  93, 252, 253, 187,   0,   0,   0,   0,   0,   0,\n",
       "          0,   0],\n",
       "       [  0,   0,   0,   0,   0,   0,   0,   0,   0,   0,   0,   0,   0,\n",
       "          0,   0,   0,   0, 249, 253, 249,  64,   0,   0,   0,   0,   0,\n",
       "          0,   0],\n",
       "       [  0,   0,   0,   0,   0,   0,   0,   0,   0,   0,   0,   0,   0,\n",
       "          0,  46, 130, 183, 253, 253, 207,   2,   0,   0,   0,   0,   0,\n",
       "          0,   0],\n",
       "       [  0,   0,   0,   0,   0,   0,   0,   0,   0,   0,   0,   0,  39,\n",
       "        148, 229, 253, 253, 253, 250, 182,   0,   0,   0,   0,   0,   0,\n",
       "          0,   0],\n",
       "       [  0,   0,   0,   0,   0,   0,   0,   0,   0,   0,  24, 114, 221,\n",
       "        253, 253, 253, 253, 201,  78,   0,   0,   0,   0,   0,   0,   0,\n",
       "          0,   0],\n",
       "       [  0,   0,   0,   0,   0,   0,   0,   0,  23,  66, 213, 253, 253,\n",
       "        253, 253, 198,  81,   2,   0,   0,   0,   0,   0,   0,   0,   0,\n",
       "          0,   0],\n",
       "       [  0,   0,   0,   0,   0,   0,  18, 171, 219, 253, 253, 253, 253,\n",
       "        195,  80,   9,   0,   0,   0,   0,   0,   0,   0,   0,   0,   0,\n",
       "          0,   0],\n",
       "       [  0,   0,   0,   0,  55, 172, 226, 253, 253, 253, 253, 244, 133,\n",
       "         11,   0,   0,   0,   0,   0,   0,   0,   0,   0,   0,   0,   0,\n",
       "          0,   0],\n",
       "       [  0,   0,   0,   0, 136, 253, 253, 253, 212, 135, 132,  16,   0,\n",
       "          0,   0,   0,   0,   0,   0,   0,   0,   0,   0,   0,   0,   0,\n",
       "          0,   0],\n",
       "       [  0,   0,   0,   0,   0,   0,   0,   0,   0,   0,   0,   0,   0,\n",
       "          0,   0,   0,   0,   0,   0,   0,   0,   0,   0,   0,   0,   0,\n",
       "          0,   0],\n",
       "       [  0,   0,   0,   0,   0,   0,   0,   0,   0,   0,   0,   0,   0,\n",
       "          0,   0,   0,   0,   0,   0,   0,   0,   0,   0,   0,   0,   0,\n",
       "          0,   0],\n",
       "       [  0,   0,   0,   0,   0,   0,   0,   0,   0,   0,   0,   0,   0,\n",
       "          0,   0,   0,   0,   0,   0,   0,   0,   0,   0,   0,   0,   0,\n",
       "          0,   0]], dtype=uint8)"
      ]
     },
     "execution_count": 5,
     "metadata": {
      "tags": []
     },
     "output_type": "execute_result"
    }
   ],
   "source": [
    "x_train[0]"
   ]
  },
  {
   "cell_type": "markdown",
   "metadata": {
    "colab_type": "text",
    "id": "3IDwJz6UtVe4"
   },
   "source": [
    "We see that the values in the image array are between 0 and 255 (the values are coded on 8 bits). \n",
    "\n",
    "This is not adequate. Indeed, for a neural network to work well, it must deal with input values close to unity, and the weights in the network should be kept small. So we're going to normalize all images to values between 0. and 1: "
   ]
  },
  {
   "cell_type": "code",
   "execution_count": 6,
   "metadata": {
    "colab": {
     "base_uri": "https://localhost:8080/",
     "height": 34
    },
    "colab_type": "code",
    "executionInfo": {
     "elapsed": 864,
     "status": "ok",
     "timestamp": 1549723887771,
     "user": {
      "displayName": "Colin Bernet",
      "photoUrl": "https://lh5.googleusercontent.com/-PT0Y40VvMq0/AAAAAAAAAAI/AAAAAAAAFEI/VsJO93FEElA/s64/photo.jpg",
      "userId": "10813031011844134122"
     },
     "user_tz": -60
    },
    "id": "p1bOPi4ltVe8",
    "outputId": "8f62512f-17aa-4b4d-bc11-9c7d9d8f973e"
   },
   "outputs": [
    {
     "name": "stdout",
     "output_type": "stream",
     "text": [
      "1.0\n"
     ]
    }
   ],
   "source": [
    "import numpy as np\n",
    "x_train = np.divide(x_train, 255.)\n",
    "print np.amax(x_train)"
   ]
  },
  {
   "cell_type": "markdown",
   "metadata": {
    "colab_type": "text",
    "id": "votCeFOGtVfI"
   },
   "source": [
    "💡 **Always normalize your input data.**"
   ]
  },
  {
   "cell_type": "code",
   "execution_count": 0,
   "metadata": {
    "colab": {},
    "colab_type": "code",
    "id": "QGVarm2ItVfL"
   },
   "outputs": [],
   "source": [
    "x_test = np.divide(x_test, 255.)"
   ]
  },
  {
   "cell_type": "markdown",
   "metadata": {
    "colab_type": "text",
    "id": "n4QP_ozjtVfR"
   },
   "source": [
    "We should also check our targets: "
   ]
  },
  {
   "cell_type": "code",
   "execution_count": 8,
   "metadata": {
    "colab": {
     "base_uri": "https://localhost:8080/",
     "height": 34
    },
    "colab_type": "code",
    "executionInfo": {
     "elapsed": 448,
     "status": "ok",
     "timestamp": 1549723891183,
     "user": {
      "displayName": "Colin Bernet",
      "photoUrl": "https://lh5.googleusercontent.com/-PT0Y40VvMq0/AAAAAAAAAAI/AAAAAAAAFEI/VsJO93FEElA/s64/photo.jpg",
      "userId": "10813031011844134122"
     },
     "user_tz": -60
    },
    "id": "tWDbXQCotVfT",
    "outputId": "d2a30f4d-159d-4cf4-9a13-d3d06c1f8edf"
   },
   "outputs": [
    {
     "data": {
      "text/plain": [
       "5"
      ]
     },
     "execution_count": 8,
     "metadata": {
      "tags": []
     },
     "output_type": "execute_result"
    }
   ],
   "source": [
    "y_train[0]"
   ]
  },
  {
   "cell_type": "markdown",
   "metadata": {
    "colab_type": "text",
    "id": "wzeZSdx9tVfa"
   },
   "source": [
    "For the reasons explained in [our first keras tutorial](https://thedatafrog.com/first-neural-network-keras/), we're going to perform one-hot encoding on the targets: "
   ]
  },
  {
   "cell_type": "code",
   "execution_count": 9,
   "metadata": {
    "colab": {
     "base_uri": "https://localhost:8080/",
     "height": 52
    },
    "colab_type": "code",
    "executionInfo": {
     "elapsed": 478,
     "status": "ok",
     "timestamp": 1549723893031,
     "user": {
      "displayName": "Colin Bernet",
      "photoUrl": "https://lh5.googleusercontent.com/-PT0Y40VvMq0/AAAAAAAAAAI/AAAAAAAAFEI/VsJO93FEElA/s64/photo.jpg",
      "userId": "10813031011844134122"
     },
     "user_tz": -60
    },
    "id": "1oiAvEIxtVfc",
    "outputId": "69e767fa-cea3-4920-efbc-53aeee0c4062"
   },
   "outputs": [
    {
     "name": "stdout",
     "output_type": "stream",
     "text": [
      "[0. 0. 0. 0. 0. 1. 0. 0. 0. 0.]\n"
     ]
    },
    {
     "name": "stderr",
     "output_type": "stream",
     "text": [
      "Using TensorFlow backend.\n"
     ]
    }
   ],
   "source": [
    "from keras.utils import np_utils\n",
    "y_train = np_utils.to_categorical(y_train, 10)\n",
    "print y_train[0]"
   ]
  },
  {
   "cell_type": "code",
   "execution_count": 0,
   "metadata": {
    "colab": {},
    "colab_type": "code",
    "id": "wFmpoD8MtVfk"
   },
   "outputs": [],
   "source": [
    "y_test = np_utils.to_categorical(y_test, 10)"
   ]
  },
  {
   "cell_type": "markdown",
   "metadata": {
    "colab_type": "text",
    "id": "YMUeoGyxtVfr"
   },
   "source": [
    "## Convolutional Neural Networks"
   ]
  },
  {
   "cell_type": "markdown",
   "metadata": {
    "colab_type": "text",
    "id": "zjZ6JG1LtVft"
   },
   "source": [
    "Classifying handwritten digits in 10 categories is a task of image recognition. \n",
    "\n",
    "Since convolutional neural networks are known to provide excellent performance for image recognition, we're going to use them. \n",
    "\n",
    "A convolutional neural network for image classification typically features the following layers: \n",
    "\n",
    "* the first layers are **convolutional layers**, interleaved with **pooling layers**. The role of these layers is to extract interesting features from the image.\n",
    "* then come  **dense layers**, which interpret the features from the first stage, and provides the probability for the image to belong to each category. \n",
    "\n",
    "In addition to these, **dropout** layers can be added to normalize the network or in other words, to make it more stable \n",
    "\n",
    "Before building the network, I'd like to explain each kind of layer in details. "
   ]
  },
  {
   "cell_type": "markdown",
   "metadata": {
    "colab_type": "text",
    "id": "CYREa4eftVfv"
   },
   "source": [
    "### Convolutional layers"
   ]
  },
  {
   "cell_type": "markdown",
   "metadata": {
    "colab_type": "text",
    "id": "rxK8mGf0tVfx"
   },
   "source": [
    "A 2D [convolutional layer](https://keras.io/layers/convolutional/) scans the input image from left to right and from top to bottom, with a small window, called the **kernel**. In the example below, we use a window of 5x5 pixel. After every step, the image moves right. Here, we use a **stride** of 1 pixel, meaning that we move the window by 1 pixel. When the right border of the window hits the right border of the image, the window is returned to the left and moved down by 1 pixel. \n",
    "\n",
    "![](https://github.com/cbernet/maldives/blob/master/hwd_deeplearning_google/conv_layer.png?raw=1)\n",
    "\n",
    "At each step, the pixels within the window are considered and a number of features are extracted. These features are just some values, and let's say there are **nf** features to be extracted for each position of the window (nf could be of the order of 10). \n",
    "\n",
    "At first these features are completely meaningless, but the network is going to be trained to extract meaningful features. For example, if you do face recognition, the features might be related to the presence of an eye or a nose. We will have a look at that later in the context of our handwritten digit recognition problem. For now, just keep in mind that a fixed number of values are extracted for each window, and that these values are going to make sense to the network (and maybe not to us!).\n",
    "\n",
    "Now, what kind of data do we get out of the convolutional layer? \n",
    "Let **(nx, ny)** be the shape of the picture, so nx and ny are the numbers of pixels in the image along the horizontal and vertical directions, respectively. \n",
    "\n",
    "For each window position, we get 10 features, and the window positions are arranged in a 2D array. So the output of the convolutional layer is a 3D array (ox, oy, nf), where **ox** and **oy** are the numbers of output pixels along the horizontal and vertical directions, and nf is the number of features for each pixel.\n",
    "\n",
    "The user (we) decide on the number of features to be extracted, so we know that. But what about ox and oy? \n",
    "\n",
    "The answer is simple. For example: **ox = nx - kernel_size + 1**. \n",
    "\n",
    "To convince yourself, you can use the simple case below, with an image of size 7x5 and a window of size 3x3.  \n",
    "\n",
    "![](https://github.com/cbernet/maldives/blob/master/hwd_deeplearning_google/conv_layer_simple.png?raw=1)\n",
    "\n",
    "Ok... I have spent three hours in blender trying to model a convolutional layer in 3D as an illustration, and barely managed to model a cube. So I gave up on this software and, as a last resort, went back to my favorite 3D modelling hardware: \n",
    "\n",
    "![](https://github.com/cbernet/maldives/blob/master/hwd_deeplearning_google/crayon.png?raw=1)\n",
    "\n",
    "And here's the result, with shading and transparency! \n",
    "\n",
    "![](https://github.com/cbernet/maldives/blob/master/hwd_deeplearning_google/conv_layer_schema.png?raw=1)"
   ]
  },
  {
   "cell_type": "markdown",
   "metadata": {
    "colab_type": "text",
    "id": "ik0k9DqUtVfz"
   },
   "source": [
    "### Pooling layers\n",
    "\n",
    "Pooling layers are used to reduce the size of the data at a given stage to reduce the complexity of the network. In this case we will use 2D pooling layers, and in particular, the [MaxPooling2D](https://keras.io/layers/pooling/). \n",
    "\n",
    "The keras documentation is a bit scarce, so let's see how it works on a simple image. Here we use [seaborn](https://seaborn.pydata.org/), a high-level interface to matplotlib, to get a heat map with annotations."
   ]
  },
  {
   "cell_type": "code",
   "execution_count": 11,
   "metadata": {
    "colab": {
     "base_uri": "https://localhost:8080/",
     "height": 368
    },
    "colab_type": "code",
    "executionInfo": {
     "elapsed": 705,
     "status": "ok",
     "timestamp": 1549723898031,
     "user": {
      "displayName": "Colin Bernet",
      "photoUrl": "https://lh5.googleusercontent.com/-PT0Y40VvMq0/AAAAAAAAAAI/AAAAAAAAFEI/VsJO93FEElA/s64/photo.jpg",
      "userId": "10813031011844134122"
     },
     "user_tz": -60
    },
    "id": "cAugHvJNtVf3",
    "outputId": "a4dc441c-918f-4db8-903c-06644439bf08"
   },
   "outputs": [
    {
     "data": {
      "text/plain": [
       "<matplotlib.axes._subplots.AxesSubplot at 0x7f2754303810>"
      ]
     },
     "execution_count": 11,
     "metadata": {
      "tags": []
     },
     "output_type": "execute_result"
    },
    {
     "data": {
      "image/png": "[encoded data removed]",
      "text/plain": [
       "<Figure size 576x396 with 2 Axes>"
      ]
     },
     "metadata": {
      "tags": []
     },
     "output_type": "display_data"
    }
   ],
   "source": [
    "import numpy as np\n",
    "import seaborn as sns\n",
    "zero = np.array([[0,0,0,1,0,0,0,0],\n",
    "                 [0,1,2,3,2,1,0,0],\n",
    "                 [0,4,3,1,3,2,0,0],\n",
    "                 [1,5,2,0,0,5,1,0],\n",
    "                 [2,4,0,0,0,6,2,0],\n",
    "                 [1,3,0,0,0,4,1,0],\n",
    "                 [0,2,3,2,1,3,0,0],\n",
    "                 [0,0,3,4,3,1,0,0]])\n",
    "sns.heatmap(zero, annot=True)"
   ]
  },
  {
   "cell_type": "markdown",
   "metadata": {
    "colab_type": "text",
    "id": "RIFajNK8tVgC"
   },
   "source": [
    "Pooling layers are based on a pooling window that moves across the image like the kernel of the convolutional layers. For every position of the pooling window, a number is extracted, for example: \n",
    "\n",
    "* the maximum value in the window (max pooling)\n",
    "* the average value over the window (average pooling)\n",
    "\n",
    "If we use a pooling window of 2x2 pixels, the extracted value would be 1 in the case of max pooling, and 1/4 = 0.25 in the case of average pooling. \n",
    "\n",
    "We're going to use [scikit-image](http://scikit-image.org/docs/dev/auto_examples/numpy_operations/plot_view_as_blocks.html) to perform each pooling operation. By the way I didn't know scikit-image, I just googled it. It's always useful to do that when you're trying to do something in python"
   ]
  },
  {
   "cell_type": "code",
   "execution_count": 0,
   "metadata": {
    "colab": {},
    "colab_type": "code",
    "id": "NzMgr3M1tVgF"
   },
   "outputs": [],
   "source": [
    "from skimage.util import view_as_blocks\n",
    "pooling_window_shape = (2,2)\n",
    "view = view_as_blocks(zero, pooling_window_shape)\n",
    "flatten_view = view.reshape(view.shape[0], view.shape[1], -1)\n",
    "mean_view = np.mean(flatten_view, axis=2)\n",
    "max_view = np.max(flatten_view, axis=2)"
   ]
  },
  {
   "cell_type": "code",
   "execution_count": 13,
   "metadata": {
    "colab": {
     "base_uri": "https://localhost:8080/",
     "height": 368
    },
    "colab_type": "code",
    "executionInfo": {
     "elapsed": 681,
     "status": "ok",
     "timestamp": 1549723900639,
     "user": {
      "displayName": "Colin Bernet",
      "photoUrl": "https://lh5.googleusercontent.com/-PT0Y40VvMq0/AAAAAAAAAAI/AAAAAAAAFEI/VsJO93FEElA/s64/photo.jpg",
      "userId": "10813031011844134122"
     },
     "user_tz": -60
    },
    "id": "OOd8CPMPtVgN",
    "outputId": "b8ca851b-a381-4265-f92c-880fca015b96"
   },
   "outputs": [
    {
     "data": {
      "text/plain": [
       "<matplotlib.axes._subplots.AxesSubplot at 0x7f27522cef50>"
      ]
     },
     "execution_count": 13,
     "metadata": {
      "tags": []
     },
     "output_type": "execute_result"
    },
    {
     "data": {
      "image/png": "[encoded data removed]",
      "text/plain": [
       "<Figure size 576x396 with 2 Axes>"
      ]
     },
     "metadata": {
      "tags": []
     },
     "output_type": "display_data"
    }
   ],
   "source": [
    "sns.heatmap(max_view, annot=True)"
   ]
  },
  {
   "cell_type": "code",
   "execution_count": 14,
   "metadata": {
    "colab": {
     "base_uri": "https://localhost:8080/",
     "height": 368
    },
    "colab_type": "code",
    "executionInfo": {
     "elapsed": 607,
     "status": "ok",
     "timestamp": 1549723902714,
     "user": {
      "displayName": "Colin Bernet",
      "photoUrl": "https://lh5.googleusercontent.com/-PT0Y40VvMq0/AAAAAAAAAAI/AAAAAAAAFEI/VsJO93FEElA/s64/photo.jpg",
      "userId": "10813031011844134122"
     },
     "user_tz": -60
    },
    "id": "_9_yO3pxtVgV",
    "outputId": "e87d4447-e65a-4f97-c955-13fc54d74b35"
   },
   "outputs": [
    {
     "data": {
      "text/plain": [
       "<matplotlib.axes._subplots.AxesSubplot at 0x7f2751d9e410>"
      ]
     },
     "execution_count": 14,
     "metadata": {
      "tags": []
     },
     "output_type": "execute_result"
    },
    {
     "data": {
      "image/png": "[encoded data removed]",
      "text/plain": [
       "<Figure size 576x396 with 2 Axes>"
      ]
     },
     "metadata": {
      "tags": []
     },
     "output_type": "display_data"
    }
   ],
   "source": [
    "sns.heatmap(mean_view, annot=True)"
   ]
  },
  {
   "cell_type": "markdown",
   "metadata": {
    "colab_type": "text",
    "id": "gRi_9ACttVgg"
   },
   "source": [
    "Coming back to our case, we will want to pool after a convolutional layer. The input to the pooling is a 3D array with several values (the features) for each pixel. \n",
    "\n",
    "In this case, the pooling layer will pool each feature separately for each pixel in x and y.\n",
    "\n",
    "So the pooling will reduce the dimensionality along the x and y directions, but the number of features in output will stay the same. That's good, because maxing or averaging over all features would not make any sense. "
   ]
  },
  {
   "cell_type": "markdown",
   "metadata": {
    "colab_type": "text",
    "id": "YrjHyl0FtVgj"
   },
   "source": [
    "### Dense layers\n",
    "\n",
    "A sub-network of dense layers is added at the end of the deep neural network. The aim of this sub-network is to make use of the features extracted by the previous layers to perform the classification.\n",
    "\n",
    "We know about dense layers already, since the tutorial about [handwritten digits with scikit-learn](https://thedatafrog.com/handwritten-digit-recognition-scikit-learn/), so I'm not going to give details here. \n",
    "\n",
    "Two things to note: \n",
    "\n",
    "**1- Dense layers are fully connected to the previous layer.** This means that each neuron in the dense layer has a connection to all neurons in the previous layer. \n",
    "\n",
    "**2- The input to a dense layer is 1D.** But the output of our convolutional (or pooling) layers is 3D... So we will need to flatten the 3D data to 1D, by just serializing all numbers. To do that in keras, we will insert a [Flatten layer](https://keras.io/layers/core/) just before the dense layer. \n",
    "\n",
    "The last layer of our dense sub-network will have a **softmax activation**. This means that the output of neuron $k$ is set to \n",
    "\n",
    "$$y_k = \\frac{e^{z_k}}{\\sum_{i=1}^{N} e^{z_i}}$$,\n",
    "\n",
    "where the sum runs over the N neurons of the layer. \n",
    "\n",
    "Please note that the softmax activation is well suited to classification problems: \n",
    "\n",
    "* the probability for a given class is bound between 0 and 1. \n",
    "* all probabilities sum up to 1\n",
    "\n",
    "### Dropout layers \n",
    "\n",
    "Deep convolutional neural networks are complicated and have a lot of tunable parameters. And for this reason, they can easily turn wrong.\n",
    "\n",
    "During the training, the network can **overfit** the training data. This means that it gets very good at recognizing specific examples of the training data, but looses its ability to recognize new, unseen examples. This is typically due to parts of the network that evolve in a coordinated way and in the wrong direction during training. \n",
    "\n",
    "**Dropout regularization** is a way to reduce this effect  \n",
    "\n",
    "To perform dropout normalization, we will insert an additional layer just before the dense sub-network, containing one neuron per output variable in the previous layer. Each neuron acts as a gate, and is turned on and off randomly during the training. When it's on, the corresponding variable flows to the following layer. When it's off, the variable is blocked, and the neuron outputs zero. \n",
    "\n",
    "In this way, some part of the network, which is always changing, is deactivated, and only the rest is trained.\n",
    "\n",
    "After training, for the evaluation of the unseen test samples, the dropout layer is removed, and the whole network is used. \n",
    "\n",
    "To learn more about dropout regularization, you can refer to the [original paper](http://jmlr.org/papers/volume15/srivastava14a.old/srivastava14a.pdf).\n",
    "\n"
   ]
  },
  {
   "cell_type": "markdown",
   "metadata": {
    "colab_type": "text",
    "id": "pgluyk5btVgk"
   },
   "source": [
    "## Building the network \n",
    "\n",
    "Let's first build a simple convolutional neural network with keras.  "
   ]
  },
  {
   "cell_type": "code",
   "execution_count": 0,
   "metadata": {
    "colab": {},
    "colab_type": "code",
    "id": "UlOHJrMZtVgm"
   },
   "outputs": [],
   "source": [
    "from keras import models\n",
    "from keras import layers"
   ]
  },
  {
   "cell_type": "markdown",
   "metadata": {
    "colab_type": "text",
    "id": "eC6AaklatVgr"
   },
   "source": [
    "We start with the convolutional layer, specifying that: \n",
    "\n",
    "* we want to extract 10 features for each kernel\n",
    "* the kernel size is 4x4\n",
    "* the input images are 28x28 pixels\n",
    "* we use a ReLU activation. We could have used a sigmoid, but the ReLU is way better deep neural networks. If you want to know more, here is a [nice post about ReLUs](https://www.kaggle.com/dansbecker/rectified-linear-units-relu-in-deep-learning)"
   ]
  },
  {
   "cell_type": "code",
   "execution_count": 16,
   "metadata": {
    "colab": {
     "base_uri": "https://localhost:8080/",
     "height": 89
    },
    "colab_type": "code",
    "executionInfo": {
     "elapsed": 657,
     "status": "ok",
     "timestamp": 1549723908741,
     "user": {
      "displayName": "Colin Bernet",
      "photoUrl": "https://lh5.googleusercontent.com/-PT0Y40VvMq0/AAAAAAAAAAI/AAAAAAAAFEI/VsJO93FEElA/s64/photo.jpg",
      "userId": "10813031011844134122"
     },
     "user_tz": -60
    },
    "id": "pu0SWOnUtVgt",
    "outputId": "46d56b14-bf35-4aac-ecfe-98f26fb560e5"
   },
   "outputs": [
    {
     "name": "stdout",
     "output_type": "stream",
     "text": [
      "WARNING:tensorflow:From /usr/local/lib/python2.7/dist-packages/tensorflow/python/framework/op_def_library.py:263: colocate_with (from tensorflow.python.framework.ops) is deprecated and will be removed in a future version.\n",
      "Instructions for updating:\n",
      "Colocations handled automatically by placer.\n"
     ]
    }
   ],
   "source": [
    "model = models.Sequential()\n",
    "model.add( layers.Conv2D(10, 4, input_shape=(28,28,1), activation='relu') )"
   ]
  },
  {
   "cell_type": "markdown",
   "metadata": {
    "colab_type": "text",
    "id": "VEWhpXJItVg5"
   },
   "source": [
    "At this stage, here is a summary of our network:"
   ]
  },
  {
   "cell_type": "code",
   "execution_count": 17,
   "metadata": {
    "colab": {
     "base_uri": "https://localhost:8080/",
     "height": 173
    },
    "colab_type": "code",
    "executionInfo": {
     "elapsed": 435,
     "status": "ok",
     "timestamp": 1549723911345,
     "user": {
      "displayName": "Colin Bernet",
      "photoUrl": "https://lh5.googleusercontent.com/-PT0Y40VvMq0/AAAAAAAAAAI/AAAAAAAAFEI/VsJO93FEElA/s64/photo.jpg",
      "userId": "10813031011844134122"
     },
     "user_tz": -60
    },
    "id": "Zv4dbI6EtVg-",
    "outputId": "e6051920-71ae-42b1-d064-4202ec81e9e7"
   },
   "outputs": [
    {
     "name": "stdout",
     "output_type": "stream",
     "text": [
      "_________________________________________________________________\n",
      "Layer (type)                 Output Shape              Param #   \n",
      "=================================================================\n",
      "conv2d_1 (Conv2D)            (None, 25, 25, 10)        170       \n",
      "=================================================================\n",
      "Total params: 170\n",
      "Trainable params: 170\n",
      "Non-trainable params: 0\n",
      "_________________________________________________________________\n"
     ]
    }
   ],
   "source": [
    "model.summary()"
   ]
  },
  {
   "cell_type": "markdown",
   "metadata": {
    "colab_type": "text",
    "id": "ThENrOldtVhD"
   },
   "source": [
    "In the output shape, we should ignore the first None. Then come the shape of the output array. The x and y dimensions are of size 28 - 4 + 1 = 25, and the last dimension corresponds to the number of features we have required. So far so good. \n",
    "\n",
    "Now, we add the dense neural network, forgetting about dropout for now. As a starting point, let's try a simple dense subnetwork with a single hidden layer of 100 neurons. Before the dense sub-network, the 3D array is flattened."
   ]
  },
  {
   "cell_type": "code",
   "execution_count": 0,
   "metadata": {
    "colab": {},
    "colab_type": "code",
    "id": "rzk7CUDztVhF"
   },
   "outputs": [],
   "source": [
    "model.add( layers.Flatten() )\n",
    "model.add( layers.Dense(100, activation='relu') )"
   ]
  },
  {
   "cell_type": "markdown",
   "metadata": {
    "colab_type": "text",
    "id": "ssV-E3cvtVhG"
   },
   "source": [
    "And finally, our final softmax layer with 10 neurons, for the 10 digit categories:"
   ]
  },
  {
   "cell_type": "code",
   "execution_count": 0,
   "metadata": {
    "colab": {},
    "colab_type": "code",
    "id": "vMUArCqutVhI"
   },
   "outputs": [],
   "source": [
    "model.add( layers.Dense(10, activation='softmax') )"
   ]
  },
  {
   "cell_type": "code",
   "execution_count": 20,
   "metadata": {
    "colab": {
     "base_uri": "https://localhost:8080/",
     "height": 278
    },
    "colab_type": "code",
    "executionInfo": {
     "elapsed": 391,
     "status": "ok",
     "timestamp": 1549723915647,
     "user": {
      "displayName": "Colin Bernet",
      "photoUrl": "https://lh5.googleusercontent.com/-PT0Y40VvMq0/AAAAAAAAAAI/AAAAAAAAFEI/VsJO93FEElA/s64/photo.jpg",
      "userId": "10813031011844134122"
     },
     "user_tz": -60
    },
    "id": "C5Q-4i2QtVhM",
    "outputId": "31ff0ca2-8100-42bb-ac25-0f5e65d27f29"
   },
   "outputs": [
    {
     "name": "stdout",
     "output_type": "stream",
     "text": [
      "_________________________________________________________________\n",
      "Layer (type)                 Output Shape              Param #   \n",
      "=================================================================\n",
      "conv2d_1 (Conv2D)            (None, 25, 25, 10)        170       \n",
      "_________________________________________________________________\n",
      "flatten_1 (Flatten)          (None, 6250)              0         \n",
      "_________________________________________________________________\n",
      "dense_1 (Dense)              (None, 100)               625100    \n",
      "_________________________________________________________________\n",
      "dense_2 (Dense)              (None, 10)                1010      \n",
      "=================================================================\n",
      "Total params: 626,280\n",
      "Trainable params: 626,280\n",
      "Non-trainable params: 0\n",
      "_________________________________________________________________\n"
     ]
    }
   ],
   "source": [
    "model.summary()"
   ]
  },
  {
   "cell_type": "markdown",
   "metadata": {
    "colab_type": "text",
    "id": "PDTkzJortVhR"
   },
   "source": [
    "We have more than 600k parameters to optimize! let's compile the model, and then train it."
   ]
  },
  {
   "cell_type": "code",
   "execution_count": 0,
   "metadata": {
    "colab": {},
    "colab_type": "code",
    "id": "11jVHnhetVhS"
   },
   "outputs": [],
   "source": [
    "from keras.optimizers import RMSprop\n",
    "\n",
    "model.compile(loss='categorical_crossentropy',\n",
    "              optimizer=RMSprop(lr=0.001),\n",
    "              metrics=['acc'])"
   ]
  },
  {
   "cell_type": "code",
   "execution_count": 0,
   "metadata": {
    "colab": {},
    "colab_type": "code",
    "id": "Pz38CbJQtVhY"
   },
   "outputs": [],
   "source": [
    "kx_train = x_train.reshape(len(x_train),28,28,1)\n",
    "kx_test = x_test.reshape(len(x_test),28,28,1)"
   ]
  },
  {
   "cell_type": "code",
   "execution_count": 23,
   "metadata": {
    "colab": {
     "base_uri": "https://localhost:8080/",
     "height": 34
    },
    "colab_type": "code",
    "executionInfo": {
     "elapsed": 419,
     "status": "ok",
     "timestamp": 1549723921103,
     "user": {
      "displayName": "Colin Bernet",
      "photoUrl": "https://lh5.googleusercontent.com/-PT0Y40VvMq0/AAAAAAAAAAI/AAAAAAAAFEI/VsJO93FEElA/s64/photo.jpg",
      "userId": "10813031011844134122"
     },
     "user_tz": -60
    },
    "id": "TH-ETwuEtVhb",
    "outputId": "0fc4e0ee-6c37-41b3-e75e-5fca9cacf591"
   },
   "outputs": [
    {
     "data": {
      "text/plain": [
       "(10000, 28, 28, 1)"
      ]
     },
     "execution_count": 23,
     "metadata": {
      "tags": []
     },
     "output_type": "execute_result"
    }
   ],
   "source": [
    "kx_test.shape"
   ]
  },
  {
   "cell_type": "code",
   "execution_count": 24,
   "metadata": {
    "colab": {
     "base_uri": "https://localhost:8080/",
     "height": 211
    },
    "colab_type": "code",
    "executionInfo": {
     "elapsed": 108919,
     "status": "ok",
     "timestamp": 1549724030706,
     "user": {
      "displayName": "Colin Bernet",
      "photoUrl": "https://lh5.googleusercontent.com/-PT0Y40VvMq0/AAAAAAAAAAI/AAAAAAAAFEI/VsJO93FEElA/s64/photo.jpg",
      "userId": "10813031011844134122"
     },
     "user_tz": -60
    },
    "id": "oihTfuPBtVhd",
    "outputId": "086965da-fd72-428f-d5a2-ce81c0643513"
   },
   "outputs": [
    {
     "name": "stdout",
     "output_type": "stream",
     "text": [
      "WARNING:tensorflow:From /usr/local/lib/python2.7/dist-packages/tensorflow/python/ops/math_ops.py:3066: to_int32 (from tensorflow.python.ops.math_ops) is deprecated and will be removed in a future version.\n",
      "Instructions for updating:\n",
      "Use tf.cast instead.\n",
      "Train on 60000 samples, validate on 10000 samples\n",
      "Epoch 1/3\n",
      "60000/60000 [==============================] - 37s 611us/step - loss: 0.1696 - acc: 0.9489 - val_loss: 0.0698 - val_acc: 0.9777\n",
      "Epoch 2/3\n",
      "60000/60000 [==============================] - 36s 597us/step - loss: 0.0564 - acc: 0.9831 - val_loss: 0.0548 - val_acc: 0.9831\n",
      "Epoch 3/3\n",
      "60000/60000 [==============================] - 36s 593us/step - loss: 0.0372 - acc: 0.9889 - val_loss: 0.0559 - val_acc: 0.9821\n"
     ]
    }
   ],
   "source": [
    "history = model.fit(kx_train, y_train, validation_data=(kx_test,y_test),\n",
    "                    batch_size=50, epochs=3)"
   ]
  },
  {
   "cell_type": "code",
   "execution_count": 0,
   "metadata": {
    "colab": {},
    "colab_type": "code",
    "id": "KyqZxpfuuiXz"
   },
   "outputs": [],
   "source": []
  },
  {
   "cell_type": "markdown",
   "metadata": {
    "colab_type": "text",
    "id": "DqtRR4yUCwHc"
   },
   "source": [
    "We're getting a 98% accuracty, much better than what we got with our simple dense neural network with scikit-learn. \n",
    "\n",
    "But that's not the end of the story, we can get better!"
   ]
  }
 ],
 "metadata": {
  "accelerator": "TPU",
  "colab": {
   "name": "hwd_dl_google.ipynb",
   "provenance": [
    {
     "file_id": "https://github.com/cbernet/maldives/blob/master/hwd_deeplearning_google/hwd_dl_google.ipynb",
     "timestamp": 1549723755354
    }
   ],
   "version": "0.3.2"
  },
  "kernelspec": {
   "display_name": "Python 2",
   "language": "python",
   "name": "python2"
  },
  "language_info": {
   "codemirror_mode": {
    "name": "ipython",
    "version": 2
   },
   "file_extension": ".py",
   "mimetype": "text/x-python",
   "name": "python",
   "nbconvert_exporter": "python",
   "pygments_lexer": "ipython2",
   "version": "2.7.15"
  }
 },
 "nbformat": 4,
 "nbformat_minor": 1
}
