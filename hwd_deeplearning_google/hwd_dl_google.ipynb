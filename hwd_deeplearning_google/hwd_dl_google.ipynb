{
 "cells": [
  {
   "cell_type": "markdown",
   "metadata": {},
   "source": [
    "## About this tutorial \n",
    "\n",
    "To do deep learning in practice, you need a Graphics Processing Unit (GPU). Or the time needed to train your deep neural nets on the CPU of your machine will be prohibitive.\n",
    "\n",
    "We have seen how to [install TensorFlow on Windows](https://thedatafrog.com/install-tensorflow-windows/) and [on Linux](https://thedatafrog.com/install-tensorflow-ubuntu/), which is useful if you have an nvidia graphics card in your PC. \n",
    "\n",
    "But what if you don't? \n",
    "\n",
    "If you just want to learn deep learning, there is a very easy solution that requires **no specific hardware or software**, the Colaboratory platform from Google.\n",
    "\n",
    "Let's try and use it for the first time. \n",
    "\n",
    "In this tutorial, you will learn: \n",
    "\n",
    "* What is the google colaboratory platform and how to use it. \n",
    "* How to set up a first convolutional neural network to recognize handwritten digits with very high accuracy \n",
    "\n",
    "**Prerequisites**\n",
    "\n",
    "* Please have a look at [my first tutorial on handwritten digits](https://thedatafrog.com/handwritten-digit-recognition-scikit-learn/). This will show you which kind of performance we can get without deep learning, and will teach you the basics of numpy, matplotlib, and neural networks. \n",
    "* You should know a bit of [Keras](https://thedatafrog.com/first-neural-network-keras/)\n",
    "\n",
    "\n",
    "## Google Colaboratory Platorm\n",
    "\n",
    "Google set up the [Colaboratory Platform](https://colab.research.google.com/notebooks/welcome.ipynb) to promote the use of TensorFlow for deep learning, and it's awesome! \n",
    "\n",
    "It provides: \n",
    "\n",
    "* python environments with all the necessary software, and you can install more if needed\n",
    "* access to GPUs\n",
    "* excellent tutorials\n",
    "* the possibility to run your own code (and my stuff!)\n",
    "\n",
    "In particular, the author of Keras and google engineer François Chollet set up extremely useful tutorials in which Keras is used as an interface to TensorFlow, such as [this one](https://colab.research.google.com/github/tensorflow/tpu/blob/master/tools/colab/fashion_mnist.ipynb) where we learn how to classify clothing items (trousers, shoes, and whatnot). \n",
    "\n",
    "I do encourage you to dig into the google colab tutorials on your own! I would only advise you to stick to the keras-based tutorials which are much easier. \n",
    "\n",
    "On my side, I intend to use this tool to provide you with original content, and more details about the subjects already covered by google. \n",
    "\n",
    "💡 **To run your jupyter notebook on google colab, you just need to commit it to github, and to provide a specific url to direct google colab to the notebook.**\n",
    "\n",
    "Let's do it for this one, and continue there. \n",
    "\n",
    "The url of this tutorial on github is https://github.com/cbernet/maldives/blob/master/hwd_deeplearning_google/hwd_dl_google.ipynb\n",
    "\n",
    "The url to run it on google colab is https://colab.research.google.com/github/cbernet/maldives/blob/master/hwd_deeplearning_google/hwd_dl_google.ipynb\n",
    "\n",
    "Just follow this link now, and click on CONNECT on the top right side. \n"
   ]
  },
  {
   "cell_type": "code",
   "execution_count": null,
   "metadata": {},
   "outputs": [],
   "source": []
  }
 ],
 "metadata": {
  "kernelspec": {
   "display_name": "Python 2",
   "language": "python",
   "name": "python2"
  },
  "language_info": {
   "codemirror_mode": {
    "name": "ipython",
    "version": 2
   },
   "file_extension": ".py",
   "mimetype": "text/x-python",
   "name": "python",
   "nbconvert_exporter": "python",
   "pygments_lexer": "ipython2",
   "version": "2.7.15"
  }
 },
 "nbformat": 4,
 "nbformat_minor": 2
}
